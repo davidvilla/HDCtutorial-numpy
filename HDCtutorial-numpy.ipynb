{
 "cells": [
  {
   "cell_type": "markdown",
   "metadata": {},
   "source": [
    "## Building a brain for dummies\n",
    "\n",
    "Artificial neural networks, despite the name, are still very different from how brains work. Most networks are trained using top-down gradient-based methods that are not remotely biologically realistic. Training a state-of-the-art deep learning model such as GTP-3 or DALL-E2 can cost millions of dollars and requires specific infrastructure to deploy. Meanwhile, our brains generate general intelligence, trained in an unsupervised way. The brain has an energy consumption of about 20 Watt, which is about three cans of coke a day. Brains are remarkably efficient.\n",
    "\n",
    "Hyperdimensional computing (HDC) is a relatively new approach to artificial intelligence. It tries to mimic some aspects of brain functioning more closely. Here, we compute with hyperdimensional vectors (HDV), which is merely a fancy name for vectors of huge dimensionality, typically 10,000. Each HDV can represent a concept, for example, a word in a language, a position along an axis, an ingredient in a recipe or an atom in a molecule. Using a set of basic, well-chosen operations, one can combine these atomic vectors into new vectors: from words to sentences, from coordinates to a position in space, from ingredients to a recipe. These rules allow the user to create *structured* and *hierarchical* representations of whatever they want to model. \n",
    "\n",
    "Hyperdimensional computing exploits the power of high dimensions by smearing out the information over the complete vector. A distributed, holographic representation allows building a remarkably robust and efficient learning system. Because HDC can be computed using efficient bit-operations, it can be made very energy-efficient. Furthermore, a basic HDC system is relatively easy to implement, as we will see. "
   ]
  },
  {
   "cell_type": "markdown",
   "metadata": {},
   "source": [
    "## Building blocks of HDC\n",
    "\n",
    "To build a HDC system we need the following building blocks:\n",
    "1) HDVs themselves. These HDVs are just ordinary vectors. \n",
    "2) Suited arithmetic operations to manipulate these vectors.\n",
    "3) Metrics to compute similarities between HDVs."
   ]
  },
  {
   "cell_type": "code",
   "execution_count": 28,
   "metadata": {},
   "outputs": [],
   "source": [
    "# base modules\n",
    "import random\n",
    "import numpy as np\n",
    "from numpy.typing import NDArray\n",
    "import matplotlib.pyplot as plt\n",
    "import pandas as pd\n"
   ]
  },
  {
   "cell_type": "code",
   "execution_count": 29,
   "metadata": {},
   "outputs": [],
   "source": [
    "N = 10000"
   ]
  },
  {
   "cell_type": "markdown",
   "metadata": {},
   "source": [
    "### Generating hyperdimensional vectors\n",
    "\n",
    "Hyperdimensional vectors are nothing more than vectors of a very high dimension. The dimensionality should be sufficiently large that one can comfortably store all the concepts of the system of interest. For our system to be robust, the space of vectors should also be large enough that *a randomly-drawn vector is almost surely unrelated to meaningful vectors*. In this notebook, we work with a dimensionality of $N =$ $N."
   ]
  },
  {
   "cell_type": "code",
   "execution_count": 30,
   "metadata": {},
   "outputs": [],
   "source": [
    "def hdv() -> np.ndarray:\n",
    "    return np.random.choice([-1, 1], size=N)"
   ]
  },
  {
   "cell_type": "markdown",
   "metadata": {},
   "source": [
    "We expect about half of the elements of two randomly-chosen vectors to match."
   ]
  },
  {
   "cell_type": "markdown",
   "metadata": {},
   "source": [
    "Our two randomly generated vectors show that about half of the $N$ elements match. The expected value is $N/2$, with a variance ($\\sigma^2$) of $N/4$ and thus the standard deviation ($\\sigma$) is $\\sqrt{N}/2$. \n",
    "\n",
    "> Any two randomly chosen HDV likely share between $(N-3\\sqrt{N})$ and $(N+3\\sqrt{N})$ elements."
   ]
  },
  {
   "cell_type": "markdown",
   "metadata": {},
   "source": [
    "When we need a set of `n` vectors, it makes sense to generate a matrix in one go."
   ]
  },
  {
   "cell_type": "code",
   "execution_count": 31,
   "metadata": {},
   "outputs": [],
   "source": [
    "def hdv_m(rows: int) -> NDArray:\n",
    "    return np.random.choice([-1, 1], size=(rows, N))"
   ]
  },
  {
   "cell_type": "code",
   "execution_count": 32,
   "metadata": {},
   "outputs": [
    {
     "data": {
      "text/plain": [
       "array([ 1, -1, -1, ..., -1,  1,  1], shape=(10000,))"
      ]
     },
     "execution_count": 32,
     "metadata": {},
     "output_type": "execute_result"
    }
   ],
   "source": [
    "x = hdv()  # a HDV!\n",
    "x"
   ]
  },
  {
   "cell_type": "code",
   "execution_count": 33,
   "metadata": {},
   "outputs": [
    {
     "data": {
      "text/plain": [
       "array([ 1,  1,  1, ..., -1, -1, -1], shape=(10000,))"
      ]
     },
     "execution_count": 33,
     "metadata": {},
     "output_type": "execute_result"
    }
   ],
   "source": [
    "y = hdv()  # another one!\n",
    "y"
   ]
  },
  {
   "cell_type": "code",
   "execution_count": 34,
   "metadata": {},
   "outputs": [
    {
     "data": {
      "text/plain": [
       "np.int64(4982)"
      ]
     },
     "execution_count": 34,
     "metadata": {},
     "output_type": "execute_result"
    }
   ],
   "source": [
    "np.sum(x == y)"
   ]
  },
  {
   "cell_type": "code",
   "execution_count": 35,
   "metadata": {},
   "outputs": [
    {
     "data": {
      "text/plain": [
       "array([[ 1,  1,  1, ..., -1,  1,  1],\n",
       "       [ 1, -1, -1, ...,  1, -1,  1],\n",
       "       [ 1,  1, -1, ..., -1,  1, -1],\n",
       "       ...,\n",
       "       [ 1,  1, -1, ..., -1, -1, -1],\n",
       "       [ 1,  1,  1, ...,  1,  1, -1],\n",
       "       [-1,  1,  1, ...,  1,  1,  1]], shape=(10, 10000))"
      ]
     },
     "execution_count": 35,
     "metadata": {},
     "output_type": "execute_result"
    }
   ],
   "source": [
    "V = hdv_m(10)  # each row is a HDV\n",
    "V"
   ]
  },
  {
   "cell_type": "markdown",
   "metadata": {},
   "source": [
    "### Bundling\n",
    "\n",
    "Our first operation is **bundling** or aggregation. This operation combines two or more HDVs in a new HDV that *is similar to all elements in the set*. For bipolar vectors, the element-wise majority fits the bill. Note that when we bundle two HDVs, many of the elements will be set to zero, indicating that the corresponding elements of the parents were in disagreement. "
   ]
  },
  {
   "cell_type": "code",
   "execution_count": 36,
   "metadata": {},
   "outputs": [
    {
     "name": "stdout",
     "output_type": "stream",
     "text": [
      "[1 0]\n"
     ]
    }
   ],
   "source": [
    "def bundle_m(U: NDArray[int]) -> NDArray[int]:\n",
    "    if U.ndim != 2:\n",
    "        raise ValueError(\"U must be a 2d array.\")\n",
    "\n",
    "    return np.sign(np.sum(U, axis=0))\n",
    "\n",
    "# example\n",
    "U = np.array([[1, 2],\n",
    "              [-3, 4],\n",
    "              [50000, -6]])\n",
    "\n",
    "result = bundle_m(U)\n",
    "print(result)"
   ]
  },
  {
   "cell_type": "code",
   "execution_count": 37,
   "metadata": {},
   "outputs": [
    {
     "name": "stdout",
     "output_type": "stream",
     "text": [
      "[1 0]\n"
     ]
    }
   ],
   "source": [
    "def bundle(*xs: NDArray[int]) -> NDArray[int]:\n",
    "    summed = np.add.reduce(xs)\n",
    "    return np.sign(summed)\n",
    "\n",
    "# example\n",
    "xs = bundle(np.array([1, 2]),\n",
    "            np.array([-3, 4]),\n",
    "            np.array([5, -6]))\n",
    "print(xs)"
   ]
  },
  {
   "cell_type": "code",
   "execution_count": 38,
   "metadata": {},
   "outputs": [
    {
     "data": {
      "text/plain": [
       "array([ 1,  0,  0, ..., -1,  0,  0], shape=(10000,))"
      ]
     },
     "execution_count": 38,
     "metadata": {},
     "output_type": "execute_result"
    }
   ],
   "source": [
    "bundle(x, y)"
   ]
  },
  {
   "cell_type": "code",
   "execution_count": 39,
   "metadata": {},
   "outputs": [
    {
     "data": {
      "text/plain": [
       "array([1, 1, 1, ..., 1, 1, 1], shape=(10000,))"
      ]
     },
     "execution_count": 39,
     "metadata": {},
     "output_type": "execute_result"
    }
   ],
   "source": [
    "bundle_m(V)  # bundling makes most sense to find agreement among several HDVs"
   ]
  },
  {
   "cell_type": "markdown",
   "metadata": {},
   "source": [
    "### Binding\n",
    "\n",
    "The second operator is **binding**: combining two vectors in a new vector different from both. Bundling encodes an *interaction* between two concepts. For bipolar vectors, element-wise multiplication has the desired properties. When two elements are in agreement ((-1, -1) or (1, 1)), the result will be 1. When they are in disagreement ((-1, 1) or (-1, 1)), the result will be -1. One typically uses the XOR function for binary vectors, generating a `true` only when the input bits differ."
   ]
  },
  {
   "cell_type": "code",
   "execution_count": 40,
   "metadata": {},
   "outputs": [
    {
     "data": {
      "text/plain": [
       "array([-15, -48])"
      ]
     },
     "execution_count": 40,
     "metadata": {},
     "output_type": "execute_result"
    }
   ],
   "source": [
    "def bind(*xs: NDArray[int]):\n",
    "    return np.multiply.reduce(xs)\n",
    "\n",
    "# example\n",
    "xs = bind(np.array([1, 2]), np.array([-3, 4]), np.array([5, -6]))\n",
    "bind(xs)"
   ]
  },
  {
   "cell_type": "code",
   "execution_count": 41,
   "metadata": {},
   "outputs": [
    {
     "data": {
      "text/plain": [
       "array([ 1, -1, -1, ...,  1, -1, -1], shape=(10000,))"
      ]
     },
     "execution_count": 41,
     "metadata": {},
     "output_type": "execute_result"
    }
   ],
   "source": [
    "bind(x, y)"
   ]
  },
  {
   "cell_type": "markdown",
   "metadata": {},
   "source": [
    "Binding is reversible:"
   ]
  },
  {
   "cell_type": "code",
   "execution_count": 42,
   "metadata": {},
   "outputs": [
    {
     "data": {
      "text/plain": [
       "True"
      ]
     },
     "execution_count": 42,
     "metadata": {},
     "output_type": "execute_result"
    }
   ],
   "source": [
    "np.array_equal(bind(bind(x, y), y),\n",
    "               x)"
   ]
  },
  {
   "cell_type": "code",
   "execution_count": 43,
   "metadata": {},
   "outputs": [
    {
     "data": {
      "text/plain": [
       "True"
      ]
     },
     "execution_count": 43,
     "metadata": {},
     "output_type": "execute_result"
    }
   ],
   "source": [
    "np.array_equal(bind(bind(x, y), x), y)"
   ]
  },
  {
   "cell_type": "markdown",
   "metadata": {},
   "source": [
    "### Shifting\n",
    "\n",
    "Our last operation to create new vectors is a simple unitary one that can create a new HDV from an old one by shifting its elements. For example, this is important when one wants to include positional information (e.g., in a sentence). An easy trick is to perform **shifting** using cyclic permutation. Just move every element of the HDV one or more steps to the right. Elements that fall off are placed back at the beginning. "
   ]
  },
  {
   "cell_type": "code",
   "execution_count": 44,
   "metadata": {},
   "outputs": [
    {
     "data": {
      "text/plain": [
       "array([3, 1, 2])"
      ]
     },
     "execution_count": 44,
     "metadata": {},
     "output_type": "execute_result"
    }
   ],
   "source": [
    "def shift(x, k=1):\n",
    "    return np.roll(x, k)\n",
    "\n",
    "# example\n",
    "shift([1, 2, 3])"
   ]
  },
  {
   "cell_type": "code",
   "execution_count": 45,
   "metadata": {},
   "outputs": [
    {
     "data": {
      "text/plain": [
       "array([ 1,  1, -1, ...,  1, -1,  1], shape=(10000,))"
      ]
     },
     "execution_count": 45,
     "metadata": {},
     "output_type": "execute_result"
    }
   ],
   "source": [
    "shift(x)"
   ]
  },
  {
   "cell_type": "code",
   "execution_count": 46,
   "metadata": {},
   "outputs": [
    {
     "data": {
      "text/plain": [
       "np.int64(4972)"
      ]
     },
     "execution_count": 46,
     "metadata": {},
     "output_type": "execute_result"
    }
   ],
   "source": [
    "  # shifted vector only shares half its elements with the old one\n",
    "sum(a == b for a, b in zip(x, shift(x)))"
   ]
  },
  {
   "cell_type": "markdown",
   "metadata": {},
   "source": [
    "### Similarity between HDVs\n",
    "\n",
    "Finally, we need a way to quantify the **similarity** between two HDVs. This will allow us to detect related patterns. A simple way would be to count the number of matching bits, which we have shown to be expected around $N/2$ for two randomly drawn HDVs. \n",
    "\n",
    "For bipolar HDV, the **cosine similarity** is a good similarity measure:\n",
    "\n",
    "$$\\cos(\\mathbf{x}, \\mathbf{y}) = \\frac{\\mathbf{x} \\cdot \\mathbf{y}}{||\\mathbf{x}||\\, ||\\mathbf{y}||}\\,.$$\n",
    "\n",
    "The cosine similarity always lies between -1 and 1."
   ]
  },
  {
   "cell_type": "code",
   "execution_count": 47,
   "metadata": {},
   "outputs": [
    {
     "data": {
      "text/plain": [
       "np.float64(0.9746318461970762)"
      ]
     },
     "execution_count": 47,
     "metadata": {},
     "output_type": "execute_result"
    }
   ],
   "source": [
    "def cos_similarity(x, y):\n",
    "    return np.dot(x, y) / (np.linalg.norm(x) * np.linalg.norm(y))\n",
    "\n",
    "# example\n",
    "cos_similarity([1, 2, 3],\n",
    "               [4, 5, 6])"
   ]
  },
  {
   "cell_type": "code",
   "execution_count": 48,
   "metadata": {},
   "outputs": [
    {
     "data": {
      "text/plain": [
       "np.float64(-0.0036)"
      ]
     },
     "execution_count": 48,
     "metadata": {},
     "output_type": "execute_result"
    }
   ],
   "source": [
    "cos_similarity(x, y)  # random vectors, so close to 0 (almost orthogonal)"
   ]
  },
  {
   "cell_type": "markdown",
   "metadata": {},
   "source": [
    "### Properties of the operations\n",
    "\n",
    "Bundling, binding, and shifting allow for meaningful computation on the concepts your HDVs represent. One vital property of binding and shifting possess is that they are *reversible*: applying them does not remove any information. Binding also distributes over bundling:"
   ]
  },
  {
   "cell_type": "code",
   "execution_count": 49,
   "metadata": {},
   "outputs": [],
   "source": [
    "z = hdv()"
   ]
  },
  {
   "cell_type": "code",
   "execution_count": 50,
   "metadata": {},
   "outputs": [
    {
     "data": {
      "text/plain": [
       "True"
      ]
     },
     "execution_count": 50,
     "metadata": {},
     "output_type": "execute_result"
    }
   ],
   "source": [
    "np.array_equal(bind(x, bundle(y, z)),\n",
    "               bundle(bind(x, y), bind(x, z)))"
   ]
  },
  {
   "cell_type": "markdown",
   "metadata": {},
   "source": [
    "This means that transforming a bundle of concepts with binding is equivalent to binding every element before bundling."
   ]
  },
  {
   "cell_type": "markdown",
   "metadata": {},
   "source": [
    "Binding also preserves distance and similarity."
   ]
  },
  {
   "cell_type": "code",
   "execution_count": 51,
   "metadata": {},
   "outputs": [
    {
     "data": {
      "text/plain": [
       "True"
      ]
     },
     "execution_count": 51,
     "metadata": {},
     "output_type": "execute_result"
    }
   ],
   "source": [
    "np.array_equal(cos_similarity(x,y),\n",
    "               cos_similarity(bind(x, z), bind(y, z)))"
   ]
  },
  {
   "cell_type": "markdown",
   "metadata": {},
   "source": [
    "Similarly, permutation or shifting also perserves the similarity between two vectors."
   ]
  },
  {
   "cell_type": "code",
   "execution_count": 52,
   "metadata": {},
   "outputs": [
    {
     "data": {
      "text/plain": [
       "True"
      ]
     },
     "execution_count": 52,
     "metadata": {},
     "output_type": "execute_result"
    }
   ],
   "source": [
    "np.array_equal(cos_similarity(x,y),\n",
    "               cos_similarity(shift(x), shift(y)))"
   ]
  },
  {
   "cell_type": "markdown",
   "metadata": {},
   "source": [
    "## The blessing of high dimensions\n",
    "\n",
    "While some machine learning methods reduce dimensionality, the magic of HDC arises by *expanding* the dimensionality. Feature expansion is far from a novel concept: deep learning does it, kernel methods do it etc. Moving your problem to vast dimensionality can make it easier to solve. You could comfortably fit, for example, all of organic chemistry in such a system. The vast majority of the vectors in such a space are uncorrelated, as shown below."
   ]
  },
  {
   "cell_type": "code",
   "execution_count": 96,
   "metadata": {},
   "outputs": [
    {
     "data": {
      "image/png": "[encoded data removed]",
      "text/plain": [
       "<Figure size 800x600 with 1 Axes>"
      ]
     },
     "metadata": {},
     "output_type": "display_data"
    }
   ],
   "source": [
    "data = [cos_similarity(hdv(), hdv()) for _ in range(1000)]\n",
    "\n",
    "plt.figure(figsize=(8,6))\n",
    "seaborn.histplot(data, binrange=(-1, 1), kde=True)\n",
    "\n",
    "# Configuración del gráfico\n",
    "plt.xlabel(\"cos. sim.\")\n",
    "plt.title(\"Cosine similarity between randomly chosen HDVs\")\n",
    "\n",
    "# Línea vertical en 0\n",
    "plt.axvline(x=0, color='red', linewidth=2, label='mean')\n",
    "plt.legend()\n",
    "plt.show()"
   ]
  },
  {
   "cell_type": "markdown",
   "metadata": {},
   "source": [
    "As you can see, most HDVs are approximately orthogonal to one other. This implies  that when two vectors *are* related (share substantially more than 50% of their bits), this is a good indication that they are related semantically! To put a number on this, there is less than a one per cent chance that two random HDVs share more dan 5500 bits, corresponding to a cosine similarity of 0.05. This makes HDC very sensitive to picking up related concepts.\n",
    "\n",
    "Every vector also has billions of neighbours that differ only a few bits. So, x and y may be both related to z, while x and y themselves are unrelated. This property allows one to build semantic links in the space. Bird and sock might be unrelated, but they can be conceptually linked as bird ~ chicken ~ drumstick ~ leg ~ foot ~ sock."
   ]
  },
  {
   "cell_type": "markdown",
   "metadata": {},
   "source": [
    "## Examples\n",
    "\n",
    "Let us explore some didactic examples to show how objects, numbers, colours, and sequences can be represented as HDVs and how we can learn with them."
   ]
  },
  {
   "cell_type": "markdown",
   "metadata": {},
   "source": [
    "### Example 1: colour matching\n",
    "\n",
    "Let us start with a simple toy example. We have a list of emojis, each with associated colours. Can we find the *average* colour per emoji?\n",
    "\n",
    "Take a look at the data."
   ]
  },
  {
   "cell_type": "code",
   "execution_count": 54,
   "metadata": {},
   "outputs": [
    {
     "data": {
      "text/html": [
       "<svg  width=\"2750\" height=\"55\"><rect x=\"0\" y=\"0\" width=\"55\" height=\"55\" style=\"fill:#fff2eb;stroke-width:2;stroke:rgb(255,255,255)\"/><rect x=\"55\" y=\"0\" width=\"55\" height=\"55\" style=\"fill:#ffeee7;stroke-width:2;stroke:rgb(255,255,255)\"/><rect x=\"110\" y=\"0\" width=\"55\" height=\"55\" style=\"fill:#ffebe2;stroke-width:2;stroke:rgb(255,255,255)\"/><rect x=\"165\" y=\"0\" width=\"55\" height=\"55\" style=\"fill:#fee8dd;stroke-width:2;stroke:rgb(255,255,255)\"/><rect x=\"220\" y=\"0\" width=\"55\" height=\"55\" style=\"fill:#fee5d8;stroke-width:2;stroke:rgb(255,255,255)\"/><rect x=\"275\" y=\"0\" width=\"55\" height=\"55\" style=\"fill:#fee1d4;stroke-width:2;stroke:rgb(255,255,255)\"/><rect x=\"330\" y=\"0\" width=\"55\" height=\"55\" style=\"fill:#fedccd;stroke-width:2;stroke:rgb(255,255,255)\"/><rect x=\"385\" y=\"0\" width=\"55\" height=\"55\" style=\"fill:#fdd7c6;stroke-width:2;stroke:rgb(255,255,255)\"/><rect x=\"440\" y=\"0\" width=\"55\" height=\"55\" style=\"fill:#fdd1be;stroke-width:2;stroke:rgb(255,255,255)\"/><rect x=\"495\" y=\"0\" width=\"55\" height=\"55\" style=\"fill:#fdcbb6;stroke-width:2;stroke:rgb(255,255,255)\"/><rect x=\"550\" y=\"0\" width=\"55\" height=\"55\" style=\"fill:#fdc5ae;stroke-width:2;stroke:rgb(255,255,255)\"/><rect x=\"605\" y=\"0\" width=\"55\" height=\"55\" style=\"fill:#fcbfa7;stroke-width:2;stroke:rgb(255,255,255)\"/><rect x=\"660\" y=\"0\" width=\"55\" height=\"55\" style=\"fill:#fcb99f;stroke-width:2;stroke:rgb(255,255,255)\"/><rect x=\"715\" y=\"0\" width=\"55\" height=\"55\" style=\"fill:#fcb398;stroke-width:2;stroke:rgb(255,255,255)\"/><rect x=\"770\" y=\"0\" width=\"55\" height=\"55\" style=\"fill:#fcad90;stroke-width:2;stroke:rgb(255,255,255)\"/><rect x=\"825\" y=\"0\" width=\"55\" height=\"55\" style=\"fill:#fca689;stroke-width:2;stroke:rgb(255,255,255)\"/><rect x=\"880\" y=\"0\" width=\"55\" height=\"55\" style=\"fill:#fca082;stroke-width:2;stroke:rgb(255,255,255)\"/><rect x=\"935\" y=\"0\" width=\"55\" height=\"55\" style=\"fill:#fc997a;stroke-width:2;stroke:rgb(255,255,255)\"/><rect x=\"990\" y=\"0\" width=\"55\" height=\"55\" style=\"fill:#fc9373;stroke-width:2;stroke:rgb(255,255,255)\"/><rect x=\"1045\" y=\"0\" width=\"55\" height=\"55\" style=\"fill:#fc8d6d;stroke-width:2;stroke:rgb(255,255,255)\"/><rect x=\"1100\" y=\"0\" width=\"55\" height=\"55\" style=\"fill:#fc8666;stroke-width:2;stroke:rgb(255,255,255)\"/><rect x=\"1155\" y=\"0\" width=\"55\" height=\"55\" style=\"fill:#fc8060;stroke-width:2;stroke:rgb(255,255,255)\"/><rect x=\"1210\" y=\"0\" width=\"55\" height=\"55\" style=\"fill:#fb7a5a;stroke-width:2;stroke:rgb(255,255,255)\"/><rect x=\"1265\" y=\"0\" width=\"55\" height=\"55\" style=\"fill:#fb7353;stroke-width:2;stroke:rgb(255,255,255)\"/><rect x=\"1320\" y=\"0\" width=\"55\" height=\"55\" style=\"fill:#fb6d4d;stroke-width:2;stroke:rgb(255,255,255)\"/><rect x=\"1375\" y=\"0\" width=\"55\" height=\"55\" style=\"fill:#fa6648;stroke-width:2;stroke:rgb(255,255,255)\"/><rect x=\"1430\" y=\"0\" width=\"55\" height=\"55\" style=\"fill:#f85f43;stroke-width:2;stroke:rgb(255,255,255)\"/><rect x=\"1485\" y=\"0\" width=\"55\" height=\"55\" style=\"fill:#f6583e;stroke-width:2;stroke:rgb(255,255,255)\"/><rect x=\"1540\" y=\"0\" width=\"55\" height=\"55\" style=\"fill:#f4503a;stroke-width:2;stroke:rgb(255,255,255)\"/><rect x=\"1595\" y=\"0\" width=\"55\" height=\"55\" style=\"fill:#f34935;stroke-width:2;stroke:rgb(255,255,255)\"/><rect x=\"1650\" y=\"0\" width=\"55\" height=\"55\" style=\"fill:#f14130;stroke-width:2;stroke:rgb(255,255,255)\"/><rect x=\"1705\" y=\"0\" width=\"55\" height=\"55\" style=\"fill:#ee3a2c;stroke-width:2;stroke:rgb(255,255,255)\"/><rect x=\"1760\" y=\"0\" width=\"55\" height=\"55\" style=\"fill:#e93529;stroke-width:2;stroke:rgb(255,255,255)\"/><rect x=\"1815\" y=\"0\" width=\"55\" height=\"55\" style=\"fill:#e32f27;stroke-width:2;stroke:rgb(255,255,255)\"/><rect x=\"1870\" y=\"0\" width=\"55\" height=\"55\" style=\"fill:#dd2a25;stroke-width:2;stroke:rgb(255,255,255)\"/><rect x=\"1925\" y=\"0\" width=\"55\" height=\"55\" style=\"fill:#d82422;stroke-width:2;stroke:rgb(255,255,255)\"/><rect x=\"1980\" y=\"0\" width=\"55\" height=\"55\" style=\"fill:#d21f20;stroke-width:2;stroke:rgb(255,255,255)\"/><rect x=\"2035\" y=\"0\" width=\"55\" height=\"55\" style=\"fill:#cc191e;stroke-width:2;stroke:rgb(255,255,255)\"/><rect x=\"2090\" y=\"0\" width=\"55\" height=\"55\" style=\"fill:#c7171c;stroke-width:2;stroke:rgb(255,255,255)\"/><rect x=\"2145\" y=\"0\" width=\"55\" height=\"55\" style=\"fill:#c1161b;stroke-width:2;stroke:rgb(255,255,255)\"/><rect x=\"2200\" y=\"0\" width=\"55\" height=\"55\" style=\"fill:#bb141a;stroke-width:2;stroke:rgb(255,255,255)\"/><rect x=\"2255\" y=\"0\" width=\"55\" height=\"55\" style=\"fill:#b51318;stroke-width:2;stroke:rgb(255,255,255)\"/><rect x=\"2310\" y=\"0\" width=\"55\" height=\"55\" style=\"fill:#af1117;stroke-width:2;stroke:rgb(255,255,255)\"/><rect x=\"2365\" y=\"0\" width=\"55\" height=\"55\" style=\"fill:#a91016;stroke-width:2;stroke:rgb(255,255,255)\"/><rect x=\"2420\" y=\"0\" width=\"55\" height=\"55\" style=\"fill:#a10e15;stroke-width:2;stroke:rgb(255,255,255)\"/><rect x=\"2475\" y=\"0\" width=\"55\" height=\"55\" style=\"fill:#980c13;stroke-width:2;stroke:rgb(255,255,255)\"/><rect x=\"2530\" y=\"0\" width=\"55\" height=\"55\" style=\"fill:#8e0912;stroke-width:2;stroke:rgb(255,255,255)\"/><rect x=\"2585\" y=\"0\" width=\"55\" height=\"55\" style=\"fill:#840711;stroke-width:2;stroke:rgb(255,255,255)\"/><rect x=\"2640\" y=\"0\" width=\"55\" height=\"55\" style=\"fill:#7a0510;stroke-width:2;stroke:rgb(255,255,255)\"/><rect x=\"2695\" y=\"0\" width=\"55\" height=\"55\" style=\"fill:#71020e;stroke-width:2;stroke:rgb(255,255,255)\"/></svg>"
      ],
      "text/plain": [
       "[(0.9993848519800077, 0.9478662053056517, 0.922722029988466),\n",
       " (0.9987697039600154, 0.9349480968858132, 0.9042675893886967),\n",
       " (0.9981545559400231, 0.9220299884659746, 0.8858131487889274),\n",
       " (0.9975394079200308, 0.9091118800461361, 0.867358708189158),\n",
       " (0.9969242599000384, 0.8961937716262975, 0.8489042675893886),\n",
       " (0.9963091118800461, 0.883275663206459, 0.8304498269896193),\n",
       " (0.9953094963475586, 0.8642060745866974, 0.8046905036524413),\n",
       " (0.994079200307574, 0.8414455978469819, 0.7745482506728181),\n",
       " (0.9928489042675894, 0.8186851211072664, 0.7444059976931949),\n",
       " (0.9916186082276048, 0.795924644367551, 0.7142637447135717),\n",
       " (0.9903883121876201, 0.7731641676278354, 0.6841214917339484),\n",
       " (0.9891580161476355, 0.75040369088812, 0.6539792387543253),\n",
       " (0.9882352941176471, 0.7270280661284121, 0.6241445597846982),\n",
       " (0.9882352941176471, 0.7018069973087273, 0.5952326028450596),\n",
       " (0.9882352941176471, 0.6765859284890426, 0.566320645905421),\n",
       " (0.9882352941176471, 0.6513648596693579, 0.5374086889657824),\n",
       " (0.9882352941176471, 0.6261437908496732, 0.5084967320261438),\n",
       " (0.9882352941176471, 0.6009227220299885, 0.4795847750865053),\n",
       " (0.9882352941176471, 0.5757016532103036, 0.4506728181468666),\n",
       " (0.9876970396001539, 0.5510188389081122, 0.4255286428296809),\n",
       " (0.9870818915801615, 0.5264129181084198, 0.40092272202998847),\n",
       " (0.9864667435601692, 0.5018069973087274, 0.3763168012302961),\n",
       " (0.9858515955401769, 0.477201076509035, 0.3517108804306036),\n",
       " (0.9852364475201845, 0.4525951557093426, 0.32710495963091124),\n",
       " (0.9846212995001922, 0.42798923490965013, 0.30249903883121876),\n",
       " (0.9806228373702421, 0.40123029603998467, 0.2809688581314879),\n",
       " (0.9732410611303345, 0.37231833910034606, 0.2625144175317186),\n",
       " (0.9658592848904267, 0.34340638216070746, 0.24405997693194925),\n",
       " (0.9584775086505191, 0.31449442522106885, 0.22560553633217995),\n",
       " (0.9510957324106113, 0.2855824682814302, 0.2071510957324106),\n",
       " (0.9437139561707035, 0.25667051134179164, 0.18869665513264128),\n",
       " (0.9344867358708189, 0.2286812764321415, 0.17139561707035755),\n",
       " (0.9123414071510957, 0.2071510957324106, 0.1621683967704729),\n",
       " (0.8901960784313725, 0.18562091503267975, 0.15294117647058825),\n",
       " (0.8680507497116493, 0.16409073433294888, 0.14371395617070357),\n",
       " (0.8459054209919262, 0.14256055363321812, 0.13448673587081897),\n",
       " (0.8237600922722029, 0.12103037293348712, 0.12525951557093426),\n",
       " (0.8016147635524797, 0.09950019223375625, 0.1160322952710496),\n",
       " (0.7785467128027681, 0.08996539792387544, 0.11003460207612456),\n",
       " (0.7551710880430603, 0.08442906574394464, 0.10511341791618607),\n",
       " (0.7317954632833525, 0.07889273356401384, 0.10019223375624758),\n",
       " (0.7084198385236448, 0.07335640138408304, 0.09527104959630911),\n",
       " (0.685044213763937, 0.06782006920415225, 0.09034986543637061),\n",
       " (0.6616685890042292, 0.06228373702422145, 0.08542868127643213),\n",
       " (0.6327566320645905, 0.05536332179930796, 0.08050749711649365),\n",
       " (0.5946174548250673, 0.04613610149942329, 0.07558631295655516),\n",
       " (0.556478277585544, 0.03690888119953864, 0.07066512879661667),\n",
       " (0.5183391003460208, 0.02768166089965398, 0.06574394463667818),\n",
       " (0.4801999231064975, 0.01845444059976932, 0.06082276047673971),\n",
       " (0.44206074586697425, 0.00922722029988466, 0.05590157631680122)]"
      ]
     },
     "execution_count": 54,
     "metadata": {},
     "output_type": "execute_result"
    }
   ],
   "source": [
    "import seaborn\n",
    "\n",
    "n_colors = 50\n",
    "reds = seaborn.color_palette(\"Reds\", n_colors=n_colors)\n",
    "blues = seaborn.color_palette(\"Blues\", n_colors=n_colors)\n",
    "greens = seaborn.color_palette(\"Greens\", n_colors=n_colors)\n",
    "oranges = seaborn.color_palette(\"Oranges\", n_colors=n_colors)\n",
    "greys = seaborn.color_palette(\"Greys\", n_colors=n_colors)\n",
    "yellows = seaborn.light_palette(\"Yellow\", n_colors=n_colors)\n",
    "whites = seaborn.light_palette(\"White\", n_colors=n_colors)\n",
    "\n",
    "emojis_colors = {\n",
    "    '🚒': reds,\n",
    "    '💦': blues,\n",
    "    '🌱': greens,\n",
    "    '🌅': oranges,\n",
    "    '🐺': greys,\n",
    "    '🍌': yellows,\n",
    "    '🥚': whites\n",
    "}\n",
    "\n",
    "emojis = list(emojis_colors.keys())\n",
    "\n",
    "toy_data1 = [(emoji := random.choice(emojis), random.choice(emojis_colors[emoji]))\n",
    "             for _ in range(100)]\n",
    "\n",
    "reds"
   ]
  },
  {
   "cell_type": "markdown",
   "metadata": {},
   "source": [
    "Encoding emojis is easy! There are only 7 of them. Let us give them all a unique HDV."
   ]
  },
  {
   "cell_type": "code",
   "execution_count": 55,
   "metadata": {},
   "outputs": [
    {
     "data": {
      "text/plain": [
       "['🚒', '💦', '🌱', '🌅', '🐺', '🍌', '🥚']"
      ]
     },
     "execution_count": 55,
     "metadata": {},
     "output_type": "execute_result"
    }
   ],
   "source": [
    "emojis"
   ]
  },
  {
   "cell_type": "code",
   "execution_count": 56,
   "metadata": {},
   "outputs": [],
   "source": [
    "emojis_hdvs = {emoji: hdv() for emoji in emojis}"
   ]
  },
  {
   "cell_type": "markdown",
   "metadata": {},
   "source": [
    "Colors are a bit more tricky. This is an example color:"
   ]
  },
  {
   "cell_type": "code",
   "execution_count": 57,
   "metadata": {},
   "outputs": [
    {
     "data": {
      "text/plain": [
       "array([0.72799079, 0.92992741, 0.70696035])"
      ]
     },
     "execution_count": 57,
     "metadata": {},
     "output_type": "execute_result"
    }
   ],
   "source": [
    "def randcol():\n",
    "    return np.random.rand(3)\n",
    "\n",
    "def show_color(color):\n",
    "    plt.figure(figsize=(1,1))\n",
    "    plt.imshow([[color]])\n",
    "    plt.axis('off')\n",
    "    plt.show()\n",
    "\n",
    "acolor = randcol()\n",
    "acolor\n"
   ]
  },
  {
   "cell_type": "code",
   "execution_count": 58,
   "metadata": {},
   "outputs": [
    {
     "data": {
      "image/png": "[encoded data removed]",
      "text/plain": [
       "<Figure size 100x100 with 1 Axes>"
      ]
     },
     "metadata": {},
     "output_type": "display_data"
    }
   ],
   "source": [
    "show_color(acolor)"
   ]
  },
  {
   "cell_type": "markdown",
   "metadata": {},
   "source": [
    "We see that a colour can be represented by three numbers: the fractions of red, green, and blue. Every value is just a number between 0 and 1. If we can construct an embedding for numbers, we can represent a colour as a *binding* of three numbers.\n",
    "\n",
    "Representing numbers in a fixed interval $[a, b]$ with HDVs is relatively easy. We first divide the interval into $k$ equal parts. Then, we generate an HDV representing the lower bound of the interval. We replace a fraction of $1/k$ of the previous vector for every step with fresh random bits."
   ]
  },
  {
   "cell_type": "code",
   "execution_count": 59,
   "metadata": {},
   "outputs": [],
   "source": [
    "def range_hdvs(steps):\n",
    "    k = len(steps) - 1\n",
    "\n",
    "    V = hdv_m(k + 1)  # V size is (k+1)xN\n",
    "\n",
    "    for i in range(1, k + 1):  # for each other row/step\n",
    "        for j in range(N):     # for each column\n",
    "            V[i, j] = -V[i-1, j] if random.random() < (1 / k) else V[i-1, j]\n",
    "\n",
    "    return V\n"
   ]
  },
  {
   "cell_type": "markdown",
   "metadata": {},
   "source": [
    "Let us represent a color chanel from 0 to 1 in steps of 0.05. This resolution should suffice."
   ]
  },
  {
   "cell_type": "code",
   "execution_count": 60,
   "metadata": {},
   "outputs": [],
   "source": [
    "color_steps = np.arange(0, 1.05, 0.05)"
   ]
  },
  {
   "cell_type": "code",
   "execution_count": 61,
   "metadata": {},
   "outputs": [],
   "source": [
    "reds_hdv = range_hdvs(color_steps)"
   ]
  },
  {
   "cell_type": "markdown",
   "metadata": {},
   "source": [
    "Take a look at the correlation. HDVs that represent numbers closer to onother are more similar:"
   ]
  },
  {
   "cell_type": "code",
   "execution_count": 62,
   "metadata": {},
   "outputs": [
    {
     "data": {
      "text/html": [
       "<div>\n",
       "<style scoped>\n",
       "    .dataframe tbody tr th:only-of-type {\n",
       "        vertical-align: middle;\n",
       "    }\n",
       "\n",
       "    .dataframe tbody tr th {\n",
       "        vertical-align: top;\n",
       "    }\n",
       "\n",
       "    .dataframe thead th {\n",
       "        text-align: right;\n",
       "    }\n",
       "</style>\n",
       "<table border=\"1\" class=\"dataframe\">\n",
       "  <thead>\n",
       "    <tr style=\"text-align: right;\">\n",
       "      <th></th>\n",
       "      <th>V0</th>\n",
       "      <th>V1</th>\n",
       "      <th>V2</th>\n",
       "      <th>V3</th>\n",
       "      <th>V4</th>\n",
       "      <th>V5</th>\n",
       "      <th>V6</th>\n",
       "      <th>V7</th>\n",
       "      <th>V8</th>\n",
       "      <th>V9</th>\n",
       "      <th>...</th>\n",
       "      <th>V11</th>\n",
       "      <th>V12</th>\n",
       "      <th>V13</th>\n",
       "      <th>V14</th>\n",
       "      <th>V15</th>\n",
       "      <th>V16</th>\n",
       "      <th>V17</th>\n",
       "      <th>V18</th>\n",
       "      <th>V19</th>\n",
       "      <th>V20</th>\n",
       "    </tr>\n",
       "  </thead>\n",
       "  <tbody>\n",
       "    <tr>\n",
       "      <th>V0</th>\n",
       "      <td>0.1202</td>\n",
       "      <td>0.1322</td>\n",
       "      <td>0.1414</td>\n",
       "      <td>0.1544</td>\n",
       "      <td>0.1780</td>\n",
       "      <td>0.1878</td>\n",
       "      <td>0.2100</td>\n",
       "      <td>0.2386</td>\n",
       "      <td>0.2742</td>\n",
       "      <td>0.3040</td>\n",
       "      <td>...</td>\n",
       "      <td>0.3698</td>\n",
       "      <td>0.4134</td>\n",
       "      <td>0.4738</td>\n",
       "      <td>0.5286</td>\n",
       "      <td>0.5932</td>\n",
       "      <td>0.6530</td>\n",
       "      <td>0.7328</td>\n",
       "      <td>0.8082</td>\n",
       "      <td>0.8956</td>\n",
       "      <td>1.0000</td>\n",
       "    </tr>\n",
       "    <tr>\n",
       "      <th>V1</th>\n",
       "      <td>0.1282</td>\n",
       "      <td>0.1390</td>\n",
       "      <td>0.1514</td>\n",
       "      <td>0.1676</td>\n",
       "      <td>0.1948</td>\n",
       "      <td>0.2066</td>\n",
       "      <td>0.2320</td>\n",
       "      <td>0.2622</td>\n",
       "      <td>0.2974</td>\n",
       "      <td>0.3268</td>\n",
       "      <td>...</td>\n",
       "      <td>0.3998</td>\n",
       "      <td>0.4514</td>\n",
       "      <td>0.5174</td>\n",
       "      <td>0.5838</td>\n",
       "      <td>0.6548</td>\n",
       "      <td>0.7234</td>\n",
       "      <td>0.8144</td>\n",
       "      <td>0.8998</td>\n",
       "      <td>1.0000</td>\n",
       "      <td>0.8956</td>\n",
       "    </tr>\n",
       "    <tr>\n",
       "      <th>V2</th>\n",
       "      <td>0.1444</td>\n",
       "      <td>0.1580</td>\n",
       "      <td>0.1732</td>\n",
       "      <td>0.1898</td>\n",
       "      <td>0.2158</td>\n",
       "      <td>0.2300</td>\n",
       "      <td>0.2602</td>\n",
       "      <td>0.2944</td>\n",
       "      <td>0.3368</td>\n",
       "      <td>0.3734</td>\n",
       "      <td>...</td>\n",
       "      <td>0.4488</td>\n",
       "      <td>0.5052</td>\n",
       "      <td>0.5784</td>\n",
       "      <td>0.6520</td>\n",
       "      <td>0.7306</td>\n",
       "      <td>0.8080</td>\n",
       "      <td>0.9062</td>\n",
       "      <td>1.0000</td>\n",
       "      <td>0.8998</td>\n",
       "      <td>0.8082</td>\n",
       "    </tr>\n",
       "    <tr>\n",
       "      <th>V3</th>\n",
       "      <td>0.1618</td>\n",
       "      <td>0.1754</td>\n",
       "      <td>0.1954</td>\n",
       "      <td>0.2120</td>\n",
       "      <td>0.2396</td>\n",
       "      <td>0.2586</td>\n",
       "      <td>0.2900</td>\n",
       "      <td>0.3286</td>\n",
       "      <td>0.3694</td>\n",
       "      <td>0.4116</td>\n",
       "      <td>...</td>\n",
       "      <td>0.5022</td>\n",
       "      <td>0.5634</td>\n",
       "      <td>0.6410</td>\n",
       "      <td>0.7210</td>\n",
       "      <td>0.8064</td>\n",
       "      <td>0.8906</td>\n",
       "      <td>1.0000</td>\n",
       "      <td>0.9062</td>\n",
       "      <td>0.8144</td>\n",
       "      <td>0.7328</td>\n",
       "    </tr>\n",
       "    <tr>\n",
       "      <th>V4</th>\n",
       "      <td>0.1760</td>\n",
       "      <td>0.1912</td>\n",
       "      <td>0.2168</td>\n",
       "      <td>0.2362</td>\n",
       "      <td>0.2722</td>\n",
       "      <td>0.2952</td>\n",
       "      <td>0.3318</td>\n",
       "      <td>0.3748</td>\n",
       "      <td>0.4152</td>\n",
       "      <td>0.4630</td>\n",
       "      <td>...</td>\n",
       "      <td>0.5652</td>\n",
       "      <td>0.6336</td>\n",
       "      <td>0.7188</td>\n",
       "      <td>0.8100</td>\n",
       "      <td>0.9054</td>\n",
       "      <td>1.0000</td>\n",
       "      <td>0.8906</td>\n",
       "      <td>0.8080</td>\n",
       "      <td>0.7234</td>\n",
       "      <td>0.6530</td>\n",
       "    </tr>\n",
       "    <tr>\n",
       "      <th>V5</th>\n",
       "      <td>0.1990</td>\n",
       "      <td>0.2158</td>\n",
       "      <td>0.2430</td>\n",
       "      <td>0.2640</td>\n",
       "      <td>0.3032</td>\n",
       "      <td>0.3314</td>\n",
       "      <td>0.3704</td>\n",
       "      <td>0.4194</td>\n",
       "      <td>0.4622</td>\n",
       "      <td>0.5160</td>\n",
       "      <td>...</td>\n",
       "      <td>0.6314</td>\n",
       "      <td>0.7050</td>\n",
       "      <td>0.7958</td>\n",
       "      <td>0.8978</td>\n",
       "      <td>1.0000</td>\n",
       "      <td>0.9054</td>\n",
       "      <td>0.8064</td>\n",
       "      <td>0.7306</td>\n",
       "      <td>0.6548</td>\n",
       "      <td>0.5932</td>\n",
       "    </tr>\n",
       "    <tr>\n",
       "      <th>V6</th>\n",
       "      <td>0.2216</td>\n",
       "      <td>0.2436</td>\n",
       "      <td>0.2748</td>\n",
       "      <td>0.3014</td>\n",
       "      <td>0.3450</td>\n",
       "      <td>0.3804</td>\n",
       "      <td>0.4238</td>\n",
       "      <td>0.4760</td>\n",
       "      <td>0.5248</td>\n",
       "      <td>0.5834</td>\n",
       "      <td>...</td>\n",
       "      <td>0.7116</td>\n",
       "      <td>0.7908</td>\n",
       "      <td>0.8892</td>\n",
       "      <td>1.0000</td>\n",
       "      <td>0.8978</td>\n",
       "      <td>0.8100</td>\n",
       "      <td>0.7210</td>\n",
       "      <td>0.6520</td>\n",
       "      <td>0.5838</td>\n",
       "      <td>0.5286</td>\n",
       "    </tr>\n",
       "    <tr>\n",
       "      <th>V7</th>\n",
       "      <td>0.2428</td>\n",
       "      <td>0.2688</td>\n",
       "      <td>0.3064</td>\n",
       "      <td>0.3354</td>\n",
       "      <td>0.3818</td>\n",
       "      <td>0.4252</td>\n",
       "      <td>0.4718</td>\n",
       "      <td>0.5332</td>\n",
       "      <td>0.5892</td>\n",
       "      <td>0.6546</td>\n",
       "      <td>...</td>\n",
       "      <td>0.8024</td>\n",
       "      <td>0.8920</td>\n",
       "      <td>1.0000</td>\n",
       "      <td>0.8892</td>\n",
       "      <td>0.7958</td>\n",
       "      <td>0.7188</td>\n",
       "      <td>0.6410</td>\n",
       "      <td>0.5784</td>\n",
       "      <td>0.5174</td>\n",
       "      <td>0.4738</td>\n",
       "    </tr>\n",
       "    <tr>\n",
       "      <th>V8</th>\n",
       "      <td>0.2724</td>\n",
       "      <td>0.3036</td>\n",
       "      <td>0.3408</td>\n",
       "      <td>0.3746</td>\n",
       "      <td>0.4250</td>\n",
       "      <td>0.4768</td>\n",
       "      <td>0.5282</td>\n",
       "      <td>0.5940</td>\n",
       "      <td>0.6604</td>\n",
       "      <td>0.7346</td>\n",
       "      <td>...</td>\n",
       "      <td>0.8996</td>\n",
       "      <td>1.0000</td>\n",
       "      <td>0.8920</td>\n",
       "      <td>0.7908</td>\n",
       "      <td>0.7050</td>\n",
       "      <td>0.6336</td>\n",
       "      <td>0.5634</td>\n",
       "      <td>0.5052</td>\n",
       "      <td>0.4514</td>\n",
       "      <td>0.4134</td>\n",
       "    </tr>\n",
       "    <tr>\n",
       "      <th>V9</th>\n",
       "      <td>0.3112</td>\n",
       "      <td>0.3484</td>\n",
       "      <td>0.3904</td>\n",
       "      <td>0.4294</td>\n",
       "      <td>0.4838</td>\n",
       "      <td>0.5408</td>\n",
       "      <td>0.5974</td>\n",
       "      <td>0.6648</td>\n",
       "      <td>0.7380</td>\n",
       "      <td>0.8178</td>\n",
       "      <td>...</td>\n",
       "      <td>1.0000</td>\n",
       "      <td>0.8996</td>\n",
       "      <td>0.8024</td>\n",
       "      <td>0.7116</td>\n",
       "      <td>0.6314</td>\n",
       "      <td>0.5652</td>\n",
       "      <td>0.5022</td>\n",
       "      <td>0.4488</td>\n",
       "      <td>0.3998</td>\n",
       "      <td>0.3698</td>\n",
       "    </tr>\n",
       "    <tr>\n",
       "      <th>V10</th>\n",
       "      <td>0.3496</td>\n",
       "      <td>0.3884</td>\n",
       "      <td>0.4340</td>\n",
       "      <td>0.4778</td>\n",
       "      <td>0.5366</td>\n",
       "      <td>0.5964</td>\n",
       "      <td>0.6590</td>\n",
       "      <td>0.7352</td>\n",
       "      <td>0.8156</td>\n",
       "      <td>0.9014</td>\n",
       "      <td>...</td>\n",
       "      <td>0.9040</td>\n",
       "      <td>0.8100</td>\n",
       "      <td>0.7240</td>\n",
       "      <td>0.6444</td>\n",
       "      <td>0.5734</td>\n",
       "      <td>0.5140</td>\n",
       "      <td>0.4590</td>\n",
       "      <td>0.4152</td>\n",
       "      <td>0.3682</td>\n",
       "      <td>0.3402</td>\n",
       "    </tr>\n",
       "    <tr>\n",
       "      <th>V11</th>\n",
       "      <td>0.3898</td>\n",
       "      <td>0.4342</td>\n",
       "      <td>0.4838</td>\n",
       "      <td>0.5320</td>\n",
       "      <td>0.5960</td>\n",
       "      <td>0.6606</td>\n",
       "      <td>0.7296</td>\n",
       "      <td>0.8142</td>\n",
       "      <td>0.9054</td>\n",
       "      <td>1.0000</td>\n",
       "      <td>...</td>\n",
       "      <td>0.8178</td>\n",
       "      <td>0.7346</td>\n",
       "      <td>0.6546</td>\n",
       "      <td>0.5834</td>\n",
       "      <td>0.5160</td>\n",
       "      <td>0.4630</td>\n",
       "      <td>0.4116</td>\n",
       "      <td>0.3734</td>\n",
       "      <td>0.3268</td>\n",
       "      <td>0.3040</td>\n",
       "    </tr>\n",
       "    <tr>\n",
       "      <th>V12</th>\n",
       "      <td>0.4312</td>\n",
       "      <td>0.4828</td>\n",
       "      <td>0.5368</td>\n",
       "      <td>0.5902</td>\n",
       "      <td>0.6602</td>\n",
       "      <td>0.7308</td>\n",
       "      <td>0.8090</td>\n",
       "      <td>0.8988</td>\n",
       "      <td>1.0000</td>\n",
       "      <td>0.9054</td>\n",
       "      <td>...</td>\n",
       "      <td>0.7380</td>\n",
       "      <td>0.6604</td>\n",
       "      <td>0.5892</td>\n",
       "      <td>0.5248</td>\n",
       "      <td>0.4622</td>\n",
       "      <td>0.4152</td>\n",
       "      <td>0.3694</td>\n",
       "      <td>0.3368</td>\n",
       "      <td>0.2974</td>\n",
       "      <td>0.2742</td>\n",
       "    </tr>\n",
       "    <tr>\n",
       "      <th>V13</th>\n",
       "      <td>0.4772</td>\n",
       "      <td>0.5304</td>\n",
       "      <td>0.5948</td>\n",
       "      <td>0.6546</td>\n",
       "      <td>0.7334</td>\n",
       "      <td>0.8120</td>\n",
       "      <td>0.9018</td>\n",
       "      <td>1.0000</td>\n",
       "      <td>0.8988</td>\n",
       "      <td>0.8142</td>\n",
       "      <td>...</td>\n",
       "      <td>0.6648</td>\n",
       "      <td>0.5940</td>\n",
       "      <td>0.5332</td>\n",
       "      <td>0.4760</td>\n",
       "      <td>0.4194</td>\n",
       "      <td>0.3748</td>\n",
       "      <td>0.3286</td>\n",
       "      <td>0.2944</td>\n",
       "      <td>0.2622</td>\n",
       "      <td>0.2386</td>\n",
       "    </tr>\n",
       "    <tr>\n",
       "      <th>V14</th>\n",
       "      <td>0.5310</td>\n",
       "      <td>0.5894</td>\n",
       "      <td>0.6602</td>\n",
       "      <td>0.7320</td>\n",
       "      <td>0.8188</td>\n",
       "      <td>0.9046</td>\n",
       "      <td>1.0000</td>\n",
       "      <td>0.9018</td>\n",
       "      <td>0.8090</td>\n",
       "      <td>0.7296</td>\n",
       "      <td>...</td>\n",
       "      <td>0.5974</td>\n",
       "      <td>0.5282</td>\n",
       "      <td>0.4718</td>\n",
       "      <td>0.4238</td>\n",
       "      <td>0.3704</td>\n",
       "      <td>0.3318</td>\n",
       "      <td>0.2900</td>\n",
       "      <td>0.2602</td>\n",
       "      <td>0.2320</td>\n",
       "      <td>0.2100</td>\n",
       "    </tr>\n",
       "    <tr>\n",
       "      <th>V15</th>\n",
       "      <td>0.5844</td>\n",
       "      <td>0.6512</td>\n",
       "      <td>0.7280</td>\n",
       "      <td>0.8102</td>\n",
       "      <td>0.9030</td>\n",
       "      <td>1.0000</td>\n",
       "      <td>0.9046</td>\n",
       "      <td>0.8120</td>\n",
       "      <td>0.7308</td>\n",
       "      <td>0.6606</td>\n",
       "      <td>...</td>\n",
       "      <td>0.5408</td>\n",
       "      <td>0.4768</td>\n",
       "      <td>0.4252</td>\n",
       "      <td>0.3804</td>\n",
       "      <td>0.3314</td>\n",
       "      <td>0.2952</td>\n",
       "      <td>0.2586</td>\n",
       "      <td>0.2300</td>\n",
       "      <td>0.2066</td>\n",
       "      <td>0.1878</td>\n",
       "    </tr>\n",
       "    <tr>\n",
       "      <th>V16</th>\n",
       "      <td>0.6522</td>\n",
       "      <td>0.7250</td>\n",
       "      <td>0.8074</td>\n",
       "      <td>0.8992</td>\n",
       "      <td>1.0000</td>\n",
       "      <td>0.9030</td>\n",
       "      <td>0.8188</td>\n",
       "      <td>0.7334</td>\n",
       "      <td>0.6602</td>\n",
       "      <td>0.5960</td>\n",
       "      <td>...</td>\n",
       "      <td>0.4838</td>\n",
       "      <td>0.4250</td>\n",
       "      <td>0.3818</td>\n",
       "      <td>0.3450</td>\n",
       "      <td>0.3032</td>\n",
       "      <td>0.2722</td>\n",
       "      <td>0.2396</td>\n",
       "      <td>0.2158</td>\n",
       "      <td>0.1948</td>\n",
       "      <td>0.1780</td>\n",
       "    </tr>\n",
       "    <tr>\n",
       "      <th>V17</th>\n",
       "      <td>0.7306</td>\n",
       "      <td>0.8118</td>\n",
       "      <td>0.9022</td>\n",
       "      <td>1.0000</td>\n",
       "      <td>0.8992</td>\n",
       "      <td>0.8102</td>\n",
       "      <td>0.7320</td>\n",
       "      <td>0.6546</td>\n",
       "      <td>0.5902</td>\n",
       "      <td>0.5320</td>\n",
       "      <td>...</td>\n",
       "      <td>0.4294</td>\n",
       "      <td>0.3746</td>\n",
       "      <td>0.3354</td>\n",
       "      <td>0.3014</td>\n",
       "      <td>0.2640</td>\n",
       "      <td>0.2362</td>\n",
       "      <td>0.2120</td>\n",
       "      <td>0.1898</td>\n",
       "      <td>0.1676</td>\n",
       "      <td>0.1544</td>\n",
       "    </tr>\n",
       "    <tr>\n",
       "      <th>V18</th>\n",
       "      <td>0.8088</td>\n",
       "      <td>0.9000</td>\n",
       "      <td>1.0000</td>\n",
       "      <td>0.9022</td>\n",
       "      <td>0.8074</td>\n",
       "      <td>0.7280</td>\n",
       "      <td>0.6602</td>\n",
       "      <td>0.5948</td>\n",
       "      <td>0.5368</td>\n",
       "      <td>0.4838</td>\n",
       "      <td>...</td>\n",
       "      <td>0.3904</td>\n",
       "      <td>0.3408</td>\n",
       "      <td>0.3064</td>\n",
       "      <td>0.2748</td>\n",
       "      <td>0.2430</td>\n",
       "      <td>0.2168</td>\n",
       "      <td>0.1954</td>\n",
       "      <td>0.1732</td>\n",
       "      <td>0.1514</td>\n",
       "      <td>0.1414</td>\n",
       "    </tr>\n",
       "    <tr>\n",
       "      <th>V19</th>\n",
       "      <td>0.8992</td>\n",
       "      <td>1.0000</td>\n",
       "      <td>0.9000</td>\n",
       "      <td>0.8118</td>\n",
       "      <td>0.7250</td>\n",
       "      <td>0.6512</td>\n",
       "      <td>0.5894</td>\n",
       "      <td>0.5304</td>\n",
       "      <td>0.4828</td>\n",
       "      <td>0.4342</td>\n",
       "      <td>...</td>\n",
       "      <td>0.3484</td>\n",
       "      <td>0.3036</td>\n",
       "      <td>0.2688</td>\n",
       "      <td>0.2436</td>\n",
       "      <td>0.2158</td>\n",
       "      <td>0.1912</td>\n",
       "      <td>0.1754</td>\n",
       "      <td>0.1580</td>\n",
       "      <td>0.1390</td>\n",
       "      <td>0.1322</td>\n",
       "    </tr>\n",
       "    <tr>\n",
       "      <th>V20</th>\n",
       "      <td>1.0000</td>\n",
       "      <td>0.8992</td>\n",
       "      <td>0.8088</td>\n",
       "      <td>0.7306</td>\n",
       "      <td>0.6522</td>\n",
       "      <td>0.5844</td>\n",
       "      <td>0.5310</td>\n",
       "      <td>0.4772</td>\n",
       "      <td>0.4312</td>\n",
       "      <td>0.3898</td>\n",
       "      <td>...</td>\n",
       "      <td>0.3112</td>\n",
       "      <td>0.2724</td>\n",
       "      <td>0.2428</td>\n",
       "      <td>0.2216</td>\n",
       "      <td>0.1990</td>\n",
       "      <td>0.1760</td>\n",
       "      <td>0.1618</td>\n",
       "      <td>0.1444</td>\n",
       "      <td>0.1282</td>\n",
       "      <td>0.1202</td>\n",
       "    </tr>\n",
       "  </tbody>\n",
       "</table>\n",
       "<p>21 rows × 21 columns</p>\n",
       "</div>"
      ],
      "text/plain": [
       "         V0      V1      V2      V3      V4      V5      V6      V7      V8  \\\n",
       "V0   0.1202  0.1322  0.1414  0.1544  0.1780  0.1878  0.2100  0.2386  0.2742   \n",
       "V1   0.1282  0.1390  0.1514  0.1676  0.1948  0.2066  0.2320  0.2622  0.2974   \n",
       "V2   0.1444  0.1580  0.1732  0.1898  0.2158  0.2300  0.2602  0.2944  0.3368   \n",
       "V3   0.1618  0.1754  0.1954  0.2120  0.2396  0.2586  0.2900  0.3286  0.3694   \n",
       "V4   0.1760  0.1912  0.2168  0.2362  0.2722  0.2952  0.3318  0.3748  0.4152   \n",
       "V5   0.1990  0.2158  0.2430  0.2640  0.3032  0.3314  0.3704  0.4194  0.4622   \n",
       "V6   0.2216  0.2436  0.2748  0.3014  0.3450  0.3804  0.4238  0.4760  0.5248   \n",
       "V7   0.2428  0.2688  0.3064  0.3354  0.3818  0.4252  0.4718  0.5332  0.5892   \n",
       "V8   0.2724  0.3036  0.3408  0.3746  0.4250  0.4768  0.5282  0.5940  0.6604   \n",
       "V9   0.3112  0.3484  0.3904  0.4294  0.4838  0.5408  0.5974  0.6648  0.7380   \n",
       "V10  0.3496  0.3884  0.4340  0.4778  0.5366  0.5964  0.6590  0.7352  0.8156   \n",
       "V11  0.3898  0.4342  0.4838  0.5320  0.5960  0.6606  0.7296  0.8142  0.9054   \n",
       "V12  0.4312  0.4828  0.5368  0.5902  0.6602  0.7308  0.8090  0.8988  1.0000   \n",
       "V13  0.4772  0.5304  0.5948  0.6546  0.7334  0.8120  0.9018  1.0000  0.8988   \n",
       "V14  0.5310  0.5894  0.6602  0.7320  0.8188  0.9046  1.0000  0.9018  0.8090   \n",
       "V15  0.5844  0.6512  0.7280  0.8102  0.9030  1.0000  0.9046  0.8120  0.7308   \n",
       "V16  0.6522  0.7250  0.8074  0.8992  1.0000  0.9030  0.8188  0.7334  0.6602   \n",
       "V17  0.7306  0.8118  0.9022  1.0000  0.8992  0.8102  0.7320  0.6546  0.5902   \n",
       "V18  0.8088  0.9000  1.0000  0.9022  0.8074  0.7280  0.6602  0.5948  0.5368   \n",
       "V19  0.8992  1.0000  0.9000  0.8118  0.7250  0.6512  0.5894  0.5304  0.4828   \n",
       "V20  1.0000  0.8992  0.8088  0.7306  0.6522  0.5844  0.5310  0.4772  0.4312   \n",
       "\n",
       "         V9  ...     V11     V12     V13     V14     V15     V16     V17  \\\n",
       "V0   0.3040  ...  0.3698  0.4134  0.4738  0.5286  0.5932  0.6530  0.7328   \n",
       "V1   0.3268  ...  0.3998  0.4514  0.5174  0.5838  0.6548  0.7234  0.8144   \n",
       "V2   0.3734  ...  0.4488  0.5052  0.5784  0.6520  0.7306  0.8080  0.9062   \n",
       "V3   0.4116  ...  0.5022  0.5634  0.6410  0.7210  0.8064  0.8906  1.0000   \n",
       "V4   0.4630  ...  0.5652  0.6336  0.7188  0.8100  0.9054  1.0000  0.8906   \n",
       "V5   0.5160  ...  0.6314  0.7050  0.7958  0.8978  1.0000  0.9054  0.8064   \n",
       "V6   0.5834  ...  0.7116  0.7908  0.8892  1.0000  0.8978  0.8100  0.7210   \n",
       "V7   0.6546  ...  0.8024  0.8920  1.0000  0.8892  0.7958  0.7188  0.6410   \n",
       "V8   0.7346  ...  0.8996  1.0000  0.8920  0.7908  0.7050  0.6336  0.5634   \n",
       "V9   0.8178  ...  1.0000  0.8996  0.8024  0.7116  0.6314  0.5652  0.5022   \n",
       "V10  0.9014  ...  0.9040  0.8100  0.7240  0.6444  0.5734  0.5140  0.4590   \n",
       "V11  1.0000  ...  0.8178  0.7346  0.6546  0.5834  0.5160  0.4630  0.4116   \n",
       "V12  0.9054  ...  0.7380  0.6604  0.5892  0.5248  0.4622  0.4152  0.3694   \n",
       "V13  0.8142  ...  0.6648  0.5940  0.5332  0.4760  0.4194  0.3748  0.3286   \n",
       "V14  0.7296  ...  0.5974  0.5282  0.4718  0.4238  0.3704  0.3318  0.2900   \n",
       "V15  0.6606  ...  0.5408  0.4768  0.4252  0.3804  0.3314  0.2952  0.2586   \n",
       "V16  0.5960  ...  0.4838  0.4250  0.3818  0.3450  0.3032  0.2722  0.2396   \n",
       "V17  0.5320  ...  0.4294  0.3746  0.3354  0.3014  0.2640  0.2362  0.2120   \n",
       "V18  0.4838  ...  0.3904  0.3408  0.3064  0.2748  0.2430  0.2168  0.1954   \n",
       "V19  0.4342  ...  0.3484  0.3036  0.2688  0.2436  0.2158  0.1912  0.1754   \n",
       "V20  0.3898  ...  0.3112  0.2724  0.2428  0.2216  0.1990  0.1760  0.1618   \n",
       "\n",
       "        V18     V19     V20  \n",
       "V0   0.8082  0.8956  1.0000  \n",
       "V1   0.8998  1.0000  0.8956  \n",
       "V2   1.0000  0.8998  0.8082  \n",
       "V3   0.9062  0.8144  0.7328  \n",
       "V4   0.8080  0.7234  0.6530  \n",
       "V5   0.7306  0.6548  0.5932  \n",
       "V6   0.6520  0.5838  0.5286  \n",
       "V7   0.5784  0.5174  0.4738  \n",
       "V8   0.5052  0.4514  0.4134  \n",
       "V9   0.4488  0.3998  0.3698  \n",
       "V10  0.4152  0.3682  0.3402  \n",
       "V11  0.3734  0.3268  0.3040  \n",
       "V12  0.3368  0.2974  0.2742  \n",
       "V13  0.2944  0.2622  0.2386  \n",
       "V14  0.2602  0.2320  0.2100  \n",
       "V15  0.2300  0.2066  0.1878  \n",
       "V16  0.2158  0.1948  0.1780  \n",
       "V17  0.1898  0.1676  0.1544  \n",
       "V18  0.1732  0.1514  0.1414  \n",
       "V19  0.1580  0.1390  0.1322  \n",
       "V20  0.1444  0.1282  0.1202  \n",
       "\n",
       "[21 rows x 21 columns]"
      ]
     },
     "metadata": {},
     "output_type": "display_data"
    },
    {
     "data": {
      "image/png": "[encoded data removed]",
      "text/plain": [
       "<Figure size 800x600 with 2 Axes>"
      ]
     },
     "metadata": {},
     "output_type": "display_data"
    }
   ],
   "source": [
    "from sklearn.metrics.pairwise import cosine_similarity\n",
    "\n",
    "# Calcular la matriz de similaridad coseno\n",
    "cos_sim_matrix = cosine_similarity(reds_hdv)\n",
    "cos_sim_matrix = cos_sim_matrix[::-1, :]\n",
    "\n",
    "# Representar la matriz de similaridad como DataFrame para mejor visualización\n",
    "df_cos_sim = pd.DataFrame(cos_sim_matrix,\n",
    "                          index=[f\"V{i}\" for i in range(reds_hdv.shape[0])],\n",
    "                          columns=[f\"V{i}\" for i in range(reds_hdv.shape[0])])\n",
    "\n",
    "# Mostrar en formato tabla\n",
    "display(df_cos_sim)\n",
    "\n",
    "# Representar la matriz de similaridad coseno con un mapa de calor\n",
    "plt.figure(figsize=(8, 6))\n",
    "plt.imshow(cos_sim_matrix, cmap='magma', interpolation='nearest')\n",
    "plt.colorbar(label='Cosine Similarity')\n",
    "plt.title(\"Cosine Similarity Between Rows of V\")\n",
    "plt.xticks(ticks=np.arange(len(color_steps)),\n",
    "           labels=[f\"{val:.2f}\" for val in color_steps], rotation=90)\n",
    "plt.yticks(ticks=np.arange(len(color_steps)),\n",
    "           labels=[f\"{val:.2f}\" for val in color_steps[::-1]])\n",
    "\n",
    "plt.tight_layout()\n",
    "plt.show()\n"
   ]
  },
  {
   "cell_type": "markdown",
   "metadata": {},
   "source": [
    "Repeat for green and blue. It is important we have fresh HDVs so that our channels are orthogonal!"
   ]
  },
  {
   "cell_type": "code",
   "execution_count": 63,
   "metadata": {},
   "outputs": [],
   "source": [
    "greens_hdv = range_hdvs(color_steps)\n",
    "blues_hdv = range_hdvs(color_steps)"
   ]
  },
  {
   "cell_type": "markdown",
   "metadata": {},
   "source": [
    "A colour is just a triple of the RGB channel (other representations such as hue-value-saturation might be better, but RGB works fine for our purposes). We can create a colour HDV by binding the three channel-HDVs."
   ]
  },
  {
   "cell_type": "code",
   "execution_count": 64,
   "metadata": {},
   "outputs": [],
   "source": [
    "def col_ind(component):\n",
    "    return round(component * 20)\n",
    "\n",
    "def encode_col(color):\n",
    "    return bind(reds_hdv[col_ind(color[0])],\n",
    "                greens_hdv[col_ind(color[1])],\n",
    "                blues_hdv[col_ind(color[2])])"
   ]
  },
  {
   "cell_type": "markdown",
   "metadata": {},
   "source": [
    "Try it on our example colour:"
   ]
  },
  {
   "cell_type": "code",
   "execution_count": 65,
   "metadata": {},
   "outputs": [],
   "source": [
    "colhdv = encode_col(acolor)"
   ]
  },
  {
   "cell_type": "markdown",
   "metadata": {},
   "source": [
    "Mapping from colour to HDV is straightforward. The big question is, can we do the reverse: *going from HDV to the corresponding colour*? This is an inverse problem and is generally difficult to solve. We will deal with the issue by using a simple *table lookup*:\n",
    "\n",
    "1. generate a list of many random colours;\n",
    "2. get the HDV for each colour;\n",
    "3. to map a new HDV $\\mathbf{x}$ to a colour, just look for the most similar colour in the database using the cosine similarity and return it."
   ]
  },
  {
   "cell_type": "code",
   "execution_count": 66,
   "metadata": {},
   "outputs": [],
   "source": [
    "ref_colors = [{'color':c, 'hdv':encode_col(c)} for c in [randcol() for _ in range(1000)]]"
   ]
  },
  {
   "cell_type": "code",
   "execution_count": 67,
   "metadata": {},
   "outputs": [],
   "source": [
    "def decode_colors(v):\n",
    "    best_match = max(ref_colors, key=lambda item: cos_similarity(v, item[\"hdv\"]))\n",
    "    show_color(best_match[\"color\"])\n",
    "    return best_match[\"color\"]"
   ]
  },
  {
   "cell_type": "code",
   "execution_count": 68,
   "metadata": {},
   "outputs": [
    {
     "data": {
      "image/png": "[encoded data removed]",
      "text/plain": [
       "<Figure size 100x100 with 1 Axes>"
      ]
     },
     "metadata": {},
     "output_type": "display_data"
    },
    {
     "data": {
      "text/plain": [
       "array([0.7344048 , 0.9969753 , 0.73179958])"
      ]
     },
     "execution_count": 68,
     "metadata": {},
     "output_type": "execute_result"
    }
   ],
   "source": [
    "decode_colors(colhdv)  # we more or less recover the color!"
   ]
  },
  {
   "cell_type": "code",
   "execution_count": 69,
   "metadata": {},
   "outputs": [
    {
     "data": {
      "image/png": "[encoded data removed]",
      "text/plain": [
       "<Figure size 100x100 with 1 Axes>"
      ]
     },
     "metadata": {},
     "output_type": "display_data"
    },
    {
     "data": {
      "text/plain": [
       "array([0.92893778, 0.29814243, 0.17841917])"
      ]
     },
     "execution_count": 69,
     "metadata": {},
     "output_type": "execute_result"
    }
   ],
   "source": [
    "decode_colors(hdv())  # decoding a random HDV"
   ]
  },
  {
   "cell_type": "markdown",
   "metadata": {},
   "source": [
    "Now that we can encode emoji and colours, we can represents couples with yet another binding operation. Subsequently, we can embed the complete dataset by bundling."
   ]
  },
  {
   "cell_type": "code",
   "execution_count": 70,
   "metadata": {},
   "outputs": [],
   "source": [
    "def encode_emoji_col_pair(s, c):\n",
    "    return bind(emojis_hdvs[s], encode_col(c))"
   ]
  },
  {
   "cell_type": "code",
   "execution_count": 71,
   "metadata": {},
   "outputs": [],
   "source": [
    "col_emoji_hdvs = [encode_emoji_col_pair(s, c) for s, c in toy_data1]"
   ]
  },
  {
   "cell_type": "code",
   "execution_count": 72,
   "metadata": {},
   "outputs": [],
   "source": [
    "toy_data_emb = bundle(*col_emoji_hdvs)"
   ]
  },
  {
   "cell_type": "markdown",
   "metadata": {},
   "source": [
    "From the dataset embedding, we can now extract all the 'average' colours for each emoji. Remember, by binding again with the fire truck, we reverse the initial binding."
   ]
  },
  {
   "cell_type": "code",
   "execution_count": 73,
   "metadata": {},
   "outputs": [
    {
     "data": {
      "text/plain": [
       "array([-1,  1, -1, ...,  1, -1, -1], shape=(10000,))"
      ]
     },
     "execution_count": 73,
     "metadata": {},
     "output_type": "execute_result"
    }
   ],
   "source": [
    "bind(toy_data_emb, emojis_hdvs['🚒'])"
   ]
  },
  {
   "cell_type": "code",
   "execution_count": 74,
   "metadata": {},
   "outputs": [
    {
     "data": {
      "image/png": "[encoded data removed]",
      "text/plain": [
       "<Figure size 100x100 with 1 Axes>"
      ]
     },
     "metadata": {},
     "output_type": "display_data"
    },
    {
     "data": {
      "text/plain": [
       "array([0.98460592, 0.84062398, 0.7447655 ])"
      ]
     },
     "execution_count": 74,
     "metadata": {},
     "output_type": "execute_result"
    }
   ],
   "source": [
    "decode_colors(bind(toy_data_emb, emojis_hdvs['🚒']))"
   ]
  },
  {
   "cell_type": "code",
   "execution_count": 75,
   "metadata": {},
   "outputs": [
    {
     "data": {
      "image/png": "[encoded data removed]",
      "text/plain": [
       "<Figure size 100x100 with 1 Axes>"
      ]
     },
     "metadata": {},
     "output_type": "display_data"
    },
    {
     "data": {
      "text/plain": [
       "array([0.67665782, 0.85224162, 0.95615608])"
      ]
     },
     "execution_count": 75,
     "metadata": {},
     "output_type": "execute_result"
    }
   ],
   "source": [
    "decode_colors(bind(toy_data_emb, emojis_hdvs['💦']))"
   ]
  },
  {
   "cell_type": "code",
   "execution_count": 76,
   "metadata": {},
   "outputs": [
    {
     "data": {
      "image/png": "[encoded data removed]",
      "text/plain": [
       "<Figure size 100x100 with 1 Axes>"
      ]
     },
     "metadata": {},
     "output_type": "display_data"
    },
    {
     "data": {
      "text/plain": [
       "array([0.66556001, 0.86709638, 0.68579243])"
      ]
     },
     "execution_count": 76,
     "metadata": {},
     "output_type": "execute_result"
    }
   ],
   "source": [
    "decode_colors(bind(toy_data_emb, emojis_hdvs['🌱']))"
   ]
  },
  {
   "cell_type": "code",
   "execution_count": 77,
   "metadata": {},
   "outputs": [
    {
     "data": {
      "image/png": "[encoded data removed]",
      "text/plain": [
       "<Figure size 100x100 with 1 Axes>"
      ]
     },
     "metadata": {},
     "output_type": "display_data"
    },
    {
     "data": {
      "text/plain": [
       "array([0.93049946, 0.94676454, 0.54261423])"
      ]
     },
     "execution_count": 77,
     "metadata": {},
     "output_type": "execute_result"
    }
   ],
   "source": [
    "decode_colors(bind(toy_data_emb, emojis_hdvs['🍌']))"
   ]
  },
  {
   "cell_type": "markdown",
   "metadata": {},
   "source": [
    "### Example 1.1: color matching with noise\n",
    "\n",
    "This seems to work quite well! Let us move to a variation to this problem. With every emoji, we now give *three* colours: one is related to the emoji (we don't know which one), and two are randomly generated. Can we still find the matching colour?"
   ]
  },
  {
   "cell_type": "code",
   "execution_count": 78,
   "metadata": {},
   "outputs": [],
   "source": [
    "# Data required for this example\n",
    "\n",
    "toy_data2 = [\n",
    "    (\n",
    "        emoji := random.choice(emojis),\n",
    "        random.sample(\n",
    "            [\n",
    "                random.choice(emojis_colors[emoji]),\n",
    "                randcol(),\n",
    "                randcol()\n",
    "            ],\n",
    "            3\n",
    "        )\n",
    "    )\n",
    "    for _ in range(500)\n",
    "]"
   ]
  },
  {
   "cell_type": "markdown",
   "metadata": {},
   "source": [
    "This is an example of a *multi-instance problem*: for every observation, we have several labels, and we know at least one is relevant. It pops up frequently in weakly-supervised learning, for example, when you have an image containing multiple objects with only a label for the image or when a molecule has different configurations, knowing that at least one is chemically active.\n",
    "\n",
    "For HDC, dealing with multi-instance learning is a breeze. We can bundle the different colours. Due to distributivity, the irrelevant colours will act as noise and will be averaged away when bundling the complete data."
   ]
  },
  {
   "cell_type": "code",
   "execution_count": 79,
   "metadata": {},
   "outputs": [],
   "source": [
    "def encode_shape_col_pair2(s, colors):\n",
    "    return bind(emojis_hdvs[s], bundle(*map(encode_col, colors)))"
   ]
  },
  {
   "cell_type": "code",
   "execution_count": 80,
   "metadata": {},
   "outputs": [],
   "source": [
    "toy_data_emb2 = bundle(*[encode_shape_col_pair2(s, colors) for s, colors in toy_data2])"
   ]
  },
  {
   "cell_type": "code",
   "execution_count": 81,
   "metadata": {},
   "outputs": [
    {
     "data": {
      "image/png": "[encoded data removed]",
      "text/plain": [
       "<Figure size 100x100 with 1 Axes>"
      ]
     },
     "metadata": {},
     "output_type": "display_data"
    },
    {
     "data": {
      "text/plain": [
       "array([0.74281732, 0.56107145, 0.49665406])"
      ]
     },
     "execution_count": 81,
     "metadata": {},
     "output_type": "execute_result"
    }
   ],
   "source": [
    "decode_colors(bind(toy_data_emb2, emojis_hdvs['🚒']))"
   ]
  },
  {
   "cell_type": "code",
   "execution_count": 82,
   "metadata": {},
   "outputs": [
    {
     "data": {
      "image/png": "[encoded data removed]",
      "text/plain": [
       "<Figure size 100x100 with 1 Axes>"
      ]
     },
     "metadata": {},
     "output_type": "display_data"
    },
    {
     "data": {
      "text/plain": [
       "array([0.31432533, 0.67483101, 0.75706068])"
      ]
     },
     "execution_count": 82,
     "metadata": {},
     "output_type": "execute_result"
    }
   ],
   "source": [
    "decode_colors(bind(toy_data_emb2, emojis_hdvs['💦']))"
   ]
  },
  {
   "cell_type": "code",
   "execution_count": 83,
   "metadata": {},
   "outputs": [
    {
     "data": {
      "image/png": "[encoded data removed]",
      "text/plain": [
       "<Figure size 100x100 with 1 Axes>"
      ]
     },
     "metadata": {},
     "output_type": "display_data"
    },
    {
     "data": {
      "text/plain": [
       "array([0.45830898, 0.64205126, 0.39960298])"
      ]
     },
     "execution_count": 83,
     "metadata": {},
     "output_type": "execute_result"
    }
   ],
   "source": [
    "decode_colors(bind(toy_data_emb2, emojis_hdvs['🌱']))"
   ]
  },
  {
   "cell_type": "code",
   "execution_count": 84,
   "metadata": {},
   "outputs": [
    {
     "data": {
      "image/png": "[encoded data removed]",
      "text/plain": [
       "<Figure size 100x100 with 1 Axes>"
      ]
     },
     "metadata": {},
     "output_type": "display_data"
    },
    {
     "data": {
      "text/plain": [
       "array([0.93049946, 0.94676454, 0.54261423])"
      ]
     },
     "execution_count": 84,
     "metadata": {},
     "output_type": "execute_result"
    }
   ],
   "source": [
    "decode_colors(bind(toy_data_emb2, emojis_hdvs['🍌']))"
   ]
  },
  {
   "cell_type": "markdown",
   "metadata": {},
   "source": [
    "Not bad right? Dealing with this issue is quite complex in most machine learning algorithms but HDC gives us the tools to model the structure of our problem."
   ]
  },
  {
   "cell_type": "markdown",
   "metadata": {},
   "source": [
    "## Example 2: Recipes"
   ]
  },
  {
   "cell_type": "markdown",
   "metadata": {},
   "source": []
  }
 ],
 "metadata": {
  "kernelspec": {
   "display_name": "python-hdc-tuto-8TWL6ZxT-py3.11",
   "language": "python",
   "name": "python3"
  },
  "language_info": {
   "codemirror_mode": {
    "name": "ipython",
    "version": 3
   },
   "file_extension": ".py",
   "mimetype": "text/x-python",
   "name": "python",
   "nbconvert_exporter": "python",
   "pygments_lexer": "ipython3",
   "version": "3.11.2"
  }
 },
 "nbformat": 4,
 "nbformat_minor": 2
}
