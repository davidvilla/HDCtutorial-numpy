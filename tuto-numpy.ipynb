{
 "cells": [
  {
   "cell_type": "markdown",
   "metadata": {},
   "source": [
    "# Tutorial on Hyperdimensional Computing\n",
    "Translation to Python+numpy from https://michielstock.github.io/posts/2022/2022-10-04-HDVtutorial/"
   ]
  },
  {
   "cell_type": "code",
   "execution_count": 23,
   "metadata": {},
   "outputs": [],
   "source": [
    "import math\n",
    "import random\n",
    "import numpy as np\n",
    "from numpy.typing import NDArray\n",
    "import matplotlib.pyplot as plt\n",
    "import pandas as pd\n"
   ]
  },
  {
   "cell_type": "code",
   "execution_count": 24,
   "metadata": {},
   "outputs": [],
   "source": [
    "N = 10000\n",
    "\n",
    "def hdv() -> np.ndarray:\n",
    "    return np.random.choice([-1, 1], size=N)"
   ]
  },
  {
   "cell_type": "code",
   "execution_count": 25,
   "metadata": {},
   "outputs": [
    {
     "data": {
      "text/plain": [
       "array([-1, -1,  1, ...,  1, -1, -1], shape=(10000,))"
      ]
     },
     "execution_count": 25,
     "metadata": {},
     "output_type": "execute_result"
    }
   ],
   "source": [
    "x = hdv()\n",
    "x"
   ]
  },
  {
   "cell_type": "code",
   "execution_count": 26,
   "metadata": {},
   "outputs": [
    {
     "data": {
      "text/plain": [
       "array([ 1,  1, -1, ..., -1, -1, -1], shape=(10000,))"
      ]
     },
     "execution_count": 26,
     "metadata": {},
     "output_type": "execute_result"
    }
   ],
   "source": [
    "y = hdv()\n",
    "y"
   ]
  },
  {
   "cell_type": "code",
   "execution_count": 27,
   "metadata": {},
   "outputs": [
    {
     "data": {
      "text/plain": [
       "np.int64(5029)"
      ]
     },
     "execution_count": 27,
     "metadata": {},
     "output_type": "execute_result"
    }
   ],
   "source": [
    "np.sum(x == y)"
   ]
  },
  {
   "cell_type": "code",
   "execution_count": 28,
   "metadata": {},
   "outputs": [],
   "source": [
    "def hdv_m(rows: int) -> NDArray:\n",
    "    return np.random.choice([-1, 1], size=(rows, N))"
   ]
  },
  {
   "cell_type": "code",
   "execution_count": 29,
   "metadata": {},
   "outputs": [
    {
     "data": {
      "text/plain": [
       "array([[-1,  1, -1, ...,  1,  1, -1],\n",
       "       [ 1,  1, -1, ...,  1, -1,  1],\n",
       "       [-1, -1, -1, ..., -1, -1,  1],\n",
       "       ...,\n",
       "       [-1,  1, -1, ..., -1,  1, -1],\n",
       "       [-1,  1, -1, ..., -1, -1,  1],\n",
       "       [-1,  1, -1, ..., -1,  1, -1]], shape=(10, 10000))"
      ]
     },
     "execution_count": 29,
     "metadata": {},
     "output_type": "execute_result"
    }
   ],
   "source": [
    "V = hdv_m(10)\n",
    "V"
   ]
  },
  {
   "cell_type": "markdown",
   "metadata": {},
   "source": [
    "## Bundling"
   ]
  },
  {
   "cell_type": "code",
   "execution_count": 30,
   "metadata": {},
   "outputs": [
    {
     "name": "stdout",
     "output_type": "stream",
     "text": [
      "[1 0]\n"
     ]
    }
   ],
   "source": [
    "def bundle_m(U: NDArray[int]) -> NDArray[int]:\n",
    "    if U.ndim != 2:\n",
    "        raise ValueError(\"U must be a 2d array.\")\n",
    "\n",
    "    return np.sign(np.sum(U, axis=0))\n",
    "\n",
    "# example\n",
    "U = np.array([[1, 2],\n",
    "              [-3, 4],\n",
    "              [50000, -6]])\n",
    "\n",
    "result = bundle_m(U)\n",
    "print(result)"
   ]
  },
  {
   "cell_type": "code",
   "execution_count": 31,
   "metadata": {},
   "outputs": [
    {
     "data": {
      "text/plain": [
       "array([-1,  1, -1, ...,  0, -1,  1], shape=(10000,))"
      ]
     },
     "execution_count": 31,
     "metadata": {},
     "output_type": "execute_result"
    }
   ],
   "source": [
    "bundle_m(V)"
   ]
  },
  {
   "cell_type": "code",
   "execution_count": 32,
   "metadata": {},
   "outputs": [
    {
     "name": "stdout",
     "output_type": "stream",
     "text": [
      "[1 0]\n"
     ]
    }
   ],
   "source": [
    "def bundle(*xs: NDArray[int]) -> NDArray[int]:\n",
    "    summed = np.add.reduce(xs)\n",
    "    return np.sign(summed)\n",
    "\n",
    "# example\n",
    "xs = bundle(np.array([1, 2]),\n",
    "            np.array([-3, 4]),\n",
    "            np.array([5, -6]))\n",
    "print(xs)"
   ]
  },
  {
   "cell_type": "code",
   "execution_count": 33,
   "metadata": {},
   "outputs": [
    {
     "data": {
      "text/plain": [
       "array([ 0,  0,  0, ...,  0, -1, -1], shape=(10000,))"
      ]
     },
     "execution_count": 33,
     "metadata": {},
     "output_type": "execute_result"
    }
   ],
   "source": [
    "bundle(x, y)"
   ]
  },
  {
   "cell_type": "markdown",
   "metadata": {},
   "source": [
    "## Binding"
   ]
  },
  {
   "cell_type": "code",
   "execution_count": 34,
   "metadata": {},
   "outputs": [
    {
     "data": {
      "text/plain": [
       "array([-15, -48])"
      ]
     },
     "execution_count": 34,
     "metadata": {},
     "output_type": "execute_result"
    }
   ],
   "source": [
    "def bind(*xs: NDArray[int]):\n",
    "    return np.multiply.reduce(xs)\n",
    "\n",
    "# example\n",
    "xs = bind(np.array([1, 2]), np.array([-3, 4]), np.array([5, -6]))\n",
    "bind(xs)"
   ]
  },
  {
   "cell_type": "code",
   "execution_count": 35,
   "metadata": {},
   "outputs": [
    {
     "data": {
      "text/plain": [
       "array([-1, -1, -1, ..., -1,  1,  1], shape=(10000,))"
      ]
     },
     "execution_count": 35,
     "metadata": {},
     "output_type": "execute_result"
    }
   ],
   "source": [
    "bind(x, y)"
   ]
  },
  {
   "cell_type": "code",
   "execution_count": 36,
   "metadata": {},
   "outputs": [
    {
     "data": {
      "text/plain": [
       "True"
      ]
     },
     "execution_count": 36,
     "metadata": {},
     "output_type": "execute_result"
    }
   ],
   "source": [
    "np.array_equal(bind(bind(x, y), y),\n",
    "               x)"
   ]
  },
  {
   "cell_type": "code",
   "execution_count": 37,
   "metadata": {},
   "outputs": [
    {
     "data": {
      "text/plain": [
       "True"
      ]
     },
     "execution_count": 37,
     "metadata": {},
     "output_type": "execute_result"
    }
   ],
   "source": [
    "np.array_equal(bind(bind(x, y), x), y)"
   ]
  },
  {
   "cell_type": "markdown",
   "metadata": {},
   "source": [
    "## Shifting"
   ]
  },
  {
   "cell_type": "code",
   "execution_count": 38,
   "metadata": {},
   "outputs": [
    {
     "data": {
      "text/plain": [
       "array([3, 1, 2])"
      ]
     },
     "execution_count": 38,
     "metadata": {},
     "output_type": "execute_result"
    }
   ],
   "source": [
    "def shift(x, k=1):\n",
    "    return np.roll(x, k)\n",
    "\n",
    "# example\n",
    "shift([1, 2, 3])"
   ]
  },
  {
   "cell_type": "markdown",
   "metadata": {},
   "source": [
    "## Similarity between HDVs"
   ]
  },
  {
   "cell_type": "code",
   "execution_count": 39,
   "metadata": {},
   "outputs": [
    {
     "data": {
      "text/plain": [
       "np.float64(0.9746318461970762)"
      ]
     },
     "execution_count": 39,
     "metadata": {},
     "output_type": "execute_result"
    }
   ],
   "source": [
    "def cos_similarity(x, y):\n",
    "    return np.dot(x, y) / (np.linalg.norm(x) * np.linalg.norm(y))\n",
    "\n",
    "# example\n",
    "cos_similarity([1, 2, 3],\n",
    "               [4, 5, 6])"
   ]
  },
  {
   "cell_type": "code",
   "execution_count": 40,
   "metadata": {},
   "outputs": [
    {
     "data": {
      "text/plain": [
       "np.float64(0.0058)"
      ]
     },
     "execution_count": 40,
     "metadata": {},
     "output_type": "execute_result"
    }
   ],
   "source": [
    "cos_similarity(x, y)"
   ]
  },
  {
   "cell_type": "markdown",
   "metadata": {},
   "source": [
    "## Properties of the operations"
   ]
  },
  {
   "cell_type": "code",
   "execution_count": 41,
   "metadata": {},
   "outputs": [],
   "source": [
    "z = hdv()"
   ]
  },
  {
   "cell_type": "code",
   "execution_count": 42,
   "metadata": {},
   "outputs": [
    {
     "data": {
      "text/plain": [
       "True"
      ]
     },
     "execution_count": 42,
     "metadata": {},
     "output_type": "execute_result"
    }
   ],
   "source": [
    "np.array_equal(bind(x, bundle(y, z)),\n",
    "               bundle(bind(x, y), bind(x, z)))"
   ]
  },
  {
   "cell_type": "code",
   "execution_count": 43,
   "metadata": {},
   "outputs": [
    {
     "data": {
      "text/plain": [
       "True"
      ]
     },
     "execution_count": 43,
     "metadata": {},
     "output_type": "execute_result"
    }
   ],
   "source": [
    "np.array_equal(cos_similarity(x,y),\n",
    "               cos_similarity(bind(x, z), bind(y, z)))"
   ]
  },
  {
   "cell_type": "markdown",
   "metadata": {},
   "source": [
    "# Examples"
   ]
  },
  {
   "cell_type": "markdown",
   "metadata": {},
   "source": [
    "## Example 1: color matching"
   ]
  },
  {
   "cell_type": "markdown",
   "metadata": {},
   "source": [
    "### Data required by the example"
   ]
  },
  {
   "cell_type": "code",
   "execution_count": 44,
   "metadata": {},
   "outputs": [
    {
     "data": {
      "text/html": [
       "<svg  width=\"2750\" height=\"55\"><rect x=\"0\" y=\"0\" width=\"55\" height=\"55\" style=\"fill:#fff2eb;stroke-width:2;stroke:rgb(255,255,255)\"/><rect x=\"55\" y=\"0\" width=\"55\" height=\"55\" style=\"fill:#ffeee7;stroke-width:2;stroke:rgb(255,255,255)\"/><rect x=\"110\" y=\"0\" width=\"55\" height=\"55\" style=\"fill:#ffebe2;stroke-width:2;stroke:rgb(255,255,255)\"/><rect x=\"165\" y=\"0\" width=\"55\" height=\"55\" style=\"fill:#fee8dd;stroke-width:2;stroke:rgb(255,255,255)\"/><rect x=\"220\" y=\"0\" width=\"55\" height=\"55\" style=\"fill:#fee5d8;stroke-width:2;stroke:rgb(255,255,255)\"/><rect x=\"275\" y=\"0\" width=\"55\" height=\"55\" style=\"fill:#fee1d4;stroke-width:2;stroke:rgb(255,255,255)\"/><rect x=\"330\" y=\"0\" width=\"55\" height=\"55\" style=\"fill:#fedccd;stroke-width:2;stroke:rgb(255,255,255)\"/><rect x=\"385\" y=\"0\" width=\"55\" height=\"55\" style=\"fill:#fdd7c6;stroke-width:2;stroke:rgb(255,255,255)\"/><rect x=\"440\" y=\"0\" width=\"55\" height=\"55\" style=\"fill:#fdd1be;stroke-width:2;stroke:rgb(255,255,255)\"/><rect x=\"495\" y=\"0\" width=\"55\" height=\"55\" style=\"fill:#fdcbb6;stroke-width:2;stroke:rgb(255,255,255)\"/><rect x=\"550\" y=\"0\" width=\"55\" height=\"55\" style=\"fill:#fdc5ae;stroke-width:2;stroke:rgb(255,255,255)\"/><rect x=\"605\" y=\"0\" width=\"55\" height=\"55\" style=\"fill:#fcbfa7;stroke-width:2;stroke:rgb(255,255,255)\"/><rect x=\"660\" y=\"0\" width=\"55\" height=\"55\" style=\"fill:#fcb99f;stroke-width:2;stroke:rgb(255,255,255)\"/><rect x=\"715\" y=\"0\" width=\"55\" height=\"55\" style=\"fill:#fcb398;stroke-width:2;stroke:rgb(255,255,255)\"/><rect x=\"770\" y=\"0\" width=\"55\" height=\"55\" style=\"fill:#fcad90;stroke-width:2;stroke:rgb(255,255,255)\"/><rect x=\"825\" y=\"0\" width=\"55\" height=\"55\" style=\"fill:#fca689;stroke-width:2;stroke:rgb(255,255,255)\"/><rect x=\"880\" y=\"0\" width=\"55\" height=\"55\" style=\"fill:#fca082;stroke-width:2;stroke:rgb(255,255,255)\"/><rect x=\"935\" y=\"0\" width=\"55\" height=\"55\" style=\"fill:#fc997a;stroke-width:2;stroke:rgb(255,255,255)\"/><rect x=\"990\" y=\"0\" width=\"55\" height=\"55\" style=\"fill:#fc9373;stroke-width:2;stroke:rgb(255,255,255)\"/><rect x=\"1045\" y=\"0\" width=\"55\" height=\"55\" style=\"fill:#fc8d6d;stroke-width:2;stroke:rgb(255,255,255)\"/><rect x=\"1100\" y=\"0\" width=\"55\" height=\"55\" style=\"fill:#fc8666;stroke-width:2;stroke:rgb(255,255,255)\"/><rect x=\"1155\" y=\"0\" width=\"55\" height=\"55\" style=\"fill:#fc8060;stroke-width:2;stroke:rgb(255,255,255)\"/><rect x=\"1210\" y=\"0\" width=\"55\" height=\"55\" style=\"fill:#fb7a5a;stroke-width:2;stroke:rgb(255,255,255)\"/><rect x=\"1265\" y=\"0\" width=\"55\" height=\"55\" style=\"fill:#fb7353;stroke-width:2;stroke:rgb(255,255,255)\"/><rect x=\"1320\" y=\"0\" width=\"55\" height=\"55\" style=\"fill:#fb6d4d;stroke-width:2;stroke:rgb(255,255,255)\"/><rect x=\"1375\" y=\"0\" width=\"55\" height=\"55\" style=\"fill:#fa6648;stroke-width:2;stroke:rgb(255,255,255)\"/><rect x=\"1430\" y=\"0\" width=\"55\" height=\"55\" style=\"fill:#f85f43;stroke-width:2;stroke:rgb(255,255,255)\"/><rect x=\"1485\" y=\"0\" width=\"55\" height=\"55\" style=\"fill:#f6583e;stroke-width:2;stroke:rgb(255,255,255)\"/><rect x=\"1540\" y=\"0\" width=\"55\" height=\"55\" style=\"fill:#f4503a;stroke-width:2;stroke:rgb(255,255,255)\"/><rect x=\"1595\" y=\"0\" width=\"55\" height=\"55\" style=\"fill:#f34935;stroke-width:2;stroke:rgb(255,255,255)\"/><rect x=\"1650\" y=\"0\" width=\"55\" height=\"55\" style=\"fill:#f14130;stroke-width:2;stroke:rgb(255,255,255)\"/><rect x=\"1705\" y=\"0\" width=\"55\" height=\"55\" style=\"fill:#ee3a2c;stroke-width:2;stroke:rgb(255,255,255)\"/><rect x=\"1760\" y=\"0\" width=\"55\" height=\"55\" style=\"fill:#e93529;stroke-width:2;stroke:rgb(255,255,255)\"/><rect x=\"1815\" y=\"0\" width=\"55\" height=\"55\" style=\"fill:#e32f27;stroke-width:2;stroke:rgb(255,255,255)\"/><rect x=\"1870\" y=\"0\" width=\"55\" height=\"55\" style=\"fill:#dd2a25;stroke-width:2;stroke:rgb(255,255,255)\"/><rect x=\"1925\" y=\"0\" width=\"55\" height=\"55\" style=\"fill:#d82422;stroke-width:2;stroke:rgb(255,255,255)\"/><rect x=\"1980\" y=\"0\" width=\"55\" height=\"55\" style=\"fill:#d21f20;stroke-width:2;stroke:rgb(255,255,255)\"/><rect x=\"2035\" y=\"0\" width=\"55\" height=\"55\" style=\"fill:#cc191e;stroke-width:2;stroke:rgb(255,255,255)\"/><rect x=\"2090\" y=\"0\" width=\"55\" height=\"55\" style=\"fill:#c7171c;stroke-width:2;stroke:rgb(255,255,255)\"/><rect x=\"2145\" y=\"0\" width=\"55\" height=\"55\" style=\"fill:#c1161b;stroke-width:2;stroke:rgb(255,255,255)\"/><rect x=\"2200\" y=\"0\" width=\"55\" height=\"55\" style=\"fill:#bb141a;stroke-width:2;stroke:rgb(255,255,255)\"/><rect x=\"2255\" y=\"0\" width=\"55\" height=\"55\" style=\"fill:#b51318;stroke-width:2;stroke:rgb(255,255,255)\"/><rect x=\"2310\" y=\"0\" width=\"55\" height=\"55\" style=\"fill:#af1117;stroke-width:2;stroke:rgb(255,255,255)\"/><rect x=\"2365\" y=\"0\" width=\"55\" height=\"55\" style=\"fill:#a91016;stroke-width:2;stroke:rgb(255,255,255)\"/><rect x=\"2420\" y=\"0\" width=\"55\" height=\"55\" style=\"fill:#a10e15;stroke-width:2;stroke:rgb(255,255,255)\"/><rect x=\"2475\" y=\"0\" width=\"55\" height=\"55\" style=\"fill:#980c13;stroke-width:2;stroke:rgb(255,255,255)\"/><rect x=\"2530\" y=\"0\" width=\"55\" height=\"55\" style=\"fill:#8e0912;stroke-width:2;stroke:rgb(255,255,255)\"/><rect x=\"2585\" y=\"0\" width=\"55\" height=\"55\" style=\"fill:#840711;stroke-width:2;stroke:rgb(255,255,255)\"/><rect x=\"2640\" y=\"0\" width=\"55\" height=\"55\" style=\"fill:#7a0510;stroke-width:2;stroke:rgb(255,255,255)\"/><rect x=\"2695\" y=\"0\" width=\"55\" height=\"55\" style=\"fill:#71020e;stroke-width:2;stroke:rgb(255,255,255)\"/></svg>"
      ],
      "text/plain": [
       "[(0.9993848519800077, 0.9478662053056517, 0.922722029988466),\n",
       " (0.9987697039600154, 0.9349480968858132, 0.9042675893886967),\n",
       " (0.9981545559400231, 0.9220299884659746, 0.8858131487889274),\n",
       " (0.9975394079200308, 0.9091118800461361, 0.867358708189158),\n",
       " (0.9969242599000384, 0.8961937716262975, 0.8489042675893886),\n",
       " (0.9963091118800461, 0.883275663206459, 0.8304498269896193),\n",
       " (0.9953094963475586, 0.8642060745866974, 0.8046905036524413),\n",
       " (0.994079200307574, 0.8414455978469819, 0.7745482506728181),\n",
       " (0.9928489042675894, 0.8186851211072664, 0.7444059976931949),\n",
       " (0.9916186082276048, 0.795924644367551, 0.7142637447135717),\n",
       " (0.9903883121876201, 0.7731641676278354, 0.6841214917339484),\n",
       " (0.9891580161476355, 0.75040369088812, 0.6539792387543253),\n",
       " (0.9882352941176471, 0.7270280661284121, 0.6241445597846982),\n",
       " (0.9882352941176471, 0.7018069973087273, 0.5952326028450596),\n",
       " (0.9882352941176471, 0.6765859284890426, 0.566320645905421),\n",
       " (0.9882352941176471, 0.6513648596693579, 0.5374086889657824),\n",
       " (0.9882352941176471, 0.6261437908496732, 0.5084967320261438),\n",
       " (0.9882352941176471, 0.6009227220299885, 0.4795847750865053),\n",
       " (0.9882352941176471, 0.5757016532103036, 0.4506728181468666),\n",
       " (0.9876970396001539, 0.5510188389081122, 0.4255286428296809),\n",
       " (0.9870818915801615, 0.5264129181084198, 0.40092272202998847),\n",
       " (0.9864667435601692, 0.5018069973087274, 0.3763168012302961),\n",
       " (0.9858515955401769, 0.477201076509035, 0.3517108804306036),\n",
       " (0.9852364475201845, 0.4525951557093426, 0.32710495963091124),\n",
       " (0.9846212995001922, 0.42798923490965013, 0.30249903883121876),\n",
       " (0.9806228373702421, 0.40123029603998467, 0.2809688581314879),\n",
       " (0.9732410611303345, 0.37231833910034606, 0.2625144175317186),\n",
       " (0.9658592848904267, 0.34340638216070746, 0.24405997693194925),\n",
       " (0.9584775086505191, 0.31449442522106885, 0.22560553633217995),\n",
       " (0.9510957324106113, 0.2855824682814302, 0.2071510957324106),\n",
       " (0.9437139561707035, 0.25667051134179164, 0.18869665513264128),\n",
       " (0.9344867358708189, 0.2286812764321415, 0.17139561707035755),\n",
       " (0.9123414071510957, 0.2071510957324106, 0.1621683967704729),\n",
       " (0.8901960784313725, 0.18562091503267975, 0.15294117647058825),\n",
       " (0.8680507497116493, 0.16409073433294888, 0.14371395617070357),\n",
       " (0.8459054209919262, 0.14256055363321812, 0.13448673587081897),\n",
       " (0.8237600922722029, 0.12103037293348712, 0.12525951557093426),\n",
       " (0.8016147635524797, 0.09950019223375625, 0.1160322952710496),\n",
       " (0.7785467128027681, 0.08996539792387544, 0.11003460207612456),\n",
       " (0.7551710880430603, 0.08442906574394464, 0.10511341791618607),\n",
       " (0.7317954632833525, 0.07889273356401384, 0.10019223375624758),\n",
       " (0.7084198385236448, 0.07335640138408304, 0.09527104959630911),\n",
       " (0.685044213763937, 0.06782006920415225, 0.09034986543637061),\n",
       " (0.6616685890042292, 0.06228373702422145, 0.08542868127643213),\n",
       " (0.6327566320645905, 0.05536332179930796, 0.08050749711649365),\n",
       " (0.5946174548250673, 0.04613610149942329, 0.07558631295655516),\n",
       " (0.556478277585544, 0.03690888119953864, 0.07066512879661667),\n",
       " (0.5183391003460208, 0.02768166089965398, 0.06574394463667818),\n",
       " (0.4801999231064975, 0.01845444059976932, 0.06082276047673971),\n",
       " (0.44206074586697425, 0.00922722029988466, 0.05590157631680122)]"
      ]
     },
     "execution_count": 44,
     "metadata": {},
     "output_type": "execute_result"
    }
   ],
   "source": [
    "import seaborn\n",
    "\n",
    "n_colors = 50\n",
    "reds = seaborn.color_palette(\"Reds\", n_colors=n_colors)\n",
    "blues = seaborn.color_palette(\"Blues\", n_colors=n_colors)\n",
    "greens = seaborn.color_palette(\"Greens\", n_colors=n_colors)\n",
    "oranges = seaborn.color_palette(\"Oranges\", n_colors=n_colors)\n",
    "greys = seaborn.color_palette(\"Greys\", n_colors=n_colors)\n",
    "yellows = seaborn.light_palette(\"Yellow\", n_colors=n_colors)\n",
    "whites = seaborn.light_palette(\"White\", n_colors=n_colors)\n",
    "\n",
    "emojis_colors = {\n",
    "    '🚒': reds,\n",
    "    '💦': blues,\n",
    "    '🌱': greens,\n",
    "    '🌅': oranges,\n",
    "    '🐺': greys,\n",
    "    '🍌': yellows,\n",
    "    '🥚': whites\n",
    "}\n",
    "\n",
    "emojis = list(emojis_colors.keys())\n",
    "\n",
    "toy_data1 = [(emoji := random.choice(emojis), random.choice(emojis_colors[emoji]))\n",
    "             for _ in range(100)]\n",
    "\n",
    "reds"
   ]
  },
  {
   "cell_type": "code",
   "execution_count": 45,
   "metadata": {},
   "outputs": [
    {
     "data": {
      "image/png": "[encoded data removed]",
      "text/plain": [
       "<Figure size 100x100 with 1 Axes>"
      ]
     },
     "metadata": {},
     "output_type": "display_data"
    }
   ],
   "source": [
    "def randcol():\n",
    "    return np.random.rand(3)\n",
    "\n",
    "def show_color(color):\n",
    "    plt.figure(figsize=(1,1))\n",
    "    plt.imshow([[color]])\n",
    "    plt.axis('off')\n",
    "    plt.show()\n",
    "\n",
    "acolor = randcol()\n",
    "show_color(acolor)"
   ]
  },
  {
   "cell_type": "code",
   "execution_count": 46,
   "metadata": {},
   "outputs": [],
   "source": [
    "emojis_hdvs = {emoji: hdv() for emoji in emojis}"
   ]
  },
  {
   "cell_type": "code",
   "execution_count": 47,
   "metadata": {},
   "outputs": [],
   "source": [
    "def range_hdvs(steps):\n",
    "    k = len(steps) - 1\n",
    "\n",
    "    V = hdv_m(k + 1)  # V size is (k+1)xN\n",
    "\n",
    "    for i in range(1, k + 1):  # for each other row/step\n",
    "        for j in range(N):     # for each column\n",
    "            V[i, j] = -V[i-1, j] if random.random() < (1 / k) else V[i-1, j]\n",
    "\n",
    "    return V\n"
   ]
  },
  {
   "cell_type": "code",
   "execution_count": 48,
   "metadata": {},
   "outputs": [],
   "source": [
    "color_steps = np.arange(0, 1.05, 0.05)"
   ]
  },
  {
   "cell_type": "code",
   "execution_count": 49,
   "metadata": {},
   "outputs": [],
   "source": [
    "reds_hdv = range_hdvs(color_steps)"
   ]
  },
  {
   "cell_type": "code",
   "execution_count": 50,
   "metadata": {},
   "outputs": [
    {
     "data": {
      "text/html": [
       "<div>\n",
       "<style scoped>\n",
       "    .dataframe tbody tr th:only-of-type {\n",
       "        vertical-align: middle;\n",
       "    }\n",
       "\n",
       "    .dataframe tbody tr th {\n",
       "        vertical-align: top;\n",
       "    }\n",
       "\n",
       "    .dataframe thead th {\n",
       "        text-align: right;\n",
       "    }\n",
       "</style>\n",
       "<table border=\"1\" class=\"dataframe\">\n",
       "  <thead>\n",
       "    <tr style=\"text-align: right;\">\n",
       "      <th></th>\n",
       "      <th>V0</th>\n",
       "      <th>V1</th>\n",
       "      <th>V2</th>\n",
       "      <th>V3</th>\n",
       "      <th>V4</th>\n",
       "      <th>V5</th>\n",
       "      <th>V6</th>\n",
       "      <th>V7</th>\n",
       "      <th>V8</th>\n",
       "      <th>V9</th>\n",
       "      <th>...</th>\n",
       "      <th>V11</th>\n",
       "      <th>V12</th>\n",
       "      <th>V13</th>\n",
       "      <th>V14</th>\n",
       "      <th>V15</th>\n",
       "      <th>V16</th>\n",
       "      <th>V17</th>\n",
       "      <th>V18</th>\n",
       "      <th>V19</th>\n",
       "      <th>V20</th>\n",
       "    </tr>\n",
       "  </thead>\n",
       "  <tbody>\n",
       "    <tr>\n",
       "      <th>V0</th>\n",
       "      <td>0.1228</td>\n",
       "      <td>0.1416</td>\n",
       "      <td>0.1582</td>\n",
       "      <td>0.1762</td>\n",
       "      <td>0.1942</td>\n",
       "      <td>0.2126</td>\n",
       "      <td>0.2414</td>\n",
       "      <td>0.2540</td>\n",
       "      <td>0.2842</td>\n",
       "      <td>0.3130</td>\n",
       "      <td>...</td>\n",
       "      <td>0.3816</td>\n",
       "      <td>0.4258</td>\n",
       "      <td>0.4812</td>\n",
       "      <td>0.5310</td>\n",
       "      <td>0.5906</td>\n",
       "      <td>0.6584</td>\n",
       "      <td>0.7354</td>\n",
       "      <td>0.8168</td>\n",
       "      <td>0.9038</td>\n",
       "      <td>1.0000</td>\n",
       "    </tr>\n",
       "    <tr>\n",
       "      <th>V1</th>\n",
       "      <td>0.1378</td>\n",
       "      <td>0.1590</td>\n",
       "      <td>0.1764</td>\n",
       "      <td>0.1948</td>\n",
       "      <td>0.2160</td>\n",
       "      <td>0.2360</td>\n",
       "      <td>0.2668</td>\n",
       "      <td>0.2866</td>\n",
       "      <td>0.3212</td>\n",
       "      <td>0.3536</td>\n",
       "      <td>...</td>\n",
       "      <td>0.4290</td>\n",
       "      <td>0.4756</td>\n",
       "      <td>0.5322</td>\n",
       "      <td>0.5912</td>\n",
       "      <td>0.6568</td>\n",
       "      <td>0.7306</td>\n",
       "      <td>0.8132</td>\n",
       "      <td>0.9010</td>\n",
       "      <td>1.0000</td>\n",
       "      <td>0.9038</td>\n",
       "    </tr>\n",
       "    <tr>\n",
       "      <th>V2</th>\n",
       "      <td>0.1524</td>\n",
       "      <td>0.1732</td>\n",
       "      <td>0.1890</td>\n",
       "      <td>0.2106</td>\n",
       "      <td>0.2374</td>\n",
       "      <td>0.2590</td>\n",
       "      <td>0.2926</td>\n",
       "      <td>0.3180</td>\n",
       "      <td>0.3534</td>\n",
       "      <td>0.3906</td>\n",
       "      <td>...</td>\n",
       "      <td>0.4768</td>\n",
       "      <td>0.5306</td>\n",
       "      <td>0.5940</td>\n",
       "      <td>0.6550</td>\n",
       "      <td>0.7274</td>\n",
       "      <td>0.8100</td>\n",
       "      <td>0.9030</td>\n",
       "      <td>1.0000</td>\n",
       "      <td>0.9010</td>\n",
       "      <td>0.8168</td>\n",
       "    </tr>\n",
       "    <tr>\n",
       "      <th>V3</th>\n",
       "      <td>0.1670</td>\n",
       "      <td>0.1898</td>\n",
       "      <td>0.2092</td>\n",
       "      <td>0.2324</td>\n",
       "      <td>0.2560</td>\n",
       "      <td>0.2812</td>\n",
       "      <td>0.3152</td>\n",
       "      <td>0.3474</td>\n",
       "      <td>0.3884</td>\n",
       "      <td>0.4280</td>\n",
       "      <td>...</td>\n",
       "      <td>0.5254</td>\n",
       "      <td>0.5856</td>\n",
       "      <td>0.6582</td>\n",
       "      <td>0.7276</td>\n",
       "      <td>0.8076</td>\n",
       "      <td>0.8978</td>\n",
       "      <td>1.0000</td>\n",
       "      <td>0.9030</td>\n",
       "      <td>0.8132</td>\n",
       "      <td>0.7354</td>\n",
       "    </tr>\n",
       "    <tr>\n",
       "      <th>V4</th>\n",
       "      <td>0.1940</td>\n",
       "      <td>0.2160</td>\n",
       "      <td>0.2374</td>\n",
       "      <td>0.2590</td>\n",
       "      <td>0.2810</td>\n",
       "      <td>0.3066</td>\n",
       "      <td>0.3462</td>\n",
       "      <td>0.3832</td>\n",
       "      <td>0.4298</td>\n",
       "      <td>0.4770</td>\n",
       "      <td>...</td>\n",
       "      <td>0.5876</td>\n",
       "      <td>0.6538</td>\n",
       "      <td>0.7340</td>\n",
       "      <td>0.8098</td>\n",
       "      <td>0.8998</td>\n",
       "      <td>1.0000</td>\n",
       "      <td>0.8978</td>\n",
       "      <td>0.8100</td>\n",
       "      <td>0.7306</td>\n",
       "      <td>0.6584</td>\n",
       "    </tr>\n",
       "    <tr>\n",
       "      <th>V5</th>\n",
       "      <td>0.2142</td>\n",
       "      <td>0.2378</td>\n",
       "      <td>0.2612</td>\n",
       "      <td>0.2888</td>\n",
       "      <td>0.3144</td>\n",
       "      <td>0.3404</td>\n",
       "      <td>0.3848</td>\n",
       "      <td>0.4294</td>\n",
       "      <td>0.4832</td>\n",
       "      <td>0.5332</td>\n",
       "      <td>...</td>\n",
       "      <td>0.6518</td>\n",
       "      <td>0.7256</td>\n",
       "      <td>0.8122</td>\n",
       "      <td>0.8976</td>\n",
       "      <td>1.0000</td>\n",
       "      <td>0.8998</td>\n",
       "      <td>0.8076</td>\n",
       "      <td>0.7274</td>\n",
       "      <td>0.6568</td>\n",
       "      <td>0.5906</td>\n",
       "    </tr>\n",
       "    <tr>\n",
       "      <th>V6</th>\n",
       "      <td>0.2302</td>\n",
       "      <td>0.2570</td>\n",
       "      <td>0.2824</td>\n",
       "      <td>0.3152</td>\n",
       "      <td>0.3452</td>\n",
       "      <td>0.3752</td>\n",
       "      <td>0.4256</td>\n",
       "      <td>0.4762</td>\n",
       "      <td>0.5344</td>\n",
       "      <td>0.5912</td>\n",
       "      <td>...</td>\n",
       "      <td>0.7238</td>\n",
       "      <td>0.8080</td>\n",
       "      <td>0.9046</td>\n",
       "      <td>1.0000</td>\n",
       "      <td>0.8976</td>\n",
       "      <td>0.8098</td>\n",
       "      <td>0.7276</td>\n",
       "      <td>0.6550</td>\n",
       "      <td>0.5912</td>\n",
       "      <td>0.5310</td>\n",
       "    </tr>\n",
       "    <tr>\n",
       "      <th>V7</th>\n",
       "      <td>0.2576</td>\n",
       "      <td>0.2844</td>\n",
       "      <td>0.3126</td>\n",
       "      <td>0.3474</td>\n",
       "      <td>0.3814</td>\n",
       "      <td>0.4146</td>\n",
       "      <td>0.4674</td>\n",
       "      <td>0.5236</td>\n",
       "      <td>0.5894</td>\n",
       "      <td>0.6550</td>\n",
       "      <td>...</td>\n",
       "      <td>0.8040</td>\n",
       "      <td>0.8946</td>\n",
       "      <td>1.0000</td>\n",
       "      <td>0.9046</td>\n",
       "      <td>0.8122</td>\n",
       "      <td>0.7340</td>\n",
       "      <td>0.6582</td>\n",
       "      <td>0.5940</td>\n",
       "      <td>0.5322</td>\n",
       "      <td>0.4812</td>\n",
       "    </tr>\n",
       "    <tr>\n",
       "      <th>V8</th>\n",
       "      <td>0.2902</td>\n",
       "      <td>0.3190</td>\n",
       "      <td>0.3512</td>\n",
       "      <td>0.3892</td>\n",
       "      <td>0.4272</td>\n",
       "      <td>0.4676</td>\n",
       "      <td>0.5248</td>\n",
       "      <td>0.5858</td>\n",
       "      <td>0.6584</td>\n",
       "      <td>0.7332</td>\n",
       "      <td>...</td>\n",
       "      <td>0.8990</td>\n",
       "      <td>1.0000</td>\n",
       "      <td>0.8946</td>\n",
       "      <td>0.8080</td>\n",
       "      <td>0.7256</td>\n",
       "      <td>0.6538</td>\n",
       "      <td>0.5856</td>\n",
       "      <td>0.5306</td>\n",
       "      <td>0.4756</td>\n",
       "      <td>0.4258</td>\n",
       "    </tr>\n",
       "    <tr>\n",
       "      <th>V9</th>\n",
       "      <td>0.3212</td>\n",
       "      <td>0.3532</td>\n",
       "      <td>0.3922</td>\n",
       "      <td>0.4326</td>\n",
       "      <td>0.4718</td>\n",
       "      <td>0.5194</td>\n",
       "      <td>0.5842</td>\n",
       "      <td>0.6524</td>\n",
       "      <td>0.7346</td>\n",
       "      <td>0.8170</td>\n",
       "      <td>...</td>\n",
       "      <td>1.0000</td>\n",
       "      <td>0.8990</td>\n",
       "      <td>0.8040</td>\n",
       "      <td>0.7238</td>\n",
       "      <td>0.6518</td>\n",
       "      <td>0.5876</td>\n",
       "      <td>0.5254</td>\n",
       "      <td>0.4768</td>\n",
       "      <td>0.4290</td>\n",
       "      <td>0.3816</td>\n",
       "    </tr>\n",
       "    <tr>\n",
       "      <th>V10</th>\n",
       "      <td>0.3598</td>\n",
       "      <td>0.3978</td>\n",
       "      <td>0.4396</td>\n",
       "      <td>0.4836</td>\n",
       "      <td>0.5252</td>\n",
       "      <td>0.5800</td>\n",
       "      <td>0.6492</td>\n",
       "      <td>0.7242</td>\n",
       "      <td>0.8132</td>\n",
       "      <td>0.9036</td>\n",
       "      <td>...</td>\n",
       "      <td>0.9062</td>\n",
       "      <td>0.8124</td>\n",
       "      <td>0.7258</td>\n",
       "      <td>0.6528</td>\n",
       "      <td>0.5876</td>\n",
       "      <td>0.5290</td>\n",
       "      <td>0.4756</td>\n",
       "      <td>0.4334</td>\n",
       "      <td>0.3916</td>\n",
       "      <td>0.3474</td>\n",
       "    </tr>\n",
       "    <tr>\n",
       "      <th>V11</th>\n",
       "      <td>0.3958</td>\n",
       "      <td>0.4390</td>\n",
       "      <td>0.4884</td>\n",
       "      <td>0.5360</td>\n",
       "      <td>0.5836</td>\n",
       "      <td>0.6448</td>\n",
       "      <td>0.7172</td>\n",
       "      <td>0.7990</td>\n",
       "      <td>0.8992</td>\n",
       "      <td>1.0000</td>\n",
       "      <td>...</td>\n",
       "      <td>0.8170</td>\n",
       "      <td>0.7332</td>\n",
       "      <td>0.6550</td>\n",
       "      <td>0.5912</td>\n",
       "      <td>0.5332</td>\n",
       "      <td>0.4770</td>\n",
       "      <td>0.4280</td>\n",
       "      <td>0.3906</td>\n",
       "      <td>0.3536</td>\n",
       "      <td>0.3130</td>\n",
       "    </tr>\n",
       "    <tr>\n",
       "      <th>V12</th>\n",
       "      <td>0.4374</td>\n",
       "      <td>0.4846</td>\n",
       "      <td>0.5404</td>\n",
       "      <td>0.5936</td>\n",
       "      <td>0.6508</td>\n",
       "      <td>0.7184</td>\n",
       "      <td>0.7968</td>\n",
       "      <td>0.8882</td>\n",
       "      <td>1.0000</td>\n",
       "      <td>0.8992</td>\n",
       "      <td>...</td>\n",
       "      <td>0.7346</td>\n",
       "      <td>0.6584</td>\n",
       "      <td>0.5894</td>\n",
       "      <td>0.5344</td>\n",
       "      <td>0.4832</td>\n",
       "      <td>0.4298</td>\n",
       "      <td>0.3884</td>\n",
       "      <td>0.3534</td>\n",
       "      <td>0.3212</td>\n",
       "      <td>0.2842</td>\n",
       "    </tr>\n",
       "    <tr>\n",
       "      <th>V13</th>\n",
       "      <td>0.4900</td>\n",
       "      <td>0.5428</td>\n",
       "      <td>0.6010</td>\n",
       "      <td>0.6610</td>\n",
       "      <td>0.7290</td>\n",
       "      <td>0.8090</td>\n",
       "      <td>0.8982</td>\n",
       "      <td>1.0000</td>\n",
       "      <td>0.8882</td>\n",
       "      <td>0.7990</td>\n",
       "      <td>...</td>\n",
       "      <td>0.6524</td>\n",
       "      <td>0.5858</td>\n",
       "      <td>0.5236</td>\n",
       "      <td>0.4762</td>\n",
       "      <td>0.4294</td>\n",
       "      <td>0.3832</td>\n",
       "      <td>0.3474</td>\n",
       "      <td>0.3180</td>\n",
       "      <td>0.2866</td>\n",
       "      <td>0.2540</td>\n",
       "    </tr>\n",
       "    <tr>\n",
       "      <th>V14</th>\n",
       "      <td>0.5406</td>\n",
       "      <td>0.5990</td>\n",
       "      <td>0.6624</td>\n",
       "      <td>0.7328</td>\n",
       "      <td>0.8100</td>\n",
       "      <td>0.8996</td>\n",
       "      <td>1.0000</td>\n",
       "      <td>0.8982</td>\n",
       "      <td>0.7968</td>\n",
       "      <td>0.7172</td>\n",
       "      <td>...</td>\n",
       "      <td>0.5842</td>\n",
       "      <td>0.5248</td>\n",
       "      <td>0.4674</td>\n",
       "      <td>0.4256</td>\n",
       "      <td>0.3848</td>\n",
       "      <td>0.3462</td>\n",
       "      <td>0.3152</td>\n",
       "      <td>0.2926</td>\n",
       "      <td>0.2668</td>\n",
       "      <td>0.2414</td>\n",
       "    </tr>\n",
       "    <tr>\n",
       "      <th>V15</th>\n",
       "      <td>0.5958</td>\n",
       "      <td>0.6678</td>\n",
       "      <td>0.7360</td>\n",
       "      <td>0.8160</td>\n",
       "      <td>0.9016</td>\n",
       "      <td>1.0000</td>\n",
       "      <td>0.8996</td>\n",
       "      <td>0.8090</td>\n",
       "      <td>0.7184</td>\n",
       "      <td>0.6448</td>\n",
       "      <td>...</td>\n",
       "      <td>0.5194</td>\n",
       "      <td>0.4676</td>\n",
       "      <td>0.4146</td>\n",
       "      <td>0.3752</td>\n",
       "      <td>0.3404</td>\n",
       "      <td>0.3066</td>\n",
       "      <td>0.2812</td>\n",
       "      <td>0.2590</td>\n",
       "      <td>0.2360</td>\n",
       "      <td>0.2126</td>\n",
       "    </tr>\n",
       "    <tr>\n",
       "      <th>V16</th>\n",
       "      <td>0.6578</td>\n",
       "      <td>0.7350</td>\n",
       "      <td>0.8144</td>\n",
       "      <td>0.9020</td>\n",
       "      <td>1.0000</td>\n",
       "      <td>0.9016</td>\n",
       "      <td>0.8100</td>\n",
       "      <td>0.7290</td>\n",
       "      <td>0.6508</td>\n",
       "      <td>0.5836</td>\n",
       "      <td>...</td>\n",
       "      <td>0.4718</td>\n",
       "      <td>0.4272</td>\n",
       "      <td>0.3814</td>\n",
       "      <td>0.3452</td>\n",
       "      <td>0.3144</td>\n",
       "      <td>0.2810</td>\n",
       "      <td>0.2560</td>\n",
       "      <td>0.2374</td>\n",
       "      <td>0.2160</td>\n",
       "      <td>0.1942</td>\n",
       "    </tr>\n",
       "    <tr>\n",
       "      <th>V17</th>\n",
       "      <td>0.7310</td>\n",
       "      <td>0.8142</td>\n",
       "      <td>0.9016</td>\n",
       "      <td>1.0000</td>\n",
       "      <td>0.9020</td>\n",
       "      <td>0.8160</td>\n",
       "      <td>0.7328</td>\n",
       "      <td>0.6610</td>\n",
       "      <td>0.5936</td>\n",
       "      <td>0.5360</td>\n",
       "      <td>...</td>\n",
       "      <td>0.4326</td>\n",
       "      <td>0.3892</td>\n",
       "      <td>0.3474</td>\n",
       "      <td>0.3152</td>\n",
       "      <td>0.2888</td>\n",
       "      <td>0.2590</td>\n",
       "      <td>0.2324</td>\n",
       "      <td>0.2106</td>\n",
       "      <td>0.1948</td>\n",
       "      <td>0.1762</td>\n",
       "    </tr>\n",
       "    <tr>\n",
       "      <th>V18</th>\n",
       "      <td>0.8122</td>\n",
       "      <td>0.9046</td>\n",
       "      <td>1.0000</td>\n",
       "      <td>0.9016</td>\n",
       "      <td>0.8144</td>\n",
       "      <td>0.7360</td>\n",
       "      <td>0.6624</td>\n",
       "      <td>0.6010</td>\n",
       "      <td>0.5404</td>\n",
       "      <td>0.4884</td>\n",
       "      <td>...</td>\n",
       "      <td>0.3922</td>\n",
       "      <td>0.3512</td>\n",
       "      <td>0.3126</td>\n",
       "      <td>0.2824</td>\n",
       "      <td>0.2612</td>\n",
       "      <td>0.2374</td>\n",
       "      <td>0.2092</td>\n",
       "      <td>0.1890</td>\n",
       "      <td>0.1764</td>\n",
       "      <td>0.1582</td>\n",
       "    </tr>\n",
       "    <tr>\n",
       "      <th>V19</th>\n",
       "      <td>0.9000</td>\n",
       "      <td>1.0000</td>\n",
       "      <td>0.9046</td>\n",
       "      <td>0.8142</td>\n",
       "      <td>0.7350</td>\n",
       "      <td>0.6678</td>\n",
       "      <td>0.5990</td>\n",
       "      <td>0.5428</td>\n",
       "      <td>0.4846</td>\n",
       "      <td>0.4390</td>\n",
       "      <td>...</td>\n",
       "      <td>0.3532</td>\n",
       "      <td>0.3190</td>\n",
       "      <td>0.2844</td>\n",
       "      <td>0.2570</td>\n",
       "      <td>0.2378</td>\n",
       "      <td>0.2160</td>\n",
       "      <td>0.1898</td>\n",
       "      <td>0.1732</td>\n",
       "      <td>0.1590</td>\n",
       "      <td>0.1416</td>\n",
       "    </tr>\n",
       "    <tr>\n",
       "      <th>V20</th>\n",
       "      <td>1.0000</td>\n",
       "      <td>0.9000</td>\n",
       "      <td>0.8122</td>\n",
       "      <td>0.7310</td>\n",
       "      <td>0.6578</td>\n",
       "      <td>0.5958</td>\n",
       "      <td>0.5406</td>\n",
       "      <td>0.4900</td>\n",
       "      <td>0.4374</td>\n",
       "      <td>0.3958</td>\n",
       "      <td>...</td>\n",
       "      <td>0.3212</td>\n",
       "      <td>0.2902</td>\n",
       "      <td>0.2576</td>\n",
       "      <td>0.2302</td>\n",
       "      <td>0.2142</td>\n",
       "      <td>0.1940</td>\n",
       "      <td>0.1670</td>\n",
       "      <td>0.1524</td>\n",
       "      <td>0.1378</td>\n",
       "      <td>0.1228</td>\n",
       "    </tr>\n",
       "  </tbody>\n",
       "</table>\n",
       "<p>21 rows × 21 columns</p>\n",
       "</div>"
      ],
      "text/plain": [
       "         V0      V1      V2      V3      V4      V5      V6      V7      V8  \\\n",
       "V0   0.1228  0.1416  0.1582  0.1762  0.1942  0.2126  0.2414  0.2540  0.2842   \n",
       "V1   0.1378  0.1590  0.1764  0.1948  0.2160  0.2360  0.2668  0.2866  0.3212   \n",
       "V2   0.1524  0.1732  0.1890  0.2106  0.2374  0.2590  0.2926  0.3180  0.3534   \n",
       "V3   0.1670  0.1898  0.2092  0.2324  0.2560  0.2812  0.3152  0.3474  0.3884   \n",
       "V4   0.1940  0.2160  0.2374  0.2590  0.2810  0.3066  0.3462  0.3832  0.4298   \n",
       "V5   0.2142  0.2378  0.2612  0.2888  0.3144  0.3404  0.3848  0.4294  0.4832   \n",
       "V6   0.2302  0.2570  0.2824  0.3152  0.3452  0.3752  0.4256  0.4762  0.5344   \n",
       "V7   0.2576  0.2844  0.3126  0.3474  0.3814  0.4146  0.4674  0.5236  0.5894   \n",
       "V8   0.2902  0.3190  0.3512  0.3892  0.4272  0.4676  0.5248  0.5858  0.6584   \n",
       "V9   0.3212  0.3532  0.3922  0.4326  0.4718  0.5194  0.5842  0.6524  0.7346   \n",
       "V10  0.3598  0.3978  0.4396  0.4836  0.5252  0.5800  0.6492  0.7242  0.8132   \n",
       "V11  0.3958  0.4390  0.4884  0.5360  0.5836  0.6448  0.7172  0.7990  0.8992   \n",
       "V12  0.4374  0.4846  0.5404  0.5936  0.6508  0.7184  0.7968  0.8882  1.0000   \n",
       "V13  0.4900  0.5428  0.6010  0.6610  0.7290  0.8090  0.8982  1.0000  0.8882   \n",
       "V14  0.5406  0.5990  0.6624  0.7328  0.8100  0.8996  1.0000  0.8982  0.7968   \n",
       "V15  0.5958  0.6678  0.7360  0.8160  0.9016  1.0000  0.8996  0.8090  0.7184   \n",
       "V16  0.6578  0.7350  0.8144  0.9020  1.0000  0.9016  0.8100  0.7290  0.6508   \n",
       "V17  0.7310  0.8142  0.9016  1.0000  0.9020  0.8160  0.7328  0.6610  0.5936   \n",
       "V18  0.8122  0.9046  1.0000  0.9016  0.8144  0.7360  0.6624  0.6010  0.5404   \n",
       "V19  0.9000  1.0000  0.9046  0.8142  0.7350  0.6678  0.5990  0.5428  0.4846   \n",
       "V20  1.0000  0.9000  0.8122  0.7310  0.6578  0.5958  0.5406  0.4900  0.4374   \n",
       "\n",
       "         V9  ...     V11     V12     V13     V14     V15     V16     V17  \\\n",
       "V0   0.3130  ...  0.3816  0.4258  0.4812  0.5310  0.5906  0.6584  0.7354   \n",
       "V1   0.3536  ...  0.4290  0.4756  0.5322  0.5912  0.6568  0.7306  0.8132   \n",
       "V2   0.3906  ...  0.4768  0.5306  0.5940  0.6550  0.7274  0.8100  0.9030   \n",
       "V3   0.4280  ...  0.5254  0.5856  0.6582  0.7276  0.8076  0.8978  1.0000   \n",
       "V4   0.4770  ...  0.5876  0.6538  0.7340  0.8098  0.8998  1.0000  0.8978   \n",
       "V5   0.5332  ...  0.6518  0.7256  0.8122  0.8976  1.0000  0.8998  0.8076   \n",
       "V6   0.5912  ...  0.7238  0.8080  0.9046  1.0000  0.8976  0.8098  0.7276   \n",
       "V7   0.6550  ...  0.8040  0.8946  1.0000  0.9046  0.8122  0.7340  0.6582   \n",
       "V8   0.7332  ...  0.8990  1.0000  0.8946  0.8080  0.7256  0.6538  0.5856   \n",
       "V9   0.8170  ...  1.0000  0.8990  0.8040  0.7238  0.6518  0.5876  0.5254   \n",
       "V10  0.9036  ...  0.9062  0.8124  0.7258  0.6528  0.5876  0.5290  0.4756   \n",
       "V11  1.0000  ...  0.8170  0.7332  0.6550  0.5912  0.5332  0.4770  0.4280   \n",
       "V12  0.8992  ...  0.7346  0.6584  0.5894  0.5344  0.4832  0.4298  0.3884   \n",
       "V13  0.7990  ...  0.6524  0.5858  0.5236  0.4762  0.4294  0.3832  0.3474   \n",
       "V14  0.7172  ...  0.5842  0.5248  0.4674  0.4256  0.3848  0.3462  0.3152   \n",
       "V15  0.6448  ...  0.5194  0.4676  0.4146  0.3752  0.3404  0.3066  0.2812   \n",
       "V16  0.5836  ...  0.4718  0.4272  0.3814  0.3452  0.3144  0.2810  0.2560   \n",
       "V17  0.5360  ...  0.4326  0.3892  0.3474  0.3152  0.2888  0.2590  0.2324   \n",
       "V18  0.4884  ...  0.3922  0.3512  0.3126  0.2824  0.2612  0.2374  0.2092   \n",
       "V19  0.4390  ...  0.3532  0.3190  0.2844  0.2570  0.2378  0.2160  0.1898   \n",
       "V20  0.3958  ...  0.3212  0.2902  0.2576  0.2302  0.2142  0.1940  0.1670   \n",
       "\n",
       "        V18     V19     V20  \n",
       "V0   0.8168  0.9038  1.0000  \n",
       "V1   0.9010  1.0000  0.9038  \n",
       "V2   1.0000  0.9010  0.8168  \n",
       "V3   0.9030  0.8132  0.7354  \n",
       "V4   0.8100  0.7306  0.6584  \n",
       "V5   0.7274  0.6568  0.5906  \n",
       "V6   0.6550  0.5912  0.5310  \n",
       "V7   0.5940  0.5322  0.4812  \n",
       "V8   0.5306  0.4756  0.4258  \n",
       "V9   0.4768  0.4290  0.3816  \n",
       "V10  0.4334  0.3916  0.3474  \n",
       "V11  0.3906  0.3536  0.3130  \n",
       "V12  0.3534  0.3212  0.2842  \n",
       "V13  0.3180  0.2866  0.2540  \n",
       "V14  0.2926  0.2668  0.2414  \n",
       "V15  0.2590  0.2360  0.2126  \n",
       "V16  0.2374  0.2160  0.1942  \n",
       "V17  0.2106  0.1948  0.1762  \n",
       "V18  0.1890  0.1764  0.1582  \n",
       "V19  0.1732  0.1590  0.1416  \n",
       "V20  0.1524  0.1378  0.1228  \n",
       "\n",
       "[21 rows x 21 columns]"
      ]
     },
     "metadata": {},
     "output_type": "display_data"
    },
    {
     "data": {
      "image/png": "[encoded data removed]",
      "text/plain": [
       "<Figure size 800x600 with 2 Axes>"
      ]
     },
     "metadata": {},
     "output_type": "display_data"
    }
   ],
   "source": [
    "from sklearn.metrics.pairwise import cosine_similarity\n",
    "\n",
    "# Calcular la matriz de similaridad coseno\n",
    "cos_sim_matrix = cosine_similarity(reds_hdv)\n",
    "cos_sim_matrix = cos_sim_matrix[::-1, :]\n",
    "\n",
    "# Representar la matriz de similaridad como DataFrame para mejor visualización\n",
    "df_cos_sim = pd.DataFrame(cos_sim_matrix,\n",
    "                          index=[f\"V{i}\" for i in range(reds_hdv.shape[0])],\n",
    "                          columns=[f\"V{i}\" for i in range(reds_hdv.shape[0])])\n",
    "\n",
    "# Mostrar en formato tabla\n",
    "display(df_cos_sim)\n",
    "\n",
    "# Representar la matriz de similaridad coseno con un mapa de calor\n",
    "plt.figure(figsize=(8, 6))\n",
    "plt.imshow(cos_sim_matrix, cmap='magma', interpolation='nearest')\n",
    "plt.colorbar(label='Cosine Similarity')\n",
    "plt.title(\"Cosine Similarity Between Rows of V\")\n",
    "plt.xticks(ticks=np.arange(len(color_steps)),\n",
    "           labels=[f\"{val:.2f}\" for val in color_steps], rotation=90)\n",
    "plt.yticks(ticks=np.arange(len(color_steps)),\n",
    "           labels=[f\"{val:.2f}\" for val in color_steps[::-1]])\n",
    "\n",
    "plt.tight_layout()\n",
    "plt.show()\n"
   ]
  },
  {
   "cell_type": "code",
   "execution_count": 51,
   "metadata": {},
   "outputs": [],
   "source": [
    "greens_hdv = range_hdvs(color_steps)\n",
    "blues_hdv = range_hdvs(color_steps)"
   ]
  },
  {
   "cell_type": "code",
   "execution_count": 52,
   "metadata": {},
   "outputs": [],
   "source": [
    "def col_ind(component):\n",
    "    return round(component * 20)\n",
    "\n",
    "def encode_col(color):\n",
    "    return bind(reds_hdv[col_ind(color[0])],\n",
    "                greens_hdv[col_ind(color[1])],\n",
    "                blues_hdv[col_ind(color[2])])"
   ]
  },
  {
   "cell_type": "code",
   "execution_count": 53,
   "metadata": {},
   "outputs": [],
   "source": [
    "colhdv = encode_col(acolor)"
   ]
  },
  {
   "cell_type": "code",
   "execution_count": 54,
   "metadata": {},
   "outputs": [],
   "source": [
    "ref_colors = [{'color':c, 'hdv':encode_col(c)} for c in [randcol() for _ in range(1000)]]"
   ]
  },
  {
   "cell_type": "code",
   "execution_count": 55,
   "metadata": {},
   "outputs": [],
   "source": [
    "def decode_colors(v):\n",
    "    best_match = max(ref_colors, key=lambda item: cos_similarity(v, item[\"hdv\"]))\n",
    "    show_color(best_match[\"color\"])\n",
    "    return best_match[\"color\"]"
   ]
  },
  {
   "cell_type": "code",
   "execution_count": 56,
   "metadata": {},
   "outputs": [
    {
     "data": {
      "image/png": "[encoded data removed]",
      "text/plain": [
       "<Figure size 100x100 with 1 Axes>"
      ]
     },
     "metadata": {},
     "output_type": "display_data"
    },
    {
     "data": {
      "text/plain": [
       "array([0.06837771, 0.33175334, 0.46596339])"
      ]
     },
     "execution_count": 56,
     "metadata": {},
     "output_type": "execute_result"
    }
   ],
   "source": [
    "decode_colors(colhdv)"
   ]
  },
  {
   "cell_type": "code",
   "execution_count": 57,
   "metadata": {},
   "outputs": [
    {
     "data": {
      "image/png": "[encoded data removed]",
      "text/plain": [
       "<Figure size 100x100 with 1 Axes>"
      ]
     },
     "metadata": {},
     "output_type": "display_data"
    },
    {
     "data": {
      "text/plain": [
       "array([0.68050026, 0.74343693, 0.49326931])"
      ]
     },
     "execution_count": 57,
     "metadata": {},
     "output_type": "execute_result"
    }
   ],
   "source": [
    "decode_colors(hdv())"
   ]
  },
  {
   "cell_type": "code",
   "execution_count": 58,
   "metadata": {},
   "outputs": [],
   "source": [
    "def encode_emoji_col_pair(s, c):\n",
    "    return bind(emojis_hdvs[s], encode_col(c))"
   ]
  },
  {
   "cell_type": "code",
   "execution_count": 59,
   "metadata": {},
   "outputs": [],
   "source": [
    "col_emoji_hdvs = [encode_emoji_col_pair(s, c) for s, c in toy_data1]"
   ]
  },
  {
   "cell_type": "code",
   "execution_count": 60,
   "metadata": {},
   "outputs": [],
   "source": [
    "toy_data_emb = bundle(*col_emoji_hdvs)"
   ]
  },
  {
   "cell_type": "code",
   "execution_count": 61,
   "metadata": {},
   "outputs": [
    {
     "data": {
      "text/plain": [
       "array([ 0,  1, -1, ..., -1, -1, -1], shape=(10000,))"
      ]
     },
     "execution_count": 61,
     "metadata": {},
     "output_type": "execute_result"
    }
   ],
   "source": [
    "bind(toy_data_emb, emojis_hdvs['🚒'])"
   ]
  },
  {
   "cell_type": "code",
   "execution_count": 62,
   "metadata": {},
   "outputs": [
    {
     "data": {
      "image/png": "[encoded data removed]",
      "text/plain": [
       "<Figure size 100x100 with 1 Axes>"
      ]
     },
     "metadata": {},
     "output_type": "display_data"
    },
    {
     "data": {
      "text/plain": [
       "array([0.99594228, 0.49927096, 0.40756191])"
      ]
     },
     "execution_count": 62,
     "metadata": {},
     "output_type": "execute_result"
    }
   ],
   "source": [
    "decode_colors(bind(toy_data_emb, emojis_hdvs['🚒']))"
   ]
  },
  {
   "cell_type": "code",
   "execution_count": 63,
   "metadata": {},
   "outputs": [
    {
     "data": {
      "image/png": "[encoded data removed]",
      "text/plain": [
       "<Figure size 100x100 with 1 Axes>"
      ]
     },
     "metadata": {},
     "output_type": "display_data"
    },
    {
     "data": {
      "text/plain": [
       "array([0.91298986, 0.97291318, 0.96711161])"
      ]
     },
     "execution_count": 63,
     "metadata": {},
     "output_type": "execute_result"
    }
   ],
   "source": [
    "decode_colors(bind(toy_data_emb, emojis_hdvs['💦']))"
   ]
  },
  {
   "cell_type": "code",
   "execution_count": 64,
   "metadata": {},
   "outputs": [
    {
     "data": {
      "image/png": "[encoded data removed]",
      "text/plain": [
       "<Figure size 100x100 with 1 Axes>"
      ]
     },
     "metadata": {},
     "output_type": "display_data"
    },
    {
     "data": {
      "text/plain": [
       "array([0.60890573, 0.86209706, 0.60674238])"
      ]
     },
     "execution_count": 64,
     "metadata": {},
     "output_type": "execute_result"
    }
   ],
   "source": [
    "decode_colors(bind(toy_data_emb, emojis_hdvs['🌱']))"
   ]
  },
  {
   "cell_type": "code",
   "execution_count": 65,
   "metadata": {},
   "outputs": [
    {
     "data": {
      "image/png": "[encoded data removed]",
      "text/plain": [
       "<Figure size 100x100 with 1 Axes>"
      ]
     },
     "metadata": {},
     "output_type": "display_data"
    },
    {
     "data": {
      "text/plain": [
       "array([0.97181433, 0.99913183, 0.77094574])"
      ]
     },
     "execution_count": 65,
     "metadata": {},
     "output_type": "execute_result"
    }
   ],
   "source": [
    "decode_colors(bind(toy_data_emb, emojis_hdvs['🍌']))"
   ]
  },
  {
   "cell_type": "markdown",
   "metadata": {},
   "source": [
    "## Example 1.1: color matching with noise"
   ]
  },
  {
   "cell_type": "markdown",
   "metadata": {},
   "source": [
    "### Data required for this example"
   ]
  },
  {
   "cell_type": "code",
   "execution_count": 66,
   "metadata": {},
   "outputs": [],
   "source": [
    "toy_data2 = [\n",
    "    (\n",
    "        emoji := random.choice(emojis),\n",
    "        random.sample(\n",
    "            [\n",
    "                random.choice(emojis_colors[emoji]),\n",
    "                randcol(),\n",
    "                randcol()\n",
    "            ],\n",
    "            3\n",
    "        )\n",
    "    )\n",
    "    for _ in range(500)\n",
    "]"
   ]
  },
  {
   "cell_type": "code",
   "execution_count": 67,
   "metadata": {},
   "outputs": [],
   "source": [
    "def encode_shape_col_pair2(s, colors):\n",
    "    return bind(emojis_hdvs[s], bundle(*map(encode_col, colors)))"
   ]
  },
  {
   "cell_type": "code",
   "execution_count": 68,
   "metadata": {},
   "outputs": [],
   "source": [
    "toy_data_emb2 = bundle(*[encode_shape_col_pair2(s, colors) for s, colors in toy_data2])"
   ]
  },
  {
   "cell_type": "code",
   "execution_count": 69,
   "metadata": {},
   "outputs": [
    {
     "data": {
      "image/png": "[encoded data removed]",
      "text/plain": [
       "<Figure size 100x100 with 1 Axes>"
      ]
     },
     "metadata": {},
     "output_type": "display_data"
    },
    {
     "data": {
      "text/plain": [
       "array([0.80453258, 0.49976871, 0.46730163])"
      ]
     },
     "execution_count": 69,
     "metadata": {},
     "output_type": "execute_result"
    }
   ],
   "source": [
    "decode_colors(bind(toy_data_emb2, emojis_hdvs['🚒']))"
   ]
  },
  {
   "cell_type": "code",
   "execution_count": 70,
   "metadata": {},
   "outputs": [
    {
     "data": {
      "image/png": "[encoded data removed]",
      "text/plain": [
       "<Figure size 100x100 with 1 Axes>"
      ]
     },
     "metadata": {},
     "output_type": "display_data"
    },
    {
     "data": {
      "text/plain": [
       "array([0.27834859, 0.54946129, 0.76513972])"
      ]
     },
     "execution_count": 70,
     "metadata": {},
     "output_type": "execute_result"
    }
   ],
   "source": [
    "decode_colors(bind(toy_data_emb2, emojis_hdvs['💦']))"
   ]
  },
  {
   "cell_type": "code",
   "execution_count": 71,
   "metadata": {},
   "outputs": [
    {
     "data": {
      "image/png": "[encoded data removed]",
      "text/plain": [
       "<Figure size 100x100 with 1 Axes>"
      ]
     },
     "metadata": {},
     "output_type": "display_data"
    },
    {
     "data": {
      "text/plain": [
       "array([0.62424508, 0.70859061, 0.52010193])"
      ]
     },
     "execution_count": 71,
     "metadata": {},
     "output_type": "execute_result"
    }
   ],
   "source": [
    "decode_colors(bind(toy_data_emb2, emojis_hdvs['🌱']))"
   ]
  },
  {
   "cell_type": "code",
   "execution_count": 72,
   "metadata": {},
   "outputs": [
    {
     "data": {
      "image/png": "[encoded data removed]",
      "text/plain": [
       "<Figure size 100x100 with 1 Axes>"
      ]
     },
     "metadata": {},
     "output_type": "display_data"
    },
    {
     "data": {
      "text/plain": [
       "array([0.94141823, 0.96985192, 0.59022178])"
      ]
     },
     "execution_count": 72,
     "metadata": {},
     "output_type": "execute_result"
    }
   ],
   "source": [
    "decode_colors(bind(toy_data_emb2, emojis_hdvs['🍌']))"
   ]
  },
  {
   "cell_type": "markdown",
   "metadata": {},
   "source": [
    "## Example 2: Recipes"
   ]
  },
  {
   "cell_type": "markdown",
   "metadata": {},
   "source": []
  }
 ],
 "metadata": {
  "kernelspec": {
   "display_name": "python-hdc-tuto-8TWL6ZxT-py3.11",
   "language": "python",
   "name": "python3"
  },
  "language_info": {
   "codemirror_mode": {
    "name": "ipython",
    "version": 3
   },
   "file_extension": ".py",
   "mimetype": "text/x-python",
   "name": "python",
   "nbconvert_exporter": "python",
   "pygments_lexer": "ipython3",
   "version": "3.11.2"
  }
 },
 "nbformat": 4,
 "nbformat_minor": 2
}
