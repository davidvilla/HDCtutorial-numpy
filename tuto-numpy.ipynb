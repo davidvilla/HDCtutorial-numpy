{
 "cells": [
  {
   "cell_type": "markdown",
   "metadata": {},
   "source": [
    "# Tutorial on Hyperdimensional Computing\n",
    "Translation to Python+numpy from https://michielstock.github.io/posts/2022/2022-10-04-HDVtutorial/"
   ]
  },
  {
   "cell_type": "code",
   "execution_count": 36,
   "metadata": {},
   "outputs": [],
   "source": [
    "import math\n",
    "import random\n",
    "import numpy as np\n",
    "from numpy.typing import NDArray\n",
    "import matplotlib.pyplot as plt\n",
    "import pandas as pd\n"
   ]
  },
  {
   "cell_type": "code",
   "execution_count": 2,
   "metadata": {},
   "outputs": [],
   "source": [
    "N = 10000\n",
    "\n",
    "def hdv() -> np.ndarray:\n",
    "    return np.random.choice([-1, 1], size=N)"
   ]
  },
  {
   "cell_type": "code",
   "execution_count": 3,
   "metadata": {},
   "outputs": [
    {
     "data": {
      "text/plain": [
       "array([-1, -1, -1, ..., -1,  1,  1])"
      ]
     },
     "execution_count": 3,
     "metadata": {},
     "output_type": "execute_result"
    }
   ],
   "source": [
    "x = hdv()\n",
    "x"
   ]
  },
  {
   "cell_type": "code",
   "execution_count": 4,
   "metadata": {},
   "outputs": [
    {
     "data": {
      "text/plain": [
       "array([ 1, -1, -1, ...,  1, -1, -1])"
      ]
     },
     "execution_count": 4,
     "metadata": {},
     "output_type": "execute_result"
    }
   ],
   "source": [
    "y = hdv()\n",
    "y"
   ]
  },
  {
   "cell_type": "code",
   "execution_count": 5,
   "metadata": {},
   "outputs": [
    {
     "data": {
      "text/plain": [
       "4971"
      ]
     },
     "execution_count": 5,
     "metadata": {},
     "output_type": "execute_result"
    }
   ],
   "source": [
    "np.sum(x == y)"
   ]
  },
  {
   "cell_type": "code",
   "execution_count": 6,
   "metadata": {},
   "outputs": [],
   "source": [
    "def hdv_m(rows: int) -> NDArray:\n",
    "    return np.random.choice([-1, 1], size=(rows, N))"
   ]
  },
  {
   "cell_type": "code",
   "execution_count": 7,
   "metadata": {},
   "outputs": [
    {
     "data": {
      "text/plain": [
       "array([[ 1,  1, -1, ...,  1,  1,  1],\n",
       "       [ 1,  1,  1, ..., -1,  1, -1],\n",
       "       [-1, -1,  1, ..., -1,  1,  1],\n",
       "       ...,\n",
       "       [ 1,  1,  1, ...,  1, -1,  1],\n",
       "       [-1, -1,  1, ...,  1, -1,  1],\n",
       "       [ 1,  1,  1, ..., -1, -1, -1]])"
      ]
     },
     "execution_count": 7,
     "metadata": {},
     "output_type": "execute_result"
    }
   ],
   "source": [
    "V = hdv_m(10)\n",
    "V"
   ]
  },
  {
   "cell_type": "markdown",
   "metadata": {},
   "source": [
    "## Bundling"
   ]
  },
  {
   "cell_type": "code",
   "execution_count": 8,
   "metadata": {},
   "outputs": [
    {
     "name": "stdout",
     "output_type": "stream",
     "text": [
      "[1 0]\n"
     ]
    }
   ],
   "source": [
    "def bundle_m(U: NDArray[int]) -> NDArray[int]:\n",
    "    if U.ndim != 2:\n",
    "        raise ValueError(\"U must be a 2d array.\")\n",
    "\n",
    "    return np.sign(np.sum(U, axis=0))\n",
    "\n",
    "# example\n",
    "U = np.array([[1, 2],\n",
    "              [-3, 4],\n",
    "              [5, -6]])\n",
    "\n",
    "result = bundle_m(U)\n",
    "print(result)"
   ]
  },
  {
   "cell_type": "code",
   "execution_count": 9,
   "metadata": {},
   "outputs": [
    {
     "data": {
      "text/plain": [
       "array([1, 0, 1, ..., 0, 0, 1])"
      ]
     },
     "execution_count": 9,
     "metadata": {},
     "output_type": "execute_result"
    }
   ],
   "source": [
    "bundle_m(V)"
   ]
  },
  {
   "cell_type": "code",
   "execution_count": 10,
   "metadata": {},
   "outputs": [
    {
     "name": "stdout",
     "output_type": "stream",
     "text": [
      "[1 0]\n"
     ]
    }
   ],
   "source": [
    "def bundle(*xs: NDArray[int]) -> NDArray[int]:\n",
    "    summed = np.add.reduce(xs)\n",
    "    return np.sign(summed)\n",
    "\n",
    "# example\n",
    "xs = bundle(np.array([1, 2]), np.array([-3, 4]), np.array([5, -6]))\n",
    "print(xs)"
   ]
  },
  {
   "cell_type": "code",
   "execution_count": 11,
   "metadata": {},
   "outputs": [
    {
     "data": {
      "text/plain": [
       "array([ 0, -1, -1, ...,  0,  0,  0])"
      ]
     },
     "execution_count": 11,
     "metadata": {},
     "output_type": "execute_result"
    }
   ],
   "source": [
    "bundle(x, y)"
   ]
  },
  {
   "cell_type": "markdown",
   "metadata": {},
   "source": [
    "## Binding"
   ]
  },
  {
   "cell_type": "code",
   "execution_count": 12,
   "metadata": {},
   "outputs": [
    {
     "data": {
      "text/plain": [
       "array([-15, -48])"
      ]
     },
     "execution_count": 12,
     "metadata": {},
     "output_type": "execute_result"
    }
   ],
   "source": [
    "def bind(*xs: NDArray[int]):\n",
    "    return np.multiply.reduce(xs)\n",
    "\n",
    "# example\n",
    "xs = bind(np.array([1, 2]), np.array([-3, 4]), np.array([5, -6]))\n",
    "bind(xs)"
   ]
  },
  {
   "cell_type": "code",
   "execution_count": 13,
   "metadata": {},
   "outputs": [
    {
     "data": {
      "text/plain": [
       "array([-1,  1,  1, ..., -1, -1, -1])"
      ]
     },
     "execution_count": 13,
     "metadata": {},
     "output_type": "execute_result"
    }
   ],
   "source": [
    "bind(x, y)"
   ]
  },
  {
   "cell_type": "code",
   "execution_count": 14,
   "metadata": {},
   "outputs": [
    {
     "data": {
      "text/plain": [
       "True"
      ]
     },
     "execution_count": 14,
     "metadata": {},
     "output_type": "execute_result"
    }
   ],
   "source": [
    "np.array_equal(bind(bind(x, y), y),\n",
    "               x)"
   ]
  },
  {
   "cell_type": "code",
   "execution_count": 15,
   "metadata": {},
   "outputs": [
    {
     "data": {
      "text/plain": [
       "True"
      ]
     },
     "execution_count": 15,
     "metadata": {},
     "output_type": "execute_result"
    }
   ],
   "source": [
    "np.array_equal(bind(bind(x, y), x), y)"
   ]
  },
  {
   "cell_type": "markdown",
   "metadata": {},
   "source": [
    "## Shifting"
   ]
  },
  {
   "cell_type": "code",
   "execution_count": 16,
   "metadata": {},
   "outputs": [
    {
     "data": {
      "text/plain": [
       "array([3, 1, 2])"
      ]
     },
     "execution_count": 16,
     "metadata": {},
     "output_type": "execute_result"
    }
   ],
   "source": [
    "def shift(x, k=1):\n",
    "    return np.roll(x, k)\n",
    "\n",
    "# example\n",
    "shift([1, 2, 3])"
   ]
  },
  {
   "cell_type": "markdown",
   "metadata": {},
   "source": [
    "## Similarity between HDVs"
   ]
  },
  {
   "cell_type": "code",
   "execution_count": 33,
   "metadata": {},
   "outputs": [
    {
     "data": {
      "text/plain": [
       "0.9746318461970762"
      ]
     },
     "execution_count": 33,
     "metadata": {},
     "output_type": "execute_result"
    }
   ],
   "source": [
    "def cos_similarity(x, y):\n",
    "    return np.dot(x, y) / (np.linalg.norm(x) * np.linalg.norm(y))\n",
    "\n",
    "# example\n",
    "cos_similarity([1, 2, 3],\n",
    "               [4, 5, 6])"
   ]
  },
  {
   "cell_type": "code",
   "execution_count": 18,
   "metadata": {},
   "outputs": [
    {
     "data": {
      "text/plain": [
       "-0.0058"
      ]
     },
     "execution_count": 18,
     "metadata": {},
     "output_type": "execute_result"
    }
   ],
   "source": [
    "cos_similarity(x, y)"
   ]
  },
  {
   "cell_type": "markdown",
   "metadata": {},
   "source": [
    "## Properties of the operations"
   ]
  },
  {
   "cell_type": "code",
   "execution_count": 19,
   "metadata": {},
   "outputs": [],
   "source": [
    "z = hdv()"
   ]
  },
  {
   "cell_type": "code",
   "execution_count": 20,
   "metadata": {},
   "outputs": [
    {
     "data": {
      "text/plain": [
       "True"
      ]
     },
     "execution_count": 20,
     "metadata": {},
     "output_type": "execute_result"
    }
   ],
   "source": [
    "np.array_equal(bind(x, bundle(y, z)),\n",
    "               bundle(bind(x, y), bind(x, z)))"
   ]
  },
  {
   "cell_type": "code",
   "execution_count": 21,
   "metadata": {},
   "outputs": [
    {
     "data": {
      "text/plain": [
       "True"
      ]
     },
     "execution_count": 21,
     "metadata": {},
     "output_type": "execute_result"
    }
   ],
   "source": [
    "np.array_equal(cos_similarity(x,y),\n",
    "               cos_similarity(bind(x, z), bind(y, z)))"
   ]
  },
  {
   "cell_type": "markdown",
   "metadata": {},
   "source": [
    "# Examples"
   ]
  },
  {
   "cell_type": "markdown",
   "metadata": {},
   "source": [
    "## Example 1: color matching"
   ]
  },
  {
   "cell_type": "code",
   "execution_count": 40,
   "metadata": {},
   "outputs": [
    {
     "data": {
      "image/png": "[encoded data removed]",
      "text/plain": [
       "<Figure size 100x100 with 1 Axes>"
      ]
     },
     "metadata": {},
     "output_type": "display_data"
    }
   ],
   "source": [
    "def randcol():\n",
    "    return np.random.rand(3)\n",
    "\n",
    "def show_color(color):\n",
    "    plt.figure(figsize=(1,1))\n",
    "    plt.imshow([[color]])\n",
    "    plt.axis('off')\n",
    "    plt.show()\n",
    "\n",
    "acolor = randcol()\n",
    "show_color(acolor)"
   ]
  },
  {
   "cell_type": "code",
   "execution_count": 23,
   "metadata": {},
   "outputs": [],
   "source": [
    "emojis = ['🍌', '💦', '🥚', '🌅', '🐺', '🌱', '🚒']"
   ]
  },
  {
   "cell_type": "code",
   "execution_count": 24,
   "metadata": {},
   "outputs": [],
   "source": [
    "toy_data1 = []\n",
    "for i in range(100):\n",
    "    toy_data1.append((np.random.choice(emojis), randcol()))"
   ]
  },
  {
   "cell_type": "code",
   "execution_count": 25,
   "metadata": {},
   "outputs": [],
   "source": [
    "emojis_hdvs = {emoji: hdv() for emoji in emojis}"
   ]
  },
  {
   "cell_type": "code",
   "execution_count": 26,
   "metadata": {},
   "outputs": [],
   "source": [
    "def range_hdvs(steps):\n",
    "    k = len(steps) - 1\n",
    "\n",
    "    V = hdv_m(k + 1)  # V size is (k+1)xN\n",
    "\n",
    "    for i in range(1, k + 1):  # for each other row/step\n",
    "        for j in range(N):     # for each column\n",
    "            V[i, j] = -V[i-1, j] if random.random() < (1 / k) else V[i-1, j]\n",
    "\n",
    "    return V\n"
   ]
  },
  {
   "cell_type": "code",
   "execution_count": 27,
   "metadata": {},
   "outputs": [],
   "source": [
    "color_steps = np.arange(0, 1.05, 0.05)"
   ]
  },
  {
   "cell_type": "code",
   "execution_count": 28,
   "metadata": {},
   "outputs": [
    {
     "name": "stdout",
     "output_type": "stream",
     "text": [
      "(21, 10000)\n"
     ]
    }
   ],
   "source": [
    "reds_hdv = range_hdvs(color_steps)\n",
    "print(reds_hdv.shape)"
   ]
  },
  {
   "cell_type": "code",
   "execution_count": 34,
   "metadata": {},
   "outputs": [
    {
     "data": {
      "text/html": [
       "<div>\n",
       "<style scoped>\n",
       "    .dataframe tbody tr th:only-of-type {\n",
       "        vertical-align: middle;\n",
       "    }\n",
       "\n",
       "    .dataframe tbody tr th {\n",
       "        vertical-align: top;\n",
       "    }\n",
       "\n",
       "    .dataframe thead th {\n",
       "        text-align: right;\n",
       "    }\n",
       "</style>\n",
       "<table border=\"1\" class=\"dataframe\">\n",
       "  <thead>\n",
       "    <tr style=\"text-align: right;\">\n",
       "      <th></th>\n",
       "      <th>V0</th>\n",
       "      <th>V1</th>\n",
       "      <th>V2</th>\n",
       "      <th>V3</th>\n",
       "      <th>V4</th>\n",
       "      <th>V5</th>\n",
       "      <th>V6</th>\n",
       "      <th>V7</th>\n",
       "      <th>V8</th>\n",
       "      <th>V9</th>\n",
       "      <th>...</th>\n",
       "      <th>V11</th>\n",
       "      <th>V12</th>\n",
       "      <th>V13</th>\n",
       "      <th>V14</th>\n",
       "      <th>V15</th>\n",
       "      <th>V16</th>\n",
       "      <th>V17</th>\n",
       "      <th>V18</th>\n",
       "      <th>V19</th>\n",
       "      <th>V20</th>\n",
       "    </tr>\n",
       "  </thead>\n",
       "  <tbody>\n",
       "    <tr>\n",
       "      <th>V0</th>\n",
       "      <td>0.1208</td>\n",
       "      <td>0.1326</td>\n",
       "      <td>0.1442</td>\n",
       "      <td>0.1644</td>\n",
       "      <td>0.1772</td>\n",
       "      <td>0.1944</td>\n",
       "      <td>0.2172</td>\n",
       "      <td>0.2460</td>\n",
       "      <td>0.2670</td>\n",
       "      <td>0.3046</td>\n",
       "      <td>...</td>\n",
       "      <td>0.3820</td>\n",
       "      <td>0.4186</td>\n",
       "      <td>0.4702</td>\n",
       "      <td>0.5302</td>\n",
       "      <td>0.5898</td>\n",
       "      <td>0.6576</td>\n",
       "      <td>0.7318</td>\n",
       "      <td>0.8114</td>\n",
       "      <td>0.9002</td>\n",
       "      <td>1.0000</td>\n",
       "    </tr>\n",
       "    <tr>\n",
       "      <th>V1</th>\n",
       "      <td>0.1362</td>\n",
       "      <td>0.1476</td>\n",
       "      <td>0.1616</td>\n",
       "      <td>0.1834</td>\n",
       "      <td>0.1970</td>\n",
       "      <td>0.2170</td>\n",
       "      <td>0.2406</td>\n",
       "      <td>0.2718</td>\n",
       "      <td>0.2996</td>\n",
       "      <td>0.3368</td>\n",
       "      <td>...</td>\n",
       "      <td>0.4258</td>\n",
       "      <td>0.4688</td>\n",
       "      <td>0.5252</td>\n",
       "      <td>0.5908</td>\n",
       "      <td>0.6612</td>\n",
       "      <td>0.7346</td>\n",
       "      <td>0.8148</td>\n",
       "      <td>0.9020</td>\n",
       "      <td>1.0000</td>\n",
       "      <td>0.9002</td>\n",
       "    </tr>\n",
       "    <tr>\n",
       "      <th>V2</th>\n",
       "      <td>0.1582</td>\n",
       "      <td>0.1660</td>\n",
       "      <td>0.1836</td>\n",
       "      <td>0.2102</td>\n",
       "      <td>0.2262</td>\n",
       "      <td>0.2466</td>\n",
       "      <td>0.2758</td>\n",
       "      <td>0.3094</td>\n",
       "      <td>0.3392</td>\n",
       "      <td>0.3796</td>\n",
       "      <td>...</td>\n",
       "      <td>0.4742</td>\n",
       "      <td>0.5204</td>\n",
       "      <td>0.5860</td>\n",
       "      <td>0.6584</td>\n",
       "      <td>0.7348</td>\n",
       "      <td>0.8142</td>\n",
       "      <td>0.9032</td>\n",
       "      <td>1.0000</td>\n",
       "      <td>0.9020</td>\n",
       "      <td>0.8114</td>\n",
       "    </tr>\n",
       "    <tr>\n",
       "      <th>V3</th>\n",
       "      <td>0.1738</td>\n",
       "      <td>0.1824</td>\n",
       "      <td>0.2012</td>\n",
       "      <td>0.2278</td>\n",
       "      <td>0.2466</td>\n",
       "      <td>0.2690</td>\n",
       "      <td>0.3034</td>\n",
       "      <td>0.3402</td>\n",
       "      <td>0.3768</td>\n",
       "      <td>0.4216</td>\n",
       "      <td>...</td>\n",
       "      <td>0.5266</td>\n",
       "      <td>0.5776</td>\n",
       "      <td>0.6476</td>\n",
       "      <td>0.7268</td>\n",
       "      <td>0.8096</td>\n",
       "      <td>0.8990</td>\n",
       "      <td>1.0000</td>\n",
       "      <td>0.9032</td>\n",
       "      <td>0.8148</td>\n",
       "      <td>0.7318</td>\n",
       "    </tr>\n",
       "    <tr>\n",
       "      <th>V4</th>\n",
       "      <td>0.1928</td>\n",
       "      <td>0.2058</td>\n",
       "      <td>0.2282</td>\n",
       "      <td>0.2556</td>\n",
       "      <td>0.2776</td>\n",
       "      <td>0.3024</td>\n",
       "      <td>0.3376</td>\n",
       "      <td>0.3776</td>\n",
       "      <td>0.4194</td>\n",
       "      <td>0.4690</td>\n",
       "      <td>...</td>\n",
       "      <td>0.5868</td>\n",
       "      <td>0.6410</td>\n",
       "      <td>0.7182</td>\n",
       "      <td>0.8046</td>\n",
       "      <td>0.8974</td>\n",
       "      <td>1.0000</td>\n",
       "      <td>0.8990</td>\n",
       "      <td>0.8142</td>\n",
       "      <td>0.7346</td>\n",
       "      <td>0.6576</td>\n",
       "    </tr>\n",
       "    <tr>\n",
       "      <th>V5</th>\n",
       "      <td>0.2130</td>\n",
       "      <td>0.2304</td>\n",
       "      <td>0.2560</td>\n",
       "      <td>0.2854</td>\n",
       "      <td>0.3114</td>\n",
       "      <td>0.3418</td>\n",
       "      <td>0.3786</td>\n",
       "      <td>0.4258</td>\n",
       "      <td>0.4744</td>\n",
       "      <td>0.5264</td>\n",
       "      <td>...</td>\n",
       "      <td>0.6562</td>\n",
       "      <td>0.7172</td>\n",
       "      <td>0.8036</td>\n",
       "      <td>0.8984</td>\n",
       "      <td>1.0000</td>\n",
       "      <td>0.8974</td>\n",
       "      <td>0.8096</td>\n",
       "      <td>0.7348</td>\n",
       "      <td>0.6612</td>\n",
       "      <td>0.5898</td>\n",
       "    </tr>\n",
       "    <tr>\n",
       "      <th>V6</th>\n",
       "      <td>0.2342</td>\n",
       "      <td>0.2564</td>\n",
       "      <td>0.2876</td>\n",
       "      <td>0.3226</td>\n",
       "      <td>0.3530</td>\n",
       "      <td>0.3858</td>\n",
       "      <td>0.4274</td>\n",
       "      <td>0.4786</td>\n",
       "      <td>0.5332</td>\n",
       "      <td>0.5920</td>\n",
       "      <td>...</td>\n",
       "      <td>0.7326</td>\n",
       "      <td>0.8004</td>\n",
       "      <td>0.8932</td>\n",
       "      <td>1.0000</td>\n",
       "      <td>0.8984</td>\n",
       "      <td>0.8046</td>\n",
       "      <td>0.7268</td>\n",
       "      <td>0.6584</td>\n",
       "      <td>0.5908</td>\n",
       "      <td>0.5302</td>\n",
       "    </tr>\n",
       "    <tr>\n",
       "      <th>V7</th>\n",
       "      <td>0.2622</td>\n",
       "      <td>0.2876</td>\n",
       "      <td>0.3196</td>\n",
       "      <td>0.3578</td>\n",
       "      <td>0.3978</td>\n",
       "      <td>0.4334</td>\n",
       "      <td>0.4790</td>\n",
       "      <td>0.5334</td>\n",
       "      <td>0.5936</td>\n",
       "      <td>0.6576</td>\n",
       "      <td>...</td>\n",
       "      <td>0.8170</td>\n",
       "      <td>0.8960</td>\n",
       "      <td>1.0000</td>\n",
       "      <td>0.8932</td>\n",
       "      <td>0.8036</td>\n",
       "      <td>0.7182</td>\n",
       "      <td>0.6476</td>\n",
       "      <td>0.5860</td>\n",
       "      <td>0.5252</td>\n",
       "      <td>0.4702</td>\n",
       "    </tr>\n",
       "    <tr>\n",
       "      <th>V8</th>\n",
       "      <td>0.2978</td>\n",
       "      <td>0.3248</td>\n",
       "      <td>0.3608</td>\n",
       "      <td>0.4022</td>\n",
       "      <td>0.4454</td>\n",
       "      <td>0.4838</td>\n",
       "      <td>0.5338</td>\n",
       "      <td>0.5914</td>\n",
       "      <td>0.6636</td>\n",
       "      <td>0.7356</td>\n",
       "      <td>...</td>\n",
       "      <td>0.9086</td>\n",
       "      <td>1.0000</td>\n",
       "      <td>0.8960</td>\n",
       "      <td>0.8004</td>\n",
       "      <td>0.7172</td>\n",
       "      <td>0.6410</td>\n",
       "      <td>0.5776</td>\n",
       "      <td>0.5204</td>\n",
       "      <td>0.4688</td>\n",
       "      <td>0.4186</td>\n",
       "    </tr>\n",
       "    <tr>\n",
       "      <th>V9</th>\n",
       "      <td>0.3176</td>\n",
       "      <td>0.3470</td>\n",
       "      <td>0.3862</td>\n",
       "      <td>0.4324</td>\n",
       "      <td>0.4828</td>\n",
       "      <td>0.5296</td>\n",
       "      <td>0.5876</td>\n",
       "      <td>0.6564</td>\n",
       "      <td>0.7342</td>\n",
       "      <td>0.8110</td>\n",
       "      <td>...</td>\n",
       "      <td>1.0000</td>\n",
       "      <td>0.9086</td>\n",
       "      <td>0.8170</td>\n",
       "      <td>0.7326</td>\n",
       "      <td>0.6562</td>\n",
       "      <td>0.5868</td>\n",
       "      <td>0.5266</td>\n",
       "      <td>0.4742</td>\n",
       "      <td>0.4258</td>\n",
       "      <td>0.3820</td>\n",
       "    </tr>\n",
       "    <tr>\n",
       "      <th>V10</th>\n",
       "      <td>0.3484</td>\n",
       "      <td>0.3818</td>\n",
       "      <td>0.4270</td>\n",
       "      <td>0.4748</td>\n",
       "      <td>0.5280</td>\n",
       "      <td>0.5808</td>\n",
       "      <td>0.6448</td>\n",
       "      <td>0.7204</td>\n",
       "      <td>0.8078</td>\n",
       "      <td>0.8926</td>\n",
       "      <td>...</td>\n",
       "      <td>0.9084</td>\n",
       "      <td>0.8254</td>\n",
       "      <td>0.7406</td>\n",
       "      <td>0.6642</td>\n",
       "      <td>0.5962</td>\n",
       "      <td>0.5304</td>\n",
       "      <td>0.4746</td>\n",
       "      <td>0.4282</td>\n",
       "      <td>0.3858</td>\n",
       "      <td>0.3460</td>\n",
       "    </tr>\n",
       "    <tr>\n",
       "      <th>V11</th>\n",
       "      <td>0.3846</td>\n",
       "      <td>0.4228</td>\n",
       "      <td>0.4756</td>\n",
       "      <td>0.5298</td>\n",
       "      <td>0.5866</td>\n",
       "      <td>0.6498</td>\n",
       "      <td>0.7202</td>\n",
       "      <td>0.8058</td>\n",
       "      <td>0.9040</td>\n",
       "      <td>1.0000</td>\n",
       "      <td>...</td>\n",
       "      <td>0.8110</td>\n",
       "      <td>0.7356</td>\n",
       "      <td>0.6576</td>\n",
       "      <td>0.5920</td>\n",
       "      <td>0.5264</td>\n",
       "      <td>0.4690</td>\n",
       "      <td>0.4216</td>\n",
       "      <td>0.3796</td>\n",
       "      <td>0.3368</td>\n",
       "      <td>0.3046</td>\n",
       "    </tr>\n",
       "    <tr>\n",
       "      <th>V12</th>\n",
       "      <td>0.4282</td>\n",
       "      <td>0.4728</td>\n",
       "      <td>0.5284</td>\n",
       "      <td>0.5886</td>\n",
       "      <td>0.6510</td>\n",
       "      <td>0.7218</td>\n",
       "      <td>0.7990</td>\n",
       "      <td>0.8954</td>\n",
       "      <td>1.0000</td>\n",
       "      <td>0.9040</td>\n",
       "      <td>...</td>\n",
       "      <td>0.7342</td>\n",
       "      <td>0.6636</td>\n",
       "      <td>0.5936</td>\n",
       "      <td>0.5332</td>\n",
       "      <td>0.4744</td>\n",
       "      <td>0.4194</td>\n",
       "      <td>0.3768</td>\n",
       "      <td>0.3392</td>\n",
       "      <td>0.2996</td>\n",
       "      <td>0.2670</td>\n",
       "    </tr>\n",
       "    <tr>\n",
       "      <th>V13</th>\n",
       "      <td>0.4816</td>\n",
       "      <td>0.5326</td>\n",
       "      <td>0.5914</td>\n",
       "      <td>0.6588</td>\n",
       "      <td>0.7320</td>\n",
       "      <td>0.8084</td>\n",
       "      <td>0.8944</td>\n",
       "      <td>1.0000</td>\n",
       "      <td>0.8954</td>\n",
       "      <td>0.8058</td>\n",
       "      <td>...</td>\n",
       "      <td>0.6564</td>\n",
       "      <td>0.5914</td>\n",
       "      <td>0.5334</td>\n",
       "      <td>0.4786</td>\n",
       "      <td>0.4258</td>\n",
       "      <td>0.3776</td>\n",
       "      <td>0.3402</td>\n",
       "      <td>0.3094</td>\n",
       "      <td>0.2718</td>\n",
       "      <td>0.2460</td>\n",
       "    </tr>\n",
       "    <tr>\n",
       "      <th>V14</th>\n",
       "      <td>0.5392</td>\n",
       "      <td>0.5970</td>\n",
       "      <td>0.6618</td>\n",
       "      <td>0.7372</td>\n",
       "      <td>0.8136</td>\n",
       "      <td>0.9020</td>\n",
       "      <td>1.0000</td>\n",
       "      <td>0.8944</td>\n",
       "      <td>0.7990</td>\n",
       "      <td>0.7202</td>\n",
       "      <td>...</td>\n",
       "      <td>0.5876</td>\n",
       "      <td>0.5338</td>\n",
       "      <td>0.4790</td>\n",
       "      <td>0.4274</td>\n",
       "      <td>0.3786</td>\n",
       "      <td>0.3376</td>\n",
       "      <td>0.3034</td>\n",
       "      <td>0.2758</td>\n",
       "      <td>0.2406</td>\n",
       "      <td>0.2172</td>\n",
       "    </tr>\n",
       "    <tr>\n",
       "      <th>V15</th>\n",
       "      <td>0.5976</td>\n",
       "      <td>0.6610</td>\n",
       "      <td>0.7346</td>\n",
       "      <td>0.8168</td>\n",
       "      <td>0.9036</td>\n",
       "      <td>1.0000</td>\n",
       "      <td>0.9020</td>\n",
       "      <td>0.8084</td>\n",
       "      <td>0.7218</td>\n",
       "      <td>0.6498</td>\n",
       "      <td>...</td>\n",
       "      <td>0.5296</td>\n",
       "      <td>0.4838</td>\n",
       "      <td>0.4334</td>\n",
       "      <td>0.3858</td>\n",
       "      <td>0.3418</td>\n",
       "      <td>0.3024</td>\n",
       "      <td>0.2690</td>\n",
       "      <td>0.2466</td>\n",
       "      <td>0.2170</td>\n",
       "      <td>0.1944</td>\n",
       "    </tr>\n",
       "    <tr>\n",
       "      <th>V16</th>\n",
       "      <td>0.6624</td>\n",
       "      <td>0.7278</td>\n",
       "      <td>0.8090</td>\n",
       "      <td>0.9004</td>\n",
       "      <td>1.0000</td>\n",
       "      <td>0.9036</td>\n",
       "      <td>0.8136</td>\n",
       "      <td>0.7320</td>\n",
       "      <td>0.6510</td>\n",
       "      <td>0.5866</td>\n",
       "      <td>...</td>\n",
       "      <td>0.4828</td>\n",
       "      <td>0.4454</td>\n",
       "      <td>0.3978</td>\n",
       "      <td>0.3530</td>\n",
       "      <td>0.3114</td>\n",
       "      <td>0.2776</td>\n",
       "      <td>0.2466</td>\n",
       "      <td>0.2262</td>\n",
       "      <td>0.1970</td>\n",
       "      <td>0.1772</td>\n",
       "    </tr>\n",
       "    <tr>\n",
       "      <th>V17</th>\n",
       "      <td>0.7344</td>\n",
       "      <td>0.8090</td>\n",
       "      <td>0.8978</td>\n",
       "      <td>1.0000</td>\n",
       "      <td>0.9004</td>\n",
       "      <td>0.8168</td>\n",
       "      <td>0.7372</td>\n",
       "      <td>0.6588</td>\n",
       "      <td>0.5886</td>\n",
       "      <td>0.5298</td>\n",
       "      <td>...</td>\n",
       "      <td>0.4324</td>\n",
       "      <td>0.4022</td>\n",
       "      <td>0.3578</td>\n",
       "      <td>0.3226</td>\n",
       "      <td>0.2854</td>\n",
       "      <td>0.2556</td>\n",
       "      <td>0.2278</td>\n",
       "      <td>0.2102</td>\n",
       "      <td>0.1834</td>\n",
       "      <td>0.1644</td>\n",
       "    </tr>\n",
       "    <tr>\n",
       "      <th>V18</th>\n",
       "      <td>0.8166</td>\n",
       "      <td>0.9012</td>\n",
       "      <td>1.0000</td>\n",
       "      <td>0.8978</td>\n",
       "      <td>0.8090</td>\n",
       "      <td>0.7346</td>\n",
       "      <td>0.6618</td>\n",
       "      <td>0.5914</td>\n",
       "      <td>0.5284</td>\n",
       "      <td>0.4756</td>\n",
       "      <td>...</td>\n",
       "      <td>0.3862</td>\n",
       "      <td>0.3608</td>\n",
       "      <td>0.3196</td>\n",
       "      <td>0.2876</td>\n",
       "      <td>0.2560</td>\n",
       "      <td>0.2282</td>\n",
       "      <td>0.2012</td>\n",
       "      <td>0.1836</td>\n",
       "      <td>0.1616</td>\n",
       "      <td>0.1442</td>\n",
       "    </tr>\n",
       "    <tr>\n",
       "      <th>V19</th>\n",
       "      <td>0.9062</td>\n",
       "      <td>1.0000</td>\n",
       "      <td>0.9012</td>\n",
       "      <td>0.8090</td>\n",
       "      <td>0.7278</td>\n",
       "      <td>0.6610</td>\n",
       "      <td>0.5970</td>\n",
       "      <td>0.5326</td>\n",
       "      <td>0.4728</td>\n",
       "      <td>0.4228</td>\n",
       "      <td>...</td>\n",
       "      <td>0.3470</td>\n",
       "      <td>0.3248</td>\n",
       "      <td>0.2876</td>\n",
       "      <td>0.2564</td>\n",
       "      <td>0.2304</td>\n",
       "      <td>0.2058</td>\n",
       "      <td>0.1824</td>\n",
       "      <td>0.1660</td>\n",
       "      <td>0.1476</td>\n",
       "      <td>0.1326</td>\n",
       "    </tr>\n",
       "    <tr>\n",
       "      <th>V20</th>\n",
       "      <td>1.0000</td>\n",
       "      <td>0.9062</td>\n",
       "      <td>0.8166</td>\n",
       "      <td>0.7344</td>\n",
       "      <td>0.6624</td>\n",
       "      <td>0.5976</td>\n",
       "      <td>0.5392</td>\n",
       "      <td>0.4816</td>\n",
       "      <td>0.4282</td>\n",
       "      <td>0.3846</td>\n",
       "      <td>...</td>\n",
       "      <td>0.3176</td>\n",
       "      <td>0.2978</td>\n",
       "      <td>0.2622</td>\n",
       "      <td>0.2342</td>\n",
       "      <td>0.2130</td>\n",
       "      <td>0.1928</td>\n",
       "      <td>0.1738</td>\n",
       "      <td>0.1582</td>\n",
       "      <td>0.1362</td>\n",
       "      <td>0.1208</td>\n",
       "    </tr>\n",
       "  </tbody>\n",
       "</table>\n",
       "<p>21 rows × 21 columns</p>\n",
       "</div>"
      ],
      "text/plain": [
       "         V0      V1      V2      V3      V4      V5      V6      V7      V8  \\\n",
       "V0   0.1208  0.1326  0.1442  0.1644  0.1772  0.1944  0.2172  0.2460  0.2670   \n",
       "V1   0.1362  0.1476  0.1616  0.1834  0.1970  0.2170  0.2406  0.2718  0.2996   \n",
       "V2   0.1582  0.1660  0.1836  0.2102  0.2262  0.2466  0.2758  0.3094  0.3392   \n",
       "V3   0.1738  0.1824  0.2012  0.2278  0.2466  0.2690  0.3034  0.3402  0.3768   \n",
       "V4   0.1928  0.2058  0.2282  0.2556  0.2776  0.3024  0.3376  0.3776  0.4194   \n",
       "V5   0.2130  0.2304  0.2560  0.2854  0.3114  0.3418  0.3786  0.4258  0.4744   \n",
       "V6   0.2342  0.2564  0.2876  0.3226  0.3530  0.3858  0.4274  0.4786  0.5332   \n",
       "V7   0.2622  0.2876  0.3196  0.3578  0.3978  0.4334  0.4790  0.5334  0.5936   \n",
       "V8   0.2978  0.3248  0.3608  0.4022  0.4454  0.4838  0.5338  0.5914  0.6636   \n",
       "V9   0.3176  0.3470  0.3862  0.4324  0.4828  0.5296  0.5876  0.6564  0.7342   \n",
       "V10  0.3484  0.3818  0.4270  0.4748  0.5280  0.5808  0.6448  0.7204  0.8078   \n",
       "V11  0.3846  0.4228  0.4756  0.5298  0.5866  0.6498  0.7202  0.8058  0.9040   \n",
       "V12  0.4282  0.4728  0.5284  0.5886  0.6510  0.7218  0.7990  0.8954  1.0000   \n",
       "V13  0.4816  0.5326  0.5914  0.6588  0.7320  0.8084  0.8944  1.0000  0.8954   \n",
       "V14  0.5392  0.5970  0.6618  0.7372  0.8136  0.9020  1.0000  0.8944  0.7990   \n",
       "V15  0.5976  0.6610  0.7346  0.8168  0.9036  1.0000  0.9020  0.8084  0.7218   \n",
       "V16  0.6624  0.7278  0.8090  0.9004  1.0000  0.9036  0.8136  0.7320  0.6510   \n",
       "V17  0.7344  0.8090  0.8978  1.0000  0.9004  0.8168  0.7372  0.6588  0.5886   \n",
       "V18  0.8166  0.9012  1.0000  0.8978  0.8090  0.7346  0.6618  0.5914  0.5284   \n",
       "V19  0.9062  1.0000  0.9012  0.8090  0.7278  0.6610  0.5970  0.5326  0.4728   \n",
       "V20  1.0000  0.9062  0.8166  0.7344  0.6624  0.5976  0.5392  0.4816  0.4282   \n",
       "\n",
       "         V9  ...     V11     V12     V13     V14     V15     V16     V17  \\\n",
       "V0   0.3046  ...  0.3820  0.4186  0.4702  0.5302  0.5898  0.6576  0.7318   \n",
       "V1   0.3368  ...  0.4258  0.4688  0.5252  0.5908  0.6612  0.7346  0.8148   \n",
       "V2   0.3796  ...  0.4742  0.5204  0.5860  0.6584  0.7348  0.8142  0.9032   \n",
       "V3   0.4216  ...  0.5266  0.5776  0.6476  0.7268  0.8096  0.8990  1.0000   \n",
       "V4   0.4690  ...  0.5868  0.6410  0.7182  0.8046  0.8974  1.0000  0.8990   \n",
       "V5   0.5264  ...  0.6562  0.7172  0.8036  0.8984  1.0000  0.8974  0.8096   \n",
       "V6   0.5920  ...  0.7326  0.8004  0.8932  1.0000  0.8984  0.8046  0.7268   \n",
       "V7   0.6576  ...  0.8170  0.8960  1.0000  0.8932  0.8036  0.7182  0.6476   \n",
       "V8   0.7356  ...  0.9086  1.0000  0.8960  0.8004  0.7172  0.6410  0.5776   \n",
       "V9   0.8110  ...  1.0000  0.9086  0.8170  0.7326  0.6562  0.5868  0.5266   \n",
       "V10  0.8926  ...  0.9084  0.8254  0.7406  0.6642  0.5962  0.5304  0.4746   \n",
       "V11  1.0000  ...  0.8110  0.7356  0.6576  0.5920  0.5264  0.4690  0.4216   \n",
       "V12  0.9040  ...  0.7342  0.6636  0.5936  0.5332  0.4744  0.4194  0.3768   \n",
       "V13  0.8058  ...  0.6564  0.5914  0.5334  0.4786  0.4258  0.3776  0.3402   \n",
       "V14  0.7202  ...  0.5876  0.5338  0.4790  0.4274  0.3786  0.3376  0.3034   \n",
       "V15  0.6498  ...  0.5296  0.4838  0.4334  0.3858  0.3418  0.3024  0.2690   \n",
       "V16  0.5866  ...  0.4828  0.4454  0.3978  0.3530  0.3114  0.2776  0.2466   \n",
       "V17  0.5298  ...  0.4324  0.4022  0.3578  0.3226  0.2854  0.2556  0.2278   \n",
       "V18  0.4756  ...  0.3862  0.3608  0.3196  0.2876  0.2560  0.2282  0.2012   \n",
       "V19  0.4228  ...  0.3470  0.3248  0.2876  0.2564  0.2304  0.2058  0.1824   \n",
       "V20  0.3846  ...  0.3176  0.2978  0.2622  0.2342  0.2130  0.1928  0.1738   \n",
       "\n",
       "        V18     V19     V20  \n",
       "V0   0.8114  0.9002  1.0000  \n",
       "V1   0.9020  1.0000  0.9002  \n",
       "V2   1.0000  0.9020  0.8114  \n",
       "V3   0.9032  0.8148  0.7318  \n",
       "V4   0.8142  0.7346  0.6576  \n",
       "V5   0.7348  0.6612  0.5898  \n",
       "V6   0.6584  0.5908  0.5302  \n",
       "V7   0.5860  0.5252  0.4702  \n",
       "V8   0.5204  0.4688  0.4186  \n",
       "V9   0.4742  0.4258  0.3820  \n",
       "V10  0.4282  0.3858  0.3460  \n",
       "V11  0.3796  0.3368  0.3046  \n",
       "V12  0.3392  0.2996  0.2670  \n",
       "V13  0.3094  0.2718  0.2460  \n",
       "V14  0.2758  0.2406  0.2172  \n",
       "V15  0.2466  0.2170  0.1944  \n",
       "V16  0.2262  0.1970  0.1772  \n",
       "V17  0.2102  0.1834  0.1644  \n",
       "V18  0.1836  0.1616  0.1442  \n",
       "V19  0.1660  0.1476  0.1326  \n",
       "V20  0.1582  0.1362  0.1208  \n",
       "\n",
       "[21 rows x 21 columns]"
      ]
     },
     "metadata": {},
     "output_type": "display_data"
    },
    {
     "data": {
      "image/png": "[encoded data removed]",
      "text/plain": [
       "<Figure size 800x600 with 2 Axes>"
      ]
     },
     "metadata": {},
     "output_type": "display_data"
    }
   ],
   "source": [
    "from sklearn.metrics.pairwise import cosine_similarity\n",
    "\n",
    "# Calcular la matriz de similaridad coseno\n",
    "cos_sim_matrix = cosine_similarity(reds_hdv)\n",
    "cos_sim_matrix = cos_sim_matrix[::-1, :]\n",
    "\n",
    "# Representar la matriz de similaridad como DataFrame para mejor visualización\n",
    "df_cos_sim = pd.DataFrame(cos_sim_matrix,\n",
    "                          index=[f\"V{i}\" for i in range(reds_hdv.shape[0])],\n",
    "                          columns=[f\"V{i}\" for i in range(reds_hdv.shape[0])])\n",
    "\n",
    "# Mostrar en formato tabla\n",
    "display(df_cos_sim)\n",
    "\n",
    "# Representar la matriz de similaridad coseno con un mapa de calor\n",
    "plt.figure(figsize=(8, 6))\n",
    "plt.imshow(cos_sim_matrix, cmap='magma', interpolation='nearest')\n",
    "plt.colorbar(label='Cosine Similarity')\n",
    "plt.title(\"Cosine Similarity Between Rows of V\")\n",
    "plt.xticks(ticks=np.arange(len(color_steps)),\n",
    "           labels=[f\"{val:.2f}\" for val in color_steps], rotation=90)\n",
    "plt.yticks(ticks=np.arange(len(color_steps)),\n",
    "           labels=[f\"{val:.2f}\" for val in color_steps[::-1]])\n",
    "\n",
    "plt.tight_layout()\n",
    "plt.show()\n"
   ]
  },
  {
   "cell_type": "code",
   "execution_count": 35,
   "metadata": {},
   "outputs": [],
   "source": [
    "greens_hdv = range_hdvs(color_steps)\n",
    "blues_hdv = range_hdvs(color_steps)"
   ]
  },
  {
   "cell_type": "code",
   "execution_count": 45,
   "metadata": {},
   "outputs": [],
   "source": [
    "def col_ind(component):\n",
    "    return round(component * 20)\n",
    "\n",
    "def encode_col(color):\n",
    "    return bind(reds_hdv[col_ind(color[0])],\n",
    "                greens_hdv[col_ind(color[1])],\n",
    "                blues_hdv[col_ind(color[2])])"
   ]
  },
  {
   "cell_type": "code",
   "execution_count": 46,
   "metadata": {},
   "outputs": [],
   "source": [
    "colhdv = encode_col(acolor)"
   ]
  },
  {
   "cell_type": "code",
   "execution_count": 47,
   "metadata": {},
   "outputs": [],
   "source": [
    "ref_colors = [{'color':c, 'hdv':encode_col(c)} for c in [randcol() for _ in range(1000)]]"
   ]
  },
  {
   "cell_type": "code",
   "execution_count": 48,
   "metadata": {},
   "outputs": [],
   "source": [
    "def decode_colors(v):\n",
    "    best_match = max(ref_colors, key=lambda item: cosine_similarity(v, item[\"hdv\"]))\n",
    "    return best_match[\"color\"]"
   ]
  },
  {
   "cell_type": "code",
   "execution_count": 49,
   "metadata": {},
   "outputs": [
    {
     "ename": "ValueError",
     "evalue": "Expected 2D array, got 1D array instead:\narray=[ 1. -1.  1. ...  1. -1.  1.].\nReshape your data either using array.reshape(-1, 1) if your data has a single feature or array.reshape(1, -1) if it contains a single sample.",
     "output_type": "error",
     "traceback": [
      "\u001b[0;31m---------------------------------------------------------------------------\u001b[0m",
      "\u001b[0;31mValueError\u001b[0m                                Traceback (most recent call last)",
      "Cell \u001b[0;32mIn[49], line 1\u001b[0m\n\u001b[0;32m----> 1\u001b[0m \u001b[43mdecode_colors\u001b[49m\u001b[43m(\u001b[49m\u001b[43mcolhdv\u001b[49m\u001b[43m)\u001b[49m\n",
      "Cell \u001b[0;32mIn[48], line 2\u001b[0m, in \u001b[0;36mdecode_colors\u001b[0;34m(v)\u001b[0m\n\u001b[1;32m      1\u001b[0m \u001b[38;5;28;01mdef\u001b[39;00m \u001b[38;5;21mdecode_colors\u001b[39m(v):\n\u001b[0;32m----> 2\u001b[0m     best_match \u001b[38;5;241m=\u001b[39m \u001b[38;5;28;43mmax\u001b[39;49m\u001b[43m(\u001b[49m\u001b[43mref_colors\u001b[49m\u001b[43m,\u001b[49m\u001b[43m \u001b[49m\u001b[43mkey\u001b[49m\u001b[38;5;241;43m=\u001b[39;49m\u001b[38;5;28;43;01mlambda\u001b[39;49;00m\u001b[43m \u001b[49m\u001b[43mitem\u001b[49m\u001b[43m:\u001b[49m\u001b[43m \u001b[49m\u001b[43mcosine_similarity\u001b[49m\u001b[43m(\u001b[49m\u001b[43mv\u001b[49m\u001b[43m,\u001b[49m\u001b[43m \u001b[49m\u001b[43mitem\u001b[49m\u001b[43m[\u001b[49m\u001b[38;5;124;43m\"\u001b[39;49m\u001b[38;5;124;43mhdv\u001b[39;49m\u001b[38;5;124;43m\"\u001b[39;49m\u001b[43m]\u001b[49m\u001b[43m)\u001b[49m\u001b[43m)\u001b[49m\n\u001b[1;32m      3\u001b[0m     \u001b[38;5;28;01mreturn\u001b[39;00m best_match[\u001b[38;5;124m\"\u001b[39m\u001b[38;5;124mcolor\u001b[39m\u001b[38;5;124m\"\u001b[39m]\n",
      "Cell \u001b[0;32mIn[48], line 2\u001b[0m, in \u001b[0;36mdecode_colors.<locals>.<lambda>\u001b[0;34m(item)\u001b[0m\n\u001b[1;32m      1\u001b[0m \u001b[38;5;28;01mdef\u001b[39;00m \u001b[38;5;21mdecode_colors\u001b[39m(v):\n\u001b[0;32m----> 2\u001b[0m     best_match \u001b[38;5;241m=\u001b[39m \u001b[38;5;28mmax\u001b[39m(ref_colors, key\u001b[38;5;241m=\u001b[39m\u001b[38;5;28;01mlambda\u001b[39;00m item: \u001b[43mcosine_similarity\u001b[49m\u001b[43m(\u001b[49m\u001b[43mv\u001b[49m\u001b[43m,\u001b[49m\u001b[43m \u001b[49m\u001b[43mitem\u001b[49m\u001b[43m[\u001b[49m\u001b[38;5;124;43m\"\u001b[39;49m\u001b[38;5;124;43mhdv\u001b[39;49m\u001b[38;5;124;43m\"\u001b[39;49m\u001b[43m]\u001b[49m\u001b[43m)\u001b[49m)\n\u001b[1;32m      3\u001b[0m     \u001b[38;5;28;01mreturn\u001b[39;00m best_match[\u001b[38;5;124m\"\u001b[39m\u001b[38;5;124mcolor\u001b[39m\u001b[38;5;124m\"\u001b[39m]\n",
      "File \u001b[0;32m/usr/lib/python3/dist-packages/sklearn/utils/_param_validation.py:213\u001b[0m, in \u001b[0;36mvalidate_params.<locals>.decorator.<locals>.wrapper\u001b[0;34m(*args, **kwargs)\u001b[0m\n\u001b[1;32m    207\u001b[0m \u001b[38;5;28;01mtry\u001b[39;00m:\n\u001b[1;32m    208\u001b[0m     \u001b[38;5;28;01mwith\u001b[39;00m config_context(\n\u001b[1;32m    209\u001b[0m         skip_parameter_validation\u001b[38;5;241m=\u001b[39m(\n\u001b[1;32m    210\u001b[0m             prefer_skip_nested_validation \u001b[38;5;129;01mor\u001b[39;00m global_skip_validation\n\u001b[1;32m    211\u001b[0m         )\n\u001b[1;32m    212\u001b[0m     ):\n\u001b[0;32m--> 213\u001b[0m         \u001b[38;5;28;01mreturn\u001b[39;00m \u001b[43mfunc\u001b[49m\u001b[43m(\u001b[49m\u001b[38;5;241;43m*\u001b[39;49m\u001b[43margs\u001b[49m\u001b[43m,\u001b[49m\u001b[43m \u001b[49m\u001b[38;5;241;43m*\u001b[39;49m\u001b[38;5;241;43m*\u001b[39;49m\u001b[43mkwargs\u001b[49m\u001b[43m)\u001b[49m\n\u001b[1;32m    214\u001b[0m \u001b[38;5;28;01mexcept\u001b[39;00m InvalidParameterError \u001b[38;5;28;01mas\u001b[39;00m e:\n\u001b[1;32m    215\u001b[0m     \u001b[38;5;66;03m# When the function is just a wrapper around an estimator, we allow\u001b[39;00m\n\u001b[1;32m    216\u001b[0m     \u001b[38;5;66;03m# the function to delegate validation to the estimator, but we replace\u001b[39;00m\n\u001b[1;32m    217\u001b[0m     \u001b[38;5;66;03m# the name of the estimator by the name of the function in the error\u001b[39;00m\n\u001b[1;32m    218\u001b[0m     \u001b[38;5;66;03m# message to avoid confusion.\u001b[39;00m\n\u001b[1;32m    219\u001b[0m     msg \u001b[38;5;241m=\u001b[39m re\u001b[38;5;241m.\u001b[39msub(\n\u001b[1;32m    220\u001b[0m         \u001b[38;5;124mr\u001b[39m\u001b[38;5;124m\"\u001b[39m\u001b[38;5;124mparameter of \u001b[39m\u001b[38;5;124m\\\u001b[39m\u001b[38;5;124mw+ must be\u001b[39m\u001b[38;5;124m\"\u001b[39m,\n\u001b[1;32m    221\u001b[0m         \u001b[38;5;124mf\u001b[39m\u001b[38;5;124m\"\u001b[39m\u001b[38;5;124mparameter of \u001b[39m\u001b[38;5;132;01m{\u001b[39;00mfunc\u001b[38;5;241m.\u001b[39m\u001b[38;5;18m__qualname__\u001b[39m\u001b[38;5;132;01m}\u001b[39;00m\u001b[38;5;124m must be\u001b[39m\u001b[38;5;124m\"\u001b[39m,\n\u001b[1;32m    222\u001b[0m         \u001b[38;5;28mstr\u001b[39m(e),\n\u001b[1;32m    223\u001b[0m     )\n",
      "File \u001b[0;32m/usr/lib/python3/dist-packages/sklearn/metrics/pairwise.py:1657\u001b[0m, in \u001b[0;36mcosine_similarity\u001b[0;34m(X, Y, dense_output)\u001b[0m\n\u001b[1;32m   1613\u001b[0m \u001b[38;5;250m\u001b[39m\u001b[38;5;124;03m\"\"\"Compute cosine similarity between samples in X and Y.\u001b[39;00m\n\u001b[1;32m   1614\u001b[0m \n\u001b[1;32m   1615\u001b[0m \u001b[38;5;124;03mCosine similarity, or the cosine kernel, computes similarity as the\u001b[39;00m\n\u001b[0;32m   (...)\u001b[0m\n\u001b[1;32m   1653\u001b[0m \u001b[38;5;124;03m       [0.57..., 0.81...]])\u001b[39;00m\n\u001b[1;32m   1654\u001b[0m \u001b[38;5;124;03m\"\"\"\u001b[39;00m\n\u001b[1;32m   1655\u001b[0m \u001b[38;5;66;03m# to avoid recursive import\u001b[39;00m\n\u001b[0;32m-> 1657\u001b[0m X, Y \u001b[38;5;241m=\u001b[39m \u001b[43mcheck_pairwise_arrays\u001b[49m\u001b[43m(\u001b[49m\u001b[43mX\u001b[49m\u001b[43m,\u001b[49m\u001b[43m \u001b[49m\u001b[43mY\u001b[49m\u001b[43m)\u001b[49m\n\u001b[1;32m   1659\u001b[0m X_normalized \u001b[38;5;241m=\u001b[39m normalize(X, copy\u001b[38;5;241m=\u001b[39m\u001b[38;5;28;01mTrue\u001b[39;00m)\n\u001b[1;32m   1660\u001b[0m \u001b[38;5;28;01mif\u001b[39;00m X \u001b[38;5;129;01mis\u001b[39;00m Y:\n",
      "File \u001b[0;32m/usr/lib/python3/dist-packages/sklearn/metrics/pairwise.py:164\u001b[0m, in \u001b[0;36mcheck_pairwise_arrays\u001b[0;34m(X, Y, precomputed, dtype, accept_sparse, force_all_finite, copy)\u001b[0m\n\u001b[1;32m    155\u001b[0m     X \u001b[38;5;241m=\u001b[39m Y \u001b[38;5;241m=\u001b[39m check_array(\n\u001b[1;32m    156\u001b[0m         X,\n\u001b[1;32m    157\u001b[0m         accept_sparse\u001b[38;5;241m=\u001b[39maccept_sparse,\n\u001b[0;32m   (...)\u001b[0m\n\u001b[1;32m    161\u001b[0m         estimator\u001b[38;5;241m=\u001b[39mestimator,\n\u001b[1;32m    162\u001b[0m     )\n\u001b[1;32m    163\u001b[0m \u001b[38;5;28;01melse\u001b[39;00m:\n\u001b[0;32m--> 164\u001b[0m     X \u001b[38;5;241m=\u001b[39m \u001b[43mcheck_array\u001b[49m\u001b[43m(\u001b[49m\n\u001b[1;32m    165\u001b[0m \u001b[43m        \u001b[49m\u001b[43mX\u001b[49m\u001b[43m,\u001b[49m\n\u001b[1;32m    166\u001b[0m \u001b[43m        \u001b[49m\u001b[43maccept_sparse\u001b[49m\u001b[38;5;241;43m=\u001b[39;49m\u001b[43maccept_sparse\u001b[49m\u001b[43m,\u001b[49m\n\u001b[1;32m    167\u001b[0m \u001b[43m        \u001b[49m\u001b[43mdtype\u001b[49m\u001b[38;5;241;43m=\u001b[39;49m\u001b[43mdtype\u001b[49m\u001b[43m,\u001b[49m\n\u001b[1;32m    168\u001b[0m \u001b[43m        \u001b[49m\u001b[43mcopy\u001b[49m\u001b[38;5;241;43m=\u001b[39;49m\u001b[43mcopy\u001b[49m\u001b[43m,\u001b[49m\n\u001b[1;32m    169\u001b[0m \u001b[43m        \u001b[49m\u001b[43mforce_all_finite\u001b[49m\u001b[38;5;241;43m=\u001b[39;49m\u001b[43mforce_all_finite\u001b[49m\u001b[43m,\u001b[49m\n\u001b[1;32m    170\u001b[0m \u001b[43m        \u001b[49m\u001b[43mestimator\u001b[49m\u001b[38;5;241;43m=\u001b[39;49m\u001b[43mestimator\u001b[49m\u001b[43m,\u001b[49m\n\u001b[1;32m    171\u001b[0m \u001b[43m    \u001b[49m\u001b[43m)\u001b[49m\n\u001b[1;32m    172\u001b[0m     Y \u001b[38;5;241m=\u001b[39m check_array(\n\u001b[1;32m    173\u001b[0m         Y,\n\u001b[1;32m    174\u001b[0m         accept_sparse\u001b[38;5;241m=\u001b[39maccept_sparse,\n\u001b[0;32m   (...)\u001b[0m\n\u001b[1;32m    178\u001b[0m         estimator\u001b[38;5;241m=\u001b[39mestimator,\n\u001b[1;32m    179\u001b[0m     )\n\u001b[1;32m    181\u001b[0m \u001b[38;5;28;01mif\u001b[39;00m precomputed:\n",
      "File \u001b[0;32m/usr/lib/python3/dist-packages/sklearn/utils/validation.py:1035\u001b[0m, in \u001b[0;36mcheck_array\u001b[0;34m(array, accept_sparse, accept_large_sparse, dtype, order, copy, force_all_finite, ensure_2d, allow_nd, ensure_min_samples, ensure_min_features, estimator, input_name)\u001b[0m\n\u001b[1;32m   1028\u001b[0m         \u001b[38;5;28;01melse\u001b[39;00m:\n\u001b[1;32m   1029\u001b[0m             msg \u001b[38;5;241m=\u001b[39m (\n\u001b[1;32m   1030\u001b[0m                 \u001b[38;5;124mf\u001b[39m\u001b[38;5;124m\"\u001b[39m\u001b[38;5;124mExpected 2D array, got 1D array instead:\u001b[39m\u001b[38;5;130;01m\\n\u001b[39;00m\u001b[38;5;124marray=\u001b[39m\u001b[38;5;132;01m{\u001b[39;00marray\u001b[38;5;132;01m}\u001b[39;00m\u001b[38;5;124m.\u001b[39m\u001b[38;5;130;01m\\n\u001b[39;00m\u001b[38;5;124m\"\u001b[39m\n\u001b[1;32m   1031\u001b[0m                 \u001b[38;5;124m\"\u001b[39m\u001b[38;5;124mReshape your data either using array.reshape(-1, 1) if \u001b[39m\u001b[38;5;124m\"\u001b[39m\n\u001b[1;32m   1032\u001b[0m                 \u001b[38;5;124m\"\u001b[39m\u001b[38;5;124myour data has a single feature or array.reshape(1, -1) \u001b[39m\u001b[38;5;124m\"\u001b[39m\n\u001b[1;32m   1033\u001b[0m                 \u001b[38;5;124m\"\u001b[39m\u001b[38;5;124mif it contains a single sample.\u001b[39m\u001b[38;5;124m\"\u001b[39m\n\u001b[1;32m   1034\u001b[0m             )\n\u001b[0;32m-> 1035\u001b[0m         \u001b[38;5;28;01mraise\u001b[39;00m \u001b[38;5;167;01mValueError\u001b[39;00m(msg)\n\u001b[1;32m   1037\u001b[0m \u001b[38;5;28;01mif\u001b[39;00m dtype_numeric \u001b[38;5;129;01mand\u001b[39;00m \u001b[38;5;28mhasattr\u001b[39m(array\u001b[38;5;241m.\u001b[39mdtype, \u001b[38;5;124m\"\u001b[39m\u001b[38;5;124mkind\u001b[39m\u001b[38;5;124m\"\u001b[39m) \u001b[38;5;129;01mand\u001b[39;00m array\u001b[38;5;241m.\u001b[39mdtype\u001b[38;5;241m.\u001b[39mkind \u001b[38;5;129;01min\u001b[39;00m \u001b[38;5;124m\"\u001b[39m\u001b[38;5;124mUSV\u001b[39m\u001b[38;5;124m\"\u001b[39m:\n\u001b[1;32m   1038\u001b[0m     \u001b[38;5;28;01mraise\u001b[39;00m \u001b[38;5;167;01mValueError\u001b[39;00m(\n\u001b[1;32m   1039\u001b[0m         \u001b[38;5;124m\"\u001b[39m\u001b[38;5;124mdtype=\u001b[39m\u001b[38;5;124m'\u001b[39m\u001b[38;5;124mnumeric\u001b[39m\u001b[38;5;124m'\u001b[39m\u001b[38;5;124m is not compatible with arrays of bytes/strings.\u001b[39m\u001b[38;5;124m\"\u001b[39m\n\u001b[1;32m   1040\u001b[0m         \u001b[38;5;124m\"\u001b[39m\u001b[38;5;124mConvert your data to numeric values explicitly instead.\u001b[39m\u001b[38;5;124m\"\u001b[39m\n\u001b[1;32m   1041\u001b[0m     )\n",
      "\u001b[0;31mValueError\u001b[0m: Expected 2D array, got 1D array instead:\narray=[ 1. -1.  1. ...  1. -1.  1.].\nReshape your data either using array.reshape(-1, 1) if your data has a single feature or array.reshape(1, -1) if it contains a single sample."
     ]
    }
   ],
   "source": [
    "decode_colors(colhdv)"
   ]
  },
  {
   "cell_type": "code",
   "execution_count": null,
   "metadata": {},
   "outputs": [],
   "source": []
  }
 ],
 "metadata": {
  "kernelspec": {
   "display_name": "usr",
   "language": "python",
   "name": "python3"
  },
  "language_info": {
   "codemirror_mode": {
    "name": "ipython",
    "version": 3
   },
   "file_extension": ".py",
   "mimetype": "text/x-python",
   "name": "python",
   "nbconvert_exporter": "python",
   "pygments_lexer": "ipython3",
   "version": "3.13.0"
  }
 },
 "nbformat": 4,
 "nbformat_minor": 2
}
