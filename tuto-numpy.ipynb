{
 "cells": [
  {
   "cell_type": "markdown",
   "metadata": {},
   "source": [
    "# Tutorial on Hyperdimensional Computing\n",
    "Translation to Python+numpy from https://michielstock.github.io/posts/2022/2022-10-04-HDVtutorial/"
   ]
  },
  {
   "cell_type": "code",
   "execution_count": 2,
   "metadata": {},
   "outputs": [],
   "source": [
    "import math\n",
    "import random\n",
    "import numpy as np\n",
    "from numpy.typing import NDArray\n",
    "import matplotlib.pyplot as plt\n",
    "import pandas as pd\n"
   ]
  },
  {
   "cell_type": "code",
   "execution_count": 3,
   "metadata": {},
   "outputs": [],
   "source": [
    "N = 10000\n",
    "\n",
    "def hdv() -> np.ndarray:\n",
    "    return np.random.choice([-1, 1], size=N)"
   ]
  },
  {
   "cell_type": "code",
   "execution_count": 4,
   "metadata": {},
   "outputs": [
    {
     "data": {
      "text/plain": [
       "array([-1,  1, -1, ..., -1,  1,  1])"
      ]
     },
     "execution_count": 4,
     "metadata": {},
     "output_type": "execute_result"
    }
   ],
   "source": [
    "x = hdv()\n",
    "x"
   ]
  },
  {
   "cell_type": "code",
   "execution_count": 5,
   "metadata": {},
   "outputs": [
    {
     "data": {
      "text/plain": [
       "array([ 1,  1, -1, ..., -1, -1,  1])"
      ]
     },
     "execution_count": 5,
     "metadata": {},
     "output_type": "execute_result"
    }
   ],
   "source": [
    "y = hdv()\n",
    "y"
   ]
  },
  {
   "cell_type": "code",
   "execution_count": 6,
   "metadata": {},
   "outputs": [
    {
     "data": {
      "text/plain": [
       "5054"
      ]
     },
     "execution_count": 6,
     "metadata": {},
     "output_type": "execute_result"
    }
   ],
   "source": [
    "np.sum(x == y)"
   ]
  },
  {
   "cell_type": "code",
   "execution_count": 7,
   "metadata": {},
   "outputs": [],
   "source": [
    "def hdv_m(rows: int) -> NDArray:\n",
    "    return np.random.choice([-1, 1], size=(rows, N))"
   ]
  },
  {
   "cell_type": "code",
   "execution_count": 8,
   "metadata": {},
   "outputs": [
    {
     "data": {
      "text/plain": [
       "array([[-1,  1, -1, ...,  1,  1, -1],\n",
       "       [-1, -1, -1, ..., -1,  1, -1],\n",
       "       [-1,  1,  1, ...,  1, -1,  1],\n",
       "       ...,\n",
       "       [ 1, -1,  1, ..., -1,  1,  1],\n",
       "       [ 1, -1, -1, ..., -1,  1, -1],\n",
       "       [ 1,  1,  1, ..., -1,  1, -1]])"
      ]
     },
     "execution_count": 8,
     "metadata": {},
     "output_type": "execute_result"
    }
   ],
   "source": [
    "V = hdv_m(10)\n",
    "V"
   ]
  },
  {
   "cell_type": "markdown",
   "metadata": {},
   "source": [
    "## Bundling"
   ]
  },
  {
   "cell_type": "code",
   "execution_count": 9,
   "metadata": {},
   "outputs": [
    {
     "name": "stdout",
     "output_type": "stream",
     "text": [
      "[1 0]\n"
     ]
    }
   ],
   "source": [
    "def bundle_m(U: NDArray[int]) -> NDArray[int]:\n",
    "    if U.ndim != 2:\n",
    "        raise ValueError(\"U must be a 2d array.\")\n",
    "\n",
    "    return np.sign(np.sum(U, axis=0))\n",
    "\n",
    "# example\n",
    "U = np.array([[1, 2],\n",
    "              [-3, 4],\n",
    "              [5, -6]])\n",
    "\n",
    "result = bundle_m(U)\n",
    "print(result)"
   ]
  },
  {
   "cell_type": "code",
   "execution_count": 10,
   "metadata": {},
   "outputs": [
    {
     "data": {
      "text/plain": [
       "array([-1,  1, -1, ...,  0,  1, -1])"
      ]
     },
     "execution_count": 10,
     "metadata": {},
     "output_type": "execute_result"
    }
   ],
   "source": [
    "bundle_m(V)"
   ]
  },
  {
   "cell_type": "code",
   "execution_count": 11,
   "metadata": {},
   "outputs": [
    {
     "name": "stdout",
     "output_type": "stream",
     "text": [
      "[1 0]\n"
     ]
    }
   ],
   "source": [
    "def bundle(*xs: NDArray[int]) -> NDArray[int]:\n",
    "    summed = np.add.reduce(xs)\n",
    "    return np.sign(summed)\n",
    "\n",
    "# example\n",
    "xs = bundle(np.array([1, 2]), np.array([-3, 4]), np.array([5, -6]))\n",
    "print(xs)"
   ]
  },
  {
   "cell_type": "code",
   "execution_count": 12,
   "metadata": {},
   "outputs": [
    {
     "data": {
      "text/plain": [
       "array([ 0,  1, -1, ..., -1,  0,  1])"
      ]
     },
     "execution_count": 12,
     "metadata": {},
     "output_type": "execute_result"
    }
   ],
   "source": [
    "bundle(x, y)"
   ]
  },
  {
   "cell_type": "markdown",
   "metadata": {},
   "source": [
    "## Binding"
   ]
  },
  {
   "cell_type": "code",
   "execution_count": 13,
   "metadata": {},
   "outputs": [
    {
     "data": {
      "text/plain": [
       "array([-15, -48])"
      ]
     },
     "execution_count": 13,
     "metadata": {},
     "output_type": "execute_result"
    }
   ],
   "source": [
    "def bind(*xs: NDArray[int]):\n",
    "    return np.multiply.reduce(xs)\n",
    "\n",
    "# example\n",
    "xs = bind(np.array([1, 2]), np.array([-3, 4]), np.array([5, -6]))\n",
    "bind(xs)"
   ]
  },
  {
   "cell_type": "code",
   "execution_count": 14,
   "metadata": {},
   "outputs": [
    {
     "data": {
      "text/plain": [
       "array([-1,  1,  1, ...,  1, -1,  1])"
      ]
     },
     "execution_count": 14,
     "metadata": {},
     "output_type": "execute_result"
    }
   ],
   "source": [
    "bind(x, y)"
   ]
  },
  {
   "cell_type": "code",
   "execution_count": 15,
   "metadata": {},
   "outputs": [
    {
     "data": {
      "text/plain": [
       "True"
      ]
     },
     "execution_count": 15,
     "metadata": {},
     "output_type": "execute_result"
    }
   ],
   "source": [
    "np.array_equal(bind(bind(x, y), y),\n",
    "               x)"
   ]
  },
  {
   "cell_type": "code",
   "execution_count": 16,
   "metadata": {},
   "outputs": [
    {
     "data": {
      "text/plain": [
       "True"
      ]
     },
     "execution_count": 16,
     "metadata": {},
     "output_type": "execute_result"
    }
   ],
   "source": [
    "np.array_equal(bind(bind(x, y), x), y)"
   ]
  },
  {
   "cell_type": "markdown",
   "metadata": {},
   "source": [
    "## Shifting"
   ]
  },
  {
   "cell_type": "code",
   "execution_count": 17,
   "metadata": {},
   "outputs": [
    {
     "data": {
      "text/plain": [
       "array([3, 1, 2])"
      ]
     },
     "execution_count": 17,
     "metadata": {},
     "output_type": "execute_result"
    }
   ],
   "source": [
    "def shift(x, k=1):\n",
    "    return np.roll(x, k)\n",
    "\n",
    "# example\n",
    "shift([1, 2, 3])"
   ]
  },
  {
   "cell_type": "markdown",
   "metadata": {},
   "source": [
    "## Similarity between HDVs"
   ]
  },
  {
   "cell_type": "code",
   "execution_count": 18,
   "metadata": {},
   "outputs": [
    {
     "data": {
      "text/plain": [
       "0.9746318461970762"
      ]
     },
     "execution_count": 18,
     "metadata": {},
     "output_type": "execute_result"
    }
   ],
   "source": [
    "def cos_similarity(x, y):\n",
    "    return np.dot(x, y) / (np.linalg.norm(x) * np.linalg.norm(y))\n",
    "\n",
    "# example\n",
    "cos_similarity([1, 2, 3],\n",
    "               [4, 5, 6])"
   ]
  },
  {
   "cell_type": "code",
   "execution_count": 19,
   "metadata": {},
   "outputs": [
    {
     "data": {
      "text/plain": [
       "0.0108"
      ]
     },
     "execution_count": 19,
     "metadata": {},
     "output_type": "execute_result"
    }
   ],
   "source": [
    "cos_similarity(x, y)"
   ]
  },
  {
   "cell_type": "markdown",
   "metadata": {},
   "source": [
    "## Properties of the operations"
   ]
  },
  {
   "cell_type": "code",
   "execution_count": 21,
   "metadata": {},
   "outputs": [],
   "source": [
    "z = hdv()"
   ]
  },
  {
   "cell_type": "code",
   "execution_count": 22,
   "metadata": {},
   "outputs": [
    {
     "data": {
      "text/plain": [
       "True"
      ]
     },
     "execution_count": 22,
     "metadata": {},
     "output_type": "execute_result"
    }
   ],
   "source": [
    "np.array_equal(bind(x, bundle(y, z)),\n",
    "               bundle(bind(x, y), bind(x, z)))"
   ]
  },
  {
   "cell_type": "code",
   "execution_count": 23,
   "metadata": {},
   "outputs": [
    {
     "data": {
      "text/plain": [
       "True"
      ]
     },
     "execution_count": 23,
     "metadata": {},
     "output_type": "execute_result"
    }
   ],
   "source": [
    "np.array_equal(cos_similarity(x,y),\n",
    "               cos_similarity(bind(x, z), bind(y, z)))"
   ]
  },
  {
   "cell_type": "markdown",
   "metadata": {},
   "source": [
    "# Examples"
   ]
  },
  {
   "cell_type": "markdown",
   "metadata": {},
   "source": [
    "## Example 1: color matching"
   ]
  },
  {
   "cell_type": "code",
   "execution_count": 24,
   "metadata": {},
   "outputs": [
    {
     "data": {
      "image/png": "[encoded data removed]",
      "text/plain": [
       "<Figure size 100x100 with 1 Axes>"
      ]
     },
     "metadata": {},
     "output_type": "display_data"
    }
   ],
   "source": [
    "def randcol():\n",
    "    return np.random.rand(3)\n",
    "\n",
    "def show_color(color):\n",
    "    plt.figure(figsize=(1,1))\n",
    "    plt.imshow([[color]])\n",
    "    plt.axis('off')\n",
    "    plt.show()\n",
    "\n",
    "acolor = randcol()\n",
    "show_color(acolor)"
   ]
  },
  {
   "cell_type": "code",
   "execution_count": 25,
   "metadata": {},
   "outputs": [],
   "source": [
    "emojis = ['🍌', '💦', '🥚', '🌅', '🐺', '🌱', '🚒']"
   ]
  },
  {
   "cell_type": "code",
   "execution_count": 26,
   "metadata": {},
   "outputs": [],
   "source": [
    "toy_data1 = []\n",
    "for i in range(100):\n",
    "    toy_data1.append((np.random.choice(emojis), randcol()))"
   ]
  },
  {
   "cell_type": "code",
   "execution_count": 27,
   "metadata": {},
   "outputs": [],
   "source": [
    "emojis_hdvs = {emoji: hdv() for emoji in emojis}"
   ]
  },
  {
   "cell_type": "code",
   "execution_count": 28,
   "metadata": {},
   "outputs": [],
   "source": [
    "def range_hdvs(steps):\n",
    "    k = len(steps) - 1\n",
    "\n",
    "    V = hdv_m(k + 1)  # V size is (k+1)xN\n",
    "\n",
    "    for i in range(1, k + 1):  # for each other row/step\n",
    "        for j in range(N):     # for each column\n",
    "            V[i, j] = -V[i-1, j] if random.random() < (1 / k) else V[i-1, j]\n",
    "\n",
    "    return V\n"
   ]
  },
  {
   "cell_type": "code",
   "execution_count": 29,
   "metadata": {},
   "outputs": [],
   "source": [
    "color_steps = np.arange(0, 1.05, 0.05)"
   ]
  },
  {
   "cell_type": "code",
   "execution_count": 30,
   "metadata": {},
   "outputs": [
    {
     "name": "stdout",
     "output_type": "stream",
     "text": [
      "(21, 10000)\n"
     ]
    }
   ],
   "source": [
    "reds_hdv = range_hdvs(color_steps)\n",
    "print(reds_hdv.shape)"
   ]
  },
  {
   "cell_type": "code",
   "execution_count": 31,
   "metadata": {},
   "outputs": [
    {
     "data": {
      "text/html": [
       "<div>\n",
       "<style scoped>\n",
       "    .dataframe tbody tr th:only-of-type {\n",
       "        vertical-align: middle;\n",
       "    }\n",
       "\n",
       "    .dataframe tbody tr th {\n",
       "        vertical-align: top;\n",
       "    }\n",
       "\n",
       "    .dataframe thead th {\n",
       "        text-align: right;\n",
       "    }\n",
       "</style>\n",
       "<table border=\"1\" class=\"dataframe\">\n",
       "  <thead>\n",
       "    <tr style=\"text-align: right;\">\n",
       "      <th></th>\n",
       "      <th>V0</th>\n",
       "      <th>V1</th>\n",
       "      <th>V2</th>\n",
       "      <th>V3</th>\n",
       "      <th>V4</th>\n",
       "      <th>V5</th>\n",
       "      <th>V6</th>\n",
       "      <th>V7</th>\n",
       "      <th>V8</th>\n",
       "      <th>V9</th>\n",
       "      <th>...</th>\n",
       "      <th>V11</th>\n",
       "      <th>V12</th>\n",
       "      <th>V13</th>\n",
       "      <th>V14</th>\n",
       "      <th>V15</th>\n",
       "      <th>V16</th>\n",
       "      <th>V17</th>\n",
       "      <th>V18</th>\n",
       "      <th>V19</th>\n",
       "      <th>V20</th>\n",
       "    </tr>\n",
       "  </thead>\n",
       "  <tbody>\n",
       "    <tr>\n",
       "      <th>V0</th>\n",
       "      <td>0.1074</td>\n",
       "      <td>0.1160</td>\n",
       "      <td>0.1274</td>\n",
       "      <td>0.1448</td>\n",
       "      <td>0.1600</td>\n",
       "      <td>0.1876</td>\n",
       "      <td>0.2062</td>\n",
       "      <td>0.2304</td>\n",
       "      <td>0.2596</td>\n",
       "      <td>0.2868</td>\n",
       "      <td>...</td>\n",
       "      <td>0.3634</td>\n",
       "      <td>0.4168</td>\n",
       "      <td>0.4738</td>\n",
       "      <td>0.5324</td>\n",
       "      <td>0.5898</td>\n",
       "      <td>0.6580</td>\n",
       "      <td>0.7258</td>\n",
       "      <td>0.8028</td>\n",
       "      <td>0.9016</td>\n",
       "      <td>1.0000</td>\n",
       "    </tr>\n",
       "    <tr>\n",
       "      <th>V1</th>\n",
       "      <td>0.1174</td>\n",
       "      <td>0.1256</td>\n",
       "      <td>0.1394</td>\n",
       "      <td>0.1580</td>\n",
       "      <td>0.1756</td>\n",
       "      <td>0.2024</td>\n",
       "      <td>0.2270</td>\n",
       "      <td>0.2560</td>\n",
       "      <td>0.2872</td>\n",
       "      <td>0.3184</td>\n",
       "      <td>...</td>\n",
       "      <td>0.4066</td>\n",
       "      <td>0.4624</td>\n",
       "      <td>0.5270</td>\n",
       "      <td>0.5896</td>\n",
       "      <td>0.6534</td>\n",
       "      <td>0.7296</td>\n",
       "      <td>0.8034</td>\n",
       "      <td>0.8928</td>\n",
       "      <td>1.0000</td>\n",
       "      <td>0.9016</td>\n",
       "    </tr>\n",
       "    <tr>\n",
       "      <th>V2</th>\n",
       "      <td>0.1278</td>\n",
       "      <td>0.1360</td>\n",
       "      <td>0.1574</td>\n",
       "      <td>0.1776</td>\n",
       "      <td>0.2004</td>\n",
       "      <td>0.2328</td>\n",
       "      <td>0.2582</td>\n",
       "      <td>0.2932</td>\n",
       "      <td>0.3244</td>\n",
       "      <td>0.3588</td>\n",
       "      <td>...</td>\n",
       "      <td>0.4578</td>\n",
       "      <td>0.5200</td>\n",
       "      <td>0.5894</td>\n",
       "      <td>0.6612</td>\n",
       "      <td>0.7326</td>\n",
       "      <td>0.8176</td>\n",
       "      <td>0.9002</td>\n",
       "      <td>1.0000</td>\n",
       "      <td>0.8928</td>\n",
       "      <td>0.8028</td>\n",
       "    </tr>\n",
       "    <tr>\n",
       "      <th>V3</th>\n",
       "      <td>0.1436</td>\n",
       "      <td>0.1550</td>\n",
       "      <td>0.1772</td>\n",
       "      <td>0.2014</td>\n",
       "      <td>0.2238</td>\n",
       "      <td>0.2606</td>\n",
       "      <td>0.2908</td>\n",
       "      <td>0.3302</td>\n",
       "      <td>0.3642</td>\n",
       "      <td>0.4018</td>\n",
       "      <td>...</td>\n",
       "      <td>0.5108</td>\n",
       "      <td>0.5802</td>\n",
       "      <td>0.6564</td>\n",
       "      <td>0.7326</td>\n",
       "      <td>0.8084</td>\n",
       "      <td>0.9066</td>\n",
       "      <td>1.0000</td>\n",
       "      <td>0.9002</td>\n",
       "      <td>0.8034</td>\n",
       "      <td>0.7258</td>\n",
       "    </tr>\n",
       "    <tr>\n",
       "      <th>V4</th>\n",
       "      <td>0.1706</td>\n",
       "      <td>0.1852</td>\n",
       "      <td>0.2086</td>\n",
       "      <td>0.2324</td>\n",
       "      <td>0.2568</td>\n",
       "      <td>0.2948</td>\n",
       "      <td>0.3286</td>\n",
       "      <td>0.3656</td>\n",
       "      <td>0.4020</td>\n",
       "      <td>0.4468</td>\n",
       "      <td>...</td>\n",
       "      <td>0.5678</td>\n",
       "      <td>0.6428</td>\n",
       "      <td>0.7254</td>\n",
       "      <td>0.8084</td>\n",
       "      <td>0.8954</td>\n",
       "      <td>1.0000</td>\n",
       "      <td>0.9066</td>\n",
       "      <td>0.8176</td>\n",
       "      <td>0.7296</td>\n",
       "      <td>0.6580</td>\n",
       "    </tr>\n",
       "    <tr>\n",
       "      <th>V5</th>\n",
       "      <td>0.1904</td>\n",
       "      <td>0.2054</td>\n",
       "      <td>0.2312</td>\n",
       "      <td>0.2590</td>\n",
       "      <td>0.2918</td>\n",
       "      <td>0.3358</td>\n",
       "      <td>0.3740</td>\n",
       "      <td>0.4174</td>\n",
       "      <td>0.4582</td>\n",
       "      <td>0.5094</td>\n",
       "      <td>...</td>\n",
       "      <td>0.6420</td>\n",
       "      <td>0.7230</td>\n",
       "      <td>0.8100</td>\n",
       "      <td>0.9018</td>\n",
       "      <td>1.0000</td>\n",
       "      <td>0.8954</td>\n",
       "      <td>0.8084</td>\n",
       "      <td>0.7326</td>\n",
       "      <td>0.6534</td>\n",
       "      <td>0.5898</td>\n",
       "    </tr>\n",
       "    <tr>\n",
       "      <th>V6</th>\n",
       "      <td>0.2082</td>\n",
       "      <td>0.2280</td>\n",
       "      <td>0.2554</td>\n",
       "      <td>0.2888</td>\n",
       "      <td>0.3248</td>\n",
       "      <td>0.3740</td>\n",
       "      <td>0.4166</td>\n",
       "      <td>0.4656</td>\n",
       "      <td>0.5152</td>\n",
       "      <td>0.5720</td>\n",
       "      <td>...</td>\n",
       "      <td>0.7190</td>\n",
       "      <td>0.8076</td>\n",
       "      <td>0.9014</td>\n",
       "      <td>1.0000</td>\n",
       "      <td>0.9018</td>\n",
       "      <td>0.8084</td>\n",
       "      <td>0.7326</td>\n",
       "      <td>0.6612</td>\n",
       "      <td>0.5896</td>\n",
       "      <td>0.5324</td>\n",
       "    </tr>\n",
       "    <tr>\n",
       "      <th>V7</th>\n",
       "      <td>0.2364</td>\n",
       "      <td>0.2582</td>\n",
       "      <td>0.2896</td>\n",
       "      <td>0.3254</td>\n",
       "      <td>0.3646</td>\n",
       "      <td>0.4170</td>\n",
       "      <td>0.4664</td>\n",
       "      <td>0.5214</td>\n",
       "      <td>0.5762</td>\n",
       "      <td>0.6406</td>\n",
       "      <td>...</td>\n",
       "      <td>0.8032</td>\n",
       "      <td>0.8970</td>\n",
       "      <td>1.0000</td>\n",
       "      <td>0.9014</td>\n",
       "      <td>0.8100</td>\n",
       "      <td>0.7254</td>\n",
       "      <td>0.6564</td>\n",
       "      <td>0.5894</td>\n",
       "      <td>0.5270</td>\n",
       "      <td>0.4738</td>\n",
       "    </tr>\n",
       "    <tr>\n",
       "      <th>V8</th>\n",
       "      <td>0.2626</td>\n",
       "      <td>0.2896</td>\n",
       "      <td>0.3234</td>\n",
       "      <td>0.3660</td>\n",
       "      <td>0.4076</td>\n",
       "      <td>0.4652</td>\n",
       "      <td>0.5210</td>\n",
       "      <td>0.5820</td>\n",
       "      <td>0.6412</td>\n",
       "      <td>0.7164</td>\n",
       "      <td>...</td>\n",
       "      <td>0.8946</td>\n",
       "      <td>1.0000</td>\n",
       "      <td>0.8970</td>\n",
       "      <td>0.8076</td>\n",
       "      <td>0.7230</td>\n",
       "      <td>0.6428</td>\n",
       "      <td>0.5802</td>\n",
       "      <td>0.5200</td>\n",
       "      <td>0.4624</td>\n",
       "      <td>0.4168</td>\n",
       "    </tr>\n",
       "    <tr>\n",
       "      <th>V9</th>\n",
       "      <td>0.2928</td>\n",
       "      <td>0.3246</td>\n",
       "      <td>0.3596</td>\n",
       "      <td>0.4070</td>\n",
       "      <td>0.4566</td>\n",
       "      <td>0.5198</td>\n",
       "      <td>0.5820</td>\n",
       "      <td>0.6514</td>\n",
       "      <td>0.7210</td>\n",
       "      <td>0.8074</td>\n",
       "      <td>...</td>\n",
       "      <td>1.0000</td>\n",
       "      <td>0.8946</td>\n",
       "      <td>0.8032</td>\n",
       "      <td>0.7190</td>\n",
       "      <td>0.6420</td>\n",
       "      <td>0.5678</td>\n",
       "      <td>0.5108</td>\n",
       "      <td>0.4578</td>\n",
       "      <td>0.4066</td>\n",
       "      <td>0.3634</td>\n",
       "    </tr>\n",
       "    <tr>\n",
       "      <th>V10</th>\n",
       "      <td>0.3280</td>\n",
       "      <td>0.3654</td>\n",
       "      <td>0.4036</td>\n",
       "      <td>0.4582</td>\n",
       "      <td>0.5126</td>\n",
       "      <td>0.5806</td>\n",
       "      <td>0.6488</td>\n",
       "      <td>0.7266</td>\n",
       "      <td>0.8042</td>\n",
       "      <td>0.8982</td>\n",
       "      <td>...</td>\n",
       "      <td>0.8964</td>\n",
       "      <td>0.7974</td>\n",
       "      <td>0.7144</td>\n",
       "      <td>0.6390</td>\n",
       "      <td>0.5688</td>\n",
       "      <td>0.5022</td>\n",
       "      <td>0.4544</td>\n",
       "      <td>0.4078</td>\n",
       "      <td>0.3630</td>\n",
       "      <td>0.3242</td>\n",
       "    </tr>\n",
       "    <tr>\n",
       "      <th>V11</th>\n",
       "      <td>0.3738</td>\n",
       "      <td>0.4140</td>\n",
       "      <td>0.4594</td>\n",
       "      <td>0.5148</td>\n",
       "      <td>0.5744</td>\n",
       "      <td>0.6492</td>\n",
       "      <td>0.7246</td>\n",
       "      <td>0.8096</td>\n",
       "      <td>0.8960</td>\n",
       "      <td>1.0000</td>\n",
       "      <td>...</td>\n",
       "      <td>0.8074</td>\n",
       "      <td>0.7164</td>\n",
       "      <td>0.6406</td>\n",
       "      <td>0.5720</td>\n",
       "      <td>0.5094</td>\n",
       "      <td>0.4468</td>\n",
       "      <td>0.4018</td>\n",
       "      <td>0.3588</td>\n",
       "      <td>0.3184</td>\n",
       "      <td>0.2868</td>\n",
       "    </tr>\n",
       "    <tr>\n",
       "      <th>V12</th>\n",
       "      <td>0.4198</td>\n",
       "      <td>0.4640</td>\n",
       "      <td>0.5158</td>\n",
       "      <td>0.5756</td>\n",
       "      <td>0.6440</td>\n",
       "      <td>0.7296</td>\n",
       "      <td>0.8110</td>\n",
       "      <td>0.9068</td>\n",
       "      <td>1.0000</td>\n",
       "      <td>0.8960</td>\n",
       "      <td>...</td>\n",
       "      <td>0.7210</td>\n",
       "      <td>0.6412</td>\n",
       "      <td>0.5762</td>\n",
       "      <td>0.5152</td>\n",
       "      <td>0.4582</td>\n",
       "      <td>0.4020</td>\n",
       "      <td>0.3642</td>\n",
       "      <td>0.3244</td>\n",
       "      <td>0.2872</td>\n",
       "      <td>0.2596</td>\n",
       "    </tr>\n",
       "    <tr>\n",
       "      <th>V13</th>\n",
       "      <td>0.4630</td>\n",
       "      <td>0.5092</td>\n",
       "      <td>0.5650</td>\n",
       "      <td>0.6332</td>\n",
       "      <td>0.7104</td>\n",
       "      <td>0.8028</td>\n",
       "      <td>0.8954</td>\n",
       "      <td>1.0000</td>\n",
       "      <td>0.9068</td>\n",
       "      <td>0.8096</td>\n",
       "      <td>...</td>\n",
       "      <td>0.6514</td>\n",
       "      <td>0.5820</td>\n",
       "      <td>0.5214</td>\n",
       "      <td>0.4656</td>\n",
       "      <td>0.4174</td>\n",
       "      <td>0.3656</td>\n",
       "      <td>0.3302</td>\n",
       "      <td>0.2932</td>\n",
       "      <td>0.2560</td>\n",
       "      <td>0.2304</td>\n",
       "    </tr>\n",
       "    <tr>\n",
       "      <th>V14</th>\n",
       "      <td>0.5308</td>\n",
       "      <td>0.5818</td>\n",
       "      <td>0.6444</td>\n",
       "      <td>0.7186</td>\n",
       "      <td>0.8010</td>\n",
       "      <td>0.8998</td>\n",
       "      <td>1.0000</td>\n",
       "      <td>0.8954</td>\n",
       "      <td>0.8110</td>\n",
       "      <td>0.7246</td>\n",
       "      <td>...</td>\n",
       "      <td>0.5820</td>\n",
       "      <td>0.5210</td>\n",
       "      <td>0.4664</td>\n",
       "      <td>0.4166</td>\n",
       "      <td>0.3740</td>\n",
       "      <td>0.3286</td>\n",
       "      <td>0.2908</td>\n",
       "      <td>0.2582</td>\n",
       "      <td>0.2270</td>\n",
       "      <td>0.2062</td>\n",
       "    </tr>\n",
       "    <tr>\n",
       "      <th>V15</th>\n",
       "      <td>0.5882</td>\n",
       "      <td>0.6460</td>\n",
       "      <td>0.7190</td>\n",
       "      <td>0.7976</td>\n",
       "      <td>0.8928</td>\n",
       "      <td>1.0000</td>\n",
       "      <td>0.8998</td>\n",
       "      <td>0.8028</td>\n",
       "      <td>0.7296</td>\n",
       "      <td>0.6492</td>\n",
       "      <td>...</td>\n",
       "      <td>0.5198</td>\n",
       "      <td>0.4652</td>\n",
       "      <td>0.4170</td>\n",
       "      <td>0.3740</td>\n",
       "      <td>0.3358</td>\n",
       "      <td>0.2948</td>\n",
       "      <td>0.2606</td>\n",
       "      <td>0.2328</td>\n",
       "      <td>0.2024</td>\n",
       "      <td>0.1876</td>\n",
       "    </tr>\n",
       "    <tr>\n",
       "      <th>V16</th>\n",
       "      <td>0.6570</td>\n",
       "      <td>0.7240</td>\n",
       "      <td>0.8062</td>\n",
       "      <td>0.8936</td>\n",
       "      <td>1.0000</td>\n",
       "      <td>0.8928</td>\n",
       "      <td>0.8010</td>\n",
       "      <td>0.7104</td>\n",
       "      <td>0.6440</td>\n",
       "      <td>0.5744</td>\n",
       "      <td>...</td>\n",
       "      <td>0.4566</td>\n",
       "      <td>0.4076</td>\n",
       "      <td>0.3646</td>\n",
       "      <td>0.3248</td>\n",
       "      <td>0.2918</td>\n",
       "      <td>0.2568</td>\n",
       "      <td>0.2238</td>\n",
       "      <td>0.2004</td>\n",
       "      <td>0.1756</td>\n",
       "      <td>0.1600</td>\n",
       "    </tr>\n",
       "    <tr>\n",
       "      <th>V17</th>\n",
       "      <td>0.7326</td>\n",
       "      <td>0.8076</td>\n",
       "      <td>0.8998</td>\n",
       "      <td>1.0000</td>\n",
       "      <td>0.8936</td>\n",
       "      <td>0.7976</td>\n",
       "      <td>0.7186</td>\n",
       "      <td>0.6332</td>\n",
       "      <td>0.5756</td>\n",
       "      <td>0.5148</td>\n",
       "      <td>...</td>\n",
       "      <td>0.4070</td>\n",
       "      <td>0.3660</td>\n",
       "      <td>0.3254</td>\n",
       "      <td>0.2888</td>\n",
       "      <td>0.2590</td>\n",
       "      <td>0.2324</td>\n",
       "      <td>0.2014</td>\n",
       "      <td>0.1776</td>\n",
       "      <td>0.1580</td>\n",
       "      <td>0.1448</td>\n",
       "    </tr>\n",
       "    <tr>\n",
       "      <th>V18</th>\n",
       "      <td>0.8204</td>\n",
       "      <td>0.9006</td>\n",
       "      <td>1.0000</td>\n",
       "      <td>0.8998</td>\n",
       "      <td>0.8062</td>\n",
       "      <td>0.7190</td>\n",
       "      <td>0.6444</td>\n",
       "      <td>0.5650</td>\n",
       "      <td>0.5158</td>\n",
       "      <td>0.4594</td>\n",
       "      <td>...</td>\n",
       "      <td>0.3596</td>\n",
       "      <td>0.3234</td>\n",
       "      <td>0.2896</td>\n",
       "      <td>0.2554</td>\n",
       "      <td>0.2312</td>\n",
       "      <td>0.2086</td>\n",
       "      <td>0.1772</td>\n",
       "      <td>0.1574</td>\n",
       "      <td>0.1394</td>\n",
       "      <td>0.1274</td>\n",
       "    </tr>\n",
       "    <tr>\n",
       "      <th>V19</th>\n",
       "      <td>0.9134</td>\n",
       "      <td>1.0000</td>\n",
       "      <td>0.9006</td>\n",
       "      <td>0.8076</td>\n",
       "      <td>0.7240</td>\n",
       "      <td>0.6460</td>\n",
       "      <td>0.5818</td>\n",
       "      <td>0.5092</td>\n",
       "      <td>0.4640</td>\n",
       "      <td>0.4140</td>\n",
       "      <td>...</td>\n",
       "      <td>0.3246</td>\n",
       "      <td>0.2896</td>\n",
       "      <td>0.2582</td>\n",
       "      <td>0.2280</td>\n",
       "      <td>0.2054</td>\n",
       "      <td>0.1852</td>\n",
       "      <td>0.1550</td>\n",
       "      <td>0.1360</td>\n",
       "      <td>0.1256</td>\n",
       "      <td>0.1160</td>\n",
       "    </tr>\n",
       "    <tr>\n",
       "      <th>V20</th>\n",
       "      <td>1.0000</td>\n",
       "      <td>0.9134</td>\n",
       "      <td>0.8204</td>\n",
       "      <td>0.7326</td>\n",
       "      <td>0.6570</td>\n",
       "      <td>0.5882</td>\n",
       "      <td>0.5308</td>\n",
       "      <td>0.4630</td>\n",
       "      <td>0.4198</td>\n",
       "      <td>0.3738</td>\n",
       "      <td>...</td>\n",
       "      <td>0.2928</td>\n",
       "      <td>0.2626</td>\n",
       "      <td>0.2364</td>\n",
       "      <td>0.2082</td>\n",
       "      <td>0.1904</td>\n",
       "      <td>0.1706</td>\n",
       "      <td>0.1436</td>\n",
       "      <td>0.1278</td>\n",
       "      <td>0.1174</td>\n",
       "      <td>0.1074</td>\n",
       "    </tr>\n",
       "  </tbody>\n",
       "</table>\n",
       "<p>21 rows × 21 columns</p>\n",
       "</div>"
      ],
      "text/plain": [
       "         V0      V1      V2      V3      V4      V5      V6      V7      V8  \\\n",
       "V0   0.1074  0.1160  0.1274  0.1448  0.1600  0.1876  0.2062  0.2304  0.2596   \n",
       "V1   0.1174  0.1256  0.1394  0.1580  0.1756  0.2024  0.2270  0.2560  0.2872   \n",
       "V2   0.1278  0.1360  0.1574  0.1776  0.2004  0.2328  0.2582  0.2932  0.3244   \n",
       "V3   0.1436  0.1550  0.1772  0.2014  0.2238  0.2606  0.2908  0.3302  0.3642   \n",
       "V4   0.1706  0.1852  0.2086  0.2324  0.2568  0.2948  0.3286  0.3656  0.4020   \n",
       "V5   0.1904  0.2054  0.2312  0.2590  0.2918  0.3358  0.3740  0.4174  0.4582   \n",
       "V6   0.2082  0.2280  0.2554  0.2888  0.3248  0.3740  0.4166  0.4656  0.5152   \n",
       "V7   0.2364  0.2582  0.2896  0.3254  0.3646  0.4170  0.4664  0.5214  0.5762   \n",
       "V8   0.2626  0.2896  0.3234  0.3660  0.4076  0.4652  0.5210  0.5820  0.6412   \n",
       "V9   0.2928  0.3246  0.3596  0.4070  0.4566  0.5198  0.5820  0.6514  0.7210   \n",
       "V10  0.3280  0.3654  0.4036  0.4582  0.5126  0.5806  0.6488  0.7266  0.8042   \n",
       "V11  0.3738  0.4140  0.4594  0.5148  0.5744  0.6492  0.7246  0.8096  0.8960   \n",
       "V12  0.4198  0.4640  0.5158  0.5756  0.6440  0.7296  0.8110  0.9068  1.0000   \n",
       "V13  0.4630  0.5092  0.5650  0.6332  0.7104  0.8028  0.8954  1.0000  0.9068   \n",
       "V14  0.5308  0.5818  0.6444  0.7186  0.8010  0.8998  1.0000  0.8954  0.8110   \n",
       "V15  0.5882  0.6460  0.7190  0.7976  0.8928  1.0000  0.8998  0.8028  0.7296   \n",
       "V16  0.6570  0.7240  0.8062  0.8936  1.0000  0.8928  0.8010  0.7104  0.6440   \n",
       "V17  0.7326  0.8076  0.8998  1.0000  0.8936  0.7976  0.7186  0.6332  0.5756   \n",
       "V18  0.8204  0.9006  1.0000  0.8998  0.8062  0.7190  0.6444  0.5650  0.5158   \n",
       "V19  0.9134  1.0000  0.9006  0.8076  0.7240  0.6460  0.5818  0.5092  0.4640   \n",
       "V20  1.0000  0.9134  0.8204  0.7326  0.6570  0.5882  0.5308  0.4630  0.4198   \n",
       "\n",
       "         V9  ...     V11     V12     V13     V14     V15     V16     V17  \\\n",
       "V0   0.2868  ...  0.3634  0.4168  0.4738  0.5324  0.5898  0.6580  0.7258   \n",
       "V1   0.3184  ...  0.4066  0.4624  0.5270  0.5896  0.6534  0.7296  0.8034   \n",
       "V2   0.3588  ...  0.4578  0.5200  0.5894  0.6612  0.7326  0.8176  0.9002   \n",
       "V3   0.4018  ...  0.5108  0.5802  0.6564  0.7326  0.8084  0.9066  1.0000   \n",
       "V4   0.4468  ...  0.5678  0.6428  0.7254  0.8084  0.8954  1.0000  0.9066   \n",
       "V5   0.5094  ...  0.6420  0.7230  0.8100  0.9018  1.0000  0.8954  0.8084   \n",
       "V6   0.5720  ...  0.7190  0.8076  0.9014  1.0000  0.9018  0.8084  0.7326   \n",
       "V7   0.6406  ...  0.8032  0.8970  1.0000  0.9014  0.8100  0.7254  0.6564   \n",
       "V8   0.7164  ...  0.8946  1.0000  0.8970  0.8076  0.7230  0.6428  0.5802   \n",
       "V9   0.8074  ...  1.0000  0.8946  0.8032  0.7190  0.6420  0.5678  0.5108   \n",
       "V10  0.8982  ...  0.8964  0.7974  0.7144  0.6390  0.5688  0.5022  0.4544   \n",
       "V11  1.0000  ...  0.8074  0.7164  0.6406  0.5720  0.5094  0.4468  0.4018   \n",
       "V12  0.8960  ...  0.7210  0.6412  0.5762  0.5152  0.4582  0.4020  0.3642   \n",
       "V13  0.8096  ...  0.6514  0.5820  0.5214  0.4656  0.4174  0.3656  0.3302   \n",
       "V14  0.7246  ...  0.5820  0.5210  0.4664  0.4166  0.3740  0.3286  0.2908   \n",
       "V15  0.6492  ...  0.5198  0.4652  0.4170  0.3740  0.3358  0.2948  0.2606   \n",
       "V16  0.5744  ...  0.4566  0.4076  0.3646  0.3248  0.2918  0.2568  0.2238   \n",
       "V17  0.5148  ...  0.4070  0.3660  0.3254  0.2888  0.2590  0.2324  0.2014   \n",
       "V18  0.4594  ...  0.3596  0.3234  0.2896  0.2554  0.2312  0.2086  0.1772   \n",
       "V19  0.4140  ...  0.3246  0.2896  0.2582  0.2280  0.2054  0.1852  0.1550   \n",
       "V20  0.3738  ...  0.2928  0.2626  0.2364  0.2082  0.1904  0.1706  0.1436   \n",
       "\n",
       "        V18     V19     V20  \n",
       "V0   0.8028  0.9016  1.0000  \n",
       "V1   0.8928  1.0000  0.9016  \n",
       "V2   1.0000  0.8928  0.8028  \n",
       "V3   0.9002  0.8034  0.7258  \n",
       "V4   0.8176  0.7296  0.6580  \n",
       "V5   0.7326  0.6534  0.5898  \n",
       "V6   0.6612  0.5896  0.5324  \n",
       "V7   0.5894  0.5270  0.4738  \n",
       "V8   0.5200  0.4624  0.4168  \n",
       "V9   0.4578  0.4066  0.3634  \n",
       "V10  0.4078  0.3630  0.3242  \n",
       "V11  0.3588  0.3184  0.2868  \n",
       "V12  0.3244  0.2872  0.2596  \n",
       "V13  0.2932  0.2560  0.2304  \n",
       "V14  0.2582  0.2270  0.2062  \n",
       "V15  0.2328  0.2024  0.1876  \n",
       "V16  0.2004  0.1756  0.1600  \n",
       "V17  0.1776  0.1580  0.1448  \n",
       "V18  0.1574  0.1394  0.1274  \n",
       "V19  0.1360  0.1256  0.1160  \n",
       "V20  0.1278  0.1174  0.1074  \n",
       "\n",
       "[21 rows x 21 columns]"
      ]
     },
     "metadata": {},
     "output_type": "display_data"
    },
    {
     "data": {
      "image/png": "[encoded data removed]",
      "text/plain": [
       "<Figure size 800x600 with 2 Axes>"
      ]
     },
     "metadata": {},
     "output_type": "display_data"
    }
   ],
   "source": [
    "from sklearn.metrics.pairwise import cosine_similarity\n",
    "\n",
    "# Calcular la matriz de similaridad coseno\n",
    "cos_sim_matrix = cosine_similarity(reds_hdv)\n",
    "cos_sim_matrix = cos_sim_matrix[::-1, :]\n",
    "\n",
    "# Representar la matriz de similaridad como DataFrame para mejor visualización\n",
    "df_cos_sim = pd.DataFrame(cos_sim_matrix,\n",
    "                          index=[f\"V{i}\" for i in range(reds_hdv.shape[0])],\n",
    "                          columns=[f\"V{i}\" for i in range(reds_hdv.shape[0])])\n",
    "\n",
    "# Mostrar en formato tabla\n",
    "display(df_cos_sim)\n",
    "\n",
    "# Representar la matriz de similaridad coseno con un mapa de calor\n",
    "plt.figure(figsize=(8, 6))\n",
    "plt.imshow(cos_sim_matrix, cmap='magma', interpolation='nearest')\n",
    "plt.colorbar(label='Cosine Similarity')\n",
    "plt.title(\"Cosine Similarity Between Rows of V\")\n",
    "plt.xticks(ticks=np.arange(len(color_steps)),\n",
    "           labels=[f\"{val:.2f}\" for val in color_steps], rotation=90)\n",
    "plt.yticks(ticks=np.arange(len(color_steps)),\n",
    "           labels=[f\"{val:.2f}\" for val in color_steps[::-1]])\n",
    "\n",
    "plt.tight_layout()\n",
    "plt.show()\n"
   ]
  },
  {
   "cell_type": "code",
   "execution_count": 32,
   "metadata": {},
   "outputs": [],
   "source": [
    "greens_hdv = range_hdvs(color_steps)\n",
    "blues_hdv = range_hdvs(color_steps)"
   ]
  },
  {
   "cell_type": "code",
   "execution_count": 33,
   "metadata": {},
   "outputs": [],
   "source": [
    "def col_ind(component):\n",
    "    return round(component * 20)\n",
    "\n",
    "def encode_col(color):\n",
    "    return bind(reds_hdv[col_ind(color[0])],\n",
    "                greens_hdv[col_ind(color[1])],\n",
    "                blues_hdv[col_ind(color[2])])"
   ]
  },
  {
   "cell_type": "code",
   "execution_count": 34,
   "metadata": {},
   "outputs": [],
   "source": [
    "colhdv = encode_col(acolor)"
   ]
  },
  {
   "cell_type": "code",
   "execution_count": 35,
   "metadata": {},
   "outputs": [],
   "source": [
    "ref_colors = [{'color':c, 'hdv':encode_col(c)} for c in [randcol() for _ in range(1000)]]"
   ]
  },
  {
   "cell_type": "code",
   "execution_count": 36,
   "metadata": {},
   "outputs": [],
   "source": [
    "def decode_colors(v):\n",
    "    best_match = max(ref_colors, key=lambda item: cosine_similarity(v, item[\"hdv\"]))\n",
    "    return best_match[\"color\"]"
   ]
  },
  {
   "cell_type": "code",
   "execution_count": 37,
   "metadata": {},
   "outputs": [
    {
     "ename": "ValueError",
     "evalue": "Expected 2D array, got 1D array instead:\narray=[-1.  1.  1. ...  1. -1. -1.].\nReshape your data either using array.reshape(-1, 1) if your data has a single feature or array.reshape(1, -1) if it contains a single sample.",
     "output_type": "error",
     "traceback": [
      "\u001b[0;31m---------------------------------------------------------------------------\u001b[0m",
      "\u001b[0;31mValueError\u001b[0m                                Traceback (most recent call last)",
      "Cell \u001b[0;32mIn[37], line 1\u001b[0m\n\u001b[0;32m----> 1\u001b[0m \u001b[43mdecode_colors\u001b[49m\u001b[43m(\u001b[49m\u001b[43mcolhdv\u001b[49m\u001b[43m)\u001b[49m\n",
      "Cell \u001b[0;32mIn[36], line 2\u001b[0m, in \u001b[0;36mdecode_colors\u001b[0;34m(v)\u001b[0m\n\u001b[1;32m      1\u001b[0m \u001b[38;5;28;01mdef\u001b[39;00m \u001b[38;5;21mdecode_colors\u001b[39m(v):\n\u001b[0;32m----> 2\u001b[0m     best_match \u001b[38;5;241m=\u001b[39m \u001b[38;5;28;43mmax\u001b[39;49m\u001b[43m(\u001b[49m\u001b[43mref_colors\u001b[49m\u001b[43m,\u001b[49m\u001b[43m \u001b[49m\u001b[43mkey\u001b[49m\u001b[38;5;241;43m=\u001b[39;49m\u001b[38;5;28;43;01mlambda\u001b[39;49;00m\u001b[43m \u001b[49m\u001b[43mitem\u001b[49m\u001b[43m:\u001b[49m\u001b[43m \u001b[49m\u001b[43mcosine_similarity\u001b[49m\u001b[43m(\u001b[49m\u001b[43mv\u001b[49m\u001b[43m,\u001b[49m\u001b[43m \u001b[49m\u001b[43mitem\u001b[49m\u001b[43m[\u001b[49m\u001b[38;5;124;43m\"\u001b[39;49m\u001b[38;5;124;43mhdv\u001b[39;49m\u001b[38;5;124;43m\"\u001b[39;49m\u001b[43m]\u001b[49m\u001b[43m)\u001b[49m\u001b[43m)\u001b[49m\n\u001b[1;32m      3\u001b[0m     \u001b[38;5;28;01mreturn\u001b[39;00m best_match[\u001b[38;5;124m\"\u001b[39m\u001b[38;5;124mcolor\u001b[39m\u001b[38;5;124m\"\u001b[39m]\n",
      "Cell \u001b[0;32mIn[36], line 2\u001b[0m, in \u001b[0;36mdecode_colors.<locals>.<lambda>\u001b[0;34m(item)\u001b[0m\n\u001b[1;32m      1\u001b[0m \u001b[38;5;28;01mdef\u001b[39;00m \u001b[38;5;21mdecode_colors\u001b[39m(v):\n\u001b[0;32m----> 2\u001b[0m     best_match \u001b[38;5;241m=\u001b[39m \u001b[38;5;28mmax\u001b[39m(ref_colors, key\u001b[38;5;241m=\u001b[39m\u001b[38;5;28;01mlambda\u001b[39;00m item: \u001b[43mcosine_similarity\u001b[49m\u001b[43m(\u001b[49m\u001b[43mv\u001b[49m\u001b[43m,\u001b[49m\u001b[43m \u001b[49m\u001b[43mitem\u001b[49m\u001b[43m[\u001b[49m\u001b[38;5;124;43m\"\u001b[39;49m\u001b[38;5;124;43mhdv\u001b[39;49m\u001b[38;5;124;43m\"\u001b[39;49m\u001b[43m]\u001b[49m\u001b[43m)\u001b[49m)\n\u001b[1;32m      3\u001b[0m     \u001b[38;5;28;01mreturn\u001b[39;00m best_match[\u001b[38;5;124m\"\u001b[39m\u001b[38;5;124mcolor\u001b[39m\u001b[38;5;124m\"\u001b[39m]\n",
      "File \u001b[0;32m/usr/lib/python3/dist-packages/sklearn/utils/_param_validation.py:213\u001b[0m, in \u001b[0;36mvalidate_params.<locals>.decorator.<locals>.wrapper\u001b[0;34m(*args, **kwargs)\u001b[0m\n\u001b[1;32m    207\u001b[0m \u001b[38;5;28;01mtry\u001b[39;00m:\n\u001b[1;32m    208\u001b[0m     \u001b[38;5;28;01mwith\u001b[39;00m config_context(\n\u001b[1;32m    209\u001b[0m         skip_parameter_validation\u001b[38;5;241m=\u001b[39m(\n\u001b[1;32m    210\u001b[0m             prefer_skip_nested_validation \u001b[38;5;129;01mor\u001b[39;00m global_skip_validation\n\u001b[1;32m    211\u001b[0m         )\n\u001b[1;32m    212\u001b[0m     ):\n\u001b[0;32m--> 213\u001b[0m         \u001b[38;5;28;01mreturn\u001b[39;00m \u001b[43mfunc\u001b[49m\u001b[43m(\u001b[49m\u001b[38;5;241;43m*\u001b[39;49m\u001b[43margs\u001b[49m\u001b[43m,\u001b[49m\u001b[43m \u001b[49m\u001b[38;5;241;43m*\u001b[39;49m\u001b[38;5;241;43m*\u001b[39;49m\u001b[43mkwargs\u001b[49m\u001b[43m)\u001b[49m\n\u001b[1;32m    214\u001b[0m \u001b[38;5;28;01mexcept\u001b[39;00m InvalidParameterError \u001b[38;5;28;01mas\u001b[39;00m e:\n\u001b[1;32m    215\u001b[0m     \u001b[38;5;66;03m# When the function is just a wrapper around an estimator, we allow\u001b[39;00m\n\u001b[1;32m    216\u001b[0m     \u001b[38;5;66;03m# the function to delegate validation to the estimator, but we replace\u001b[39;00m\n\u001b[1;32m    217\u001b[0m     \u001b[38;5;66;03m# the name of the estimator by the name of the function in the error\u001b[39;00m\n\u001b[1;32m    218\u001b[0m     \u001b[38;5;66;03m# message to avoid confusion.\u001b[39;00m\n\u001b[1;32m    219\u001b[0m     msg \u001b[38;5;241m=\u001b[39m re\u001b[38;5;241m.\u001b[39msub(\n\u001b[1;32m    220\u001b[0m         \u001b[38;5;124mr\u001b[39m\u001b[38;5;124m\"\u001b[39m\u001b[38;5;124mparameter of \u001b[39m\u001b[38;5;124m\\\u001b[39m\u001b[38;5;124mw+ must be\u001b[39m\u001b[38;5;124m\"\u001b[39m,\n\u001b[1;32m    221\u001b[0m         \u001b[38;5;124mf\u001b[39m\u001b[38;5;124m\"\u001b[39m\u001b[38;5;124mparameter of \u001b[39m\u001b[38;5;132;01m{\u001b[39;00mfunc\u001b[38;5;241m.\u001b[39m\u001b[38;5;18m__qualname__\u001b[39m\u001b[38;5;132;01m}\u001b[39;00m\u001b[38;5;124m must be\u001b[39m\u001b[38;5;124m\"\u001b[39m,\n\u001b[1;32m    222\u001b[0m         \u001b[38;5;28mstr\u001b[39m(e),\n\u001b[1;32m    223\u001b[0m     )\n",
      "File \u001b[0;32m/usr/lib/python3/dist-packages/sklearn/metrics/pairwise.py:1657\u001b[0m, in \u001b[0;36mcosine_similarity\u001b[0;34m(X, Y, dense_output)\u001b[0m\n\u001b[1;32m   1613\u001b[0m \u001b[38;5;250m\u001b[39m\u001b[38;5;124;03m\"\"\"Compute cosine similarity between samples in X and Y.\u001b[39;00m\n\u001b[1;32m   1614\u001b[0m \n\u001b[1;32m   1615\u001b[0m \u001b[38;5;124;03mCosine similarity, or the cosine kernel, computes similarity as the\u001b[39;00m\n\u001b[0;32m   (...)\u001b[0m\n\u001b[1;32m   1653\u001b[0m \u001b[38;5;124;03m       [0.57..., 0.81...]])\u001b[39;00m\n\u001b[1;32m   1654\u001b[0m \u001b[38;5;124;03m\"\"\"\u001b[39;00m\n\u001b[1;32m   1655\u001b[0m \u001b[38;5;66;03m# to avoid recursive import\u001b[39;00m\n\u001b[0;32m-> 1657\u001b[0m X, Y \u001b[38;5;241m=\u001b[39m \u001b[43mcheck_pairwise_arrays\u001b[49m\u001b[43m(\u001b[49m\u001b[43mX\u001b[49m\u001b[43m,\u001b[49m\u001b[43m \u001b[49m\u001b[43mY\u001b[49m\u001b[43m)\u001b[49m\n\u001b[1;32m   1659\u001b[0m X_normalized \u001b[38;5;241m=\u001b[39m normalize(X, copy\u001b[38;5;241m=\u001b[39m\u001b[38;5;28;01mTrue\u001b[39;00m)\n\u001b[1;32m   1660\u001b[0m \u001b[38;5;28;01mif\u001b[39;00m X \u001b[38;5;129;01mis\u001b[39;00m Y:\n",
      "File \u001b[0;32m/usr/lib/python3/dist-packages/sklearn/metrics/pairwise.py:164\u001b[0m, in \u001b[0;36mcheck_pairwise_arrays\u001b[0;34m(X, Y, precomputed, dtype, accept_sparse, force_all_finite, copy)\u001b[0m\n\u001b[1;32m    155\u001b[0m     X \u001b[38;5;241m=\u001b[39m Y \u001b[38;5;241m=\u001b[39m check_array(\n\u001b[1;32m    156\u001b[0m         X,\n\u001b[1;32m    157\u001b[0m         accept_sparse\u001b[38;5;241m=\u001b[39maccept_sparse,\n\u001b[0;32m   (...)\u001b[0m\n\u001b[1;32m    161\u001b[0m         estimator\u001b[38;5;241m=\u001b[39mestimator,\n\u001b[1;32m    162\u001b[0m     )\n\u001b[1;32m    163\u001b[0m \u001b[38;5;28;01melse\u001b[39;00m:\n\u001b[0;32m--> 164\u001b[0m     X \u001b[38;5;241m=\u001b[39m \u001b[43mcheck_array\u001b[49m\u001b[43m(\u001b[49m\n\u001b[1;32m    165\u001b[0m \u001b[43m        \u001b[49m\u001b[43mX\u001b[49m\u001b[43m,\u001b[49m\n\u001b[1;32m    166\u001b[0m \u001b[43m        \u001b[49m\u001b[43maccept_sparse\u001b[49m\u001b[38;5;241;43m=\u001b[39;49m\u001b[43maccept_sparse\u001b[49m\u001b[43m,\u001b[49m\n\u001b[1;32m    167\u001b[0m \u001b[43m        \u001b[49m\u001b[43mdtype\u001b[49m\u001b[38;5;241;43m=\u001b[39;49m\u001b[43mdtype\u001b[49m\u001b[43m,\u001b[49m\n\u001b[1;32m    168\u001b[0m \u001b[43m        \u001b[49m\u001b[43mcopy\u001b[49m\u001b[38;5;241;43m=\u001b[39;49m\u001b[43mcopy\u001b[49m\u001b[43m,\u001b[49m\n\u001b[1;32m    169\u001b[0m \u001b[43m        \u001b[49m\u001b[43mforce_all_finite\u001b[49m\u001b[38;5;241;43m=\u001b[39;49m\u001b[43mforce_all_finite\u001b[49m\u001b[43m,\u001b[49m\n\u001b[1;32m    170\u001b[0m \u001b[43m        \u001b[49m\u001b[43mestimator\u001b[49m\u001b[38;5;241;43m=\u001b[39;49m\u001b[43mestimator\u001b[49m\u001b[43m,\u001b[49m\n\u001b[1;32m    171\u001b[0m \u001b[43m    \u001b[49m\u001b[43m)\u001b[49m\n\u001b[1;32m    172\u001b[0m     Y \u001b[38;5;241m=\u001b[39m check_array(\n\u001b[1;32m    173\u001b[0m         Y,\n\u001b[1;32m    174\u001b[0m         accept_sparse\u001b[38;5;241m=\u001b[39maccept_sparse,\n\u001b[0;32m   (...)\u001b[0m\n\u001b[1;32m    178\u001b[0m         estimator\u001b[38;5;241m=\u001b[39mestimator,\n\u001b[1;32m    179\u001b[0m     )\n\u001b[1;32m    181\u001b[0m \u001b[38;5;28;01mif\u001b[39;00m precomputed:\n",
      "File \u001b[0;32m/usr/lib/python3/dist-packages/sklearn/utils/validation.py:1035\u001b[0m, in \u001b[0;36mcheck_array\u001b[0;34m(array, accept_sparse, accept_large_sparse, dtype, order, copy, force_all_finite, ensure_2d, allow_nd, ensure_min_samples, ensure_min_features, estimator, input_name)\u001b[0m\n\u001b[1;32m   1028\u001b[0m         \u001b[38;5;28;01melse\u001b[39;00m:\n\u001b[1;32m   1029\u001b[0m             msg \u001b[38;5;241m=\u001b[39m (\n\u001b[1;32m   1030\u001b[0m                 \u001b[38;5;124mf\u001b[39m\u001b[38;5;124m\"\u001b[39m\u001b[38;5;124mExpected 2D array, got 1D array instead:\u001b[39m\u001b[38;5;130;01m\\n\u001b[39;00m\u001b[38;5;124marray=\u001b[39m\u001b[38;5;132;01m{\u001b[39;00marray\u001b[38;5;132;01m}\u001b[39;00m\u001b[38;5;124m.\u001b[39m\u001b[38;5;130;01m\\n\u001b[39;00m\u001b[38;5;124m\"\u001b[39m\n\u001b[1;32m   1031\u001b[0m                 \u001b[38;5;124m\"\u001b[39m\u001b[38;5;124mReshape your data either using array.reshape(-1, 1) if \u001b[39m\u001b[38;5;124m\"\u001b[39m\n\u001b[1;32m   1032\u001b[0m                 \u001b[38;5;124m\"\u001b[39m\u001b[38;5;124myour data has a single feature or array.reshape(1, -1) \u001b[39m\u001b[38;5;124m\"\u001b[39m\n\u001b[1;32m   1033\u001b[0m                 \u001b[38;5;124m\"\u001b[39m\u001b[38;5;124mif it contains a single sample.\u001b[39m\u001b[38;5;124m\"\u001b[39m\n\u001b[1;32m   1034\u001b[0m             )\n\u001b[0;32m-> 1035\u001b[0m         \u001b[38;5;28;01mraise\u001b[39;00m \u001b[38;5;167;01mValueError\u001b[39;00m(msg)\n\u001b[1;32m   1037\u001b[0m \u001b[38;5;28;01mif\u001b[39;00m dtype_numeric \u001b[38;5;129;01mand\u001b[39;00m \u001b[38;5;28mhasattr\u001b[39m(array\u001b[38;5;241m.\u001b[39mdtype, \u001b[38;5;124m\"\u001b[39m\u001b[38;5;124mkind\u001b[39m\u001b[38;5;124m\"\u001b[39m) \u001b[38;5;129;01mand\u001b[39;00m array\u001b[38;5;241m.\u001b[39mdtype\u001b[38;5;241m.\u001b[39mkind \u001b[38;5;129;01min\u001b[39;00m \u001b[38;5;124m\"\u001b[39m\u001b[38;5;124mUSV\u001b[39m\u001b[38;5;124m\"\u001b[39m:\n\u001b[1;32m   1038\u001b[0m     \u001b[38;5;28;01mraise\u001b[39;00m \u001b[38;5;167;01mValueError\u001b[39;00m(\n\u001b[1;32m   1039\u001b[0m         \u001b[38;5;124m\"\u001b[39m\u001b[38;5;124mdtype=\u001b[39m\u001b[38;5;124m'\u001b[39m\u001b[38;5;124mnumeric\u001b[39m\u001b[38;5;124m'\u001b[39m\u001b[38;5;124m is not compatible with arrays of bytes/strings.\u001b[39m\u001b[38;5;124m\"\u001b[39m\n\u001b[1;32m   1040\u001b[0m         \u001b[38;5;124m\"\u001b[39m\u001b[38;5;124mConvert your data to numeric values explicitly instead.\u001b[39m\u001b[38;5;124m\"\u001b[39m\n\u001b[1;32m   1041\u001b[0m     )\n",
      "\u001b[0;31mValueError\u001b[0m: Expected 2D array, got 1D array instead:\narray=[-1.  1.  1. ...  1. -1. -1.].\nReshape your data either using array.reshape(-1, 1) if your data has a single feature or array.reshape(1, -1) if it contains a single sample."
     ]
    }
   ],
   "source": [
    "decode_colors(colhdv)"
   ]
  },
  {
   "cell_type": "code",
   "execution_count": null,
   "metadata": {},
   "outputs": [],
   "source": []
  }
 ],
 "metadata": {
  "kernelspec": {
   "display_name": "usr",
   "language": "python",
   "name": "python3"
  },
  "language_info": {
   "codemirror_mode": {
    "name": "ipython",
    "version": 3
   },
   "file_extension": ".py",
   "mimetype": "text/x-python",
   "name": "python",
   "nbconvert_exporter": "python",
   "pygments_lexer": "ipython3",
   "version": "3.13.1"
  }
 },
 "nbformat": 4,
 "nbformat_minor": 2
}
