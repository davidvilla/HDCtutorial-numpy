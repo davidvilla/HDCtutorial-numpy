{
 "cells": [
  {
   "cell_type": "markdown",
   "metadata": {},
   "source": [
    "# Tutorial on Hyperdimensional Computing\n",
    "Translation to Python+numpy from https://michielstock.github.io/posts/2022/2022-10-04-HDVtutorial/"
   ]
  },
  {
   "cell_type": "code",
   "execution_count": 234,
   "metadata": {},
   "outputs": [],
   "source": [
    "import math\n",
    "import random\n",
    "import numpy as np\n",
    "from numpy.typing import NDArray\n",
    "import matplotlib.pyplot as plt\n",
    "import pandas as pd\n"
   ]
  },
  {
   "cell_type": "code",
   "execution_count": 235,
   "metadata": {},
   "outputs": [],
   "source": [
    "N = 10000\n",
    "\n",
    "def hdv() -> np.ndarray:\n",
    "    return np.random.choice([-1, 1], size=N)"
   ]
  },
  {
   "cell_type": "code",
   "execution_count": 236,
   "metadata": {},
   "outputs": [
    {
     "data": {
      "text/plain": [
       "array([-1, -1,  1, ...,  1, -1,  1], shape=(10000,))"
      ]
     },
     "execution_count": 236,
     "metadata": {},
     "output_type": "execute_result"
    }
   ],
   "source": [
    "x = hdv()\n",
    "x"
   ]
  },
  {
   "cell_type": "code",
   "execution_count": 237,
   "metadata": {},
   "outputs": [
    {
     "data": {
      "text/plain": [
       "array([ 1, -1, -1, ...,  1,  1,  1], shape=(10000,))"
      ]
     },
     "execution_count": 237,
     "metadata": {},
     "output_type": "execute_result"
    }
   ],
   "source": [
    "y = hdv()\n",
    "y"
   ]
  },
  {
   "cell_type": "code",
   "execution_count": 238,
   "metadata": {},
   "outputs": [
    {
     "data": {
      "text/plain": [
       "np.int64(5068)"
      ]
     },
     "execution_count": 238,
     "metadata": {},
     "output_type": "execute_result"
    }
   ],
   "source": [
    "np.sum(x == y)"
   ]
  },
  {
   "cell_type": "code",
   "execution_count": 239,
   "metadata": {},
   "outputs": [],
   "source": [
    "def hdv_m(rows: int) -> NDArray:\n",
    "    return np.random.choice([-1, 1], size=(rows, N))"
   ]
  },
  {
   "cell_type": "code",
   "execution_count": 240,
   "metadata": {},
   "outputs": [
    {
     "data": {
      "text/plain": [
       "array([[ 1, -1,  1, ...,  1, -1,  1],\n",
       "       [ 1,  1,  1, ...,  1, -1, -1],\n",
       "       [ 1,  1, -1, ..., -1, -1,  1],\n",
       "       ...,\n",
       "       [ 1, -1,  1, ..., -1, -1,  1],\n",
       "       [ 1,  1,  1, ...,  1, -1, -1],\n",
       "       [-1, -1, -1, ..., -1, -1, -1]], shape=(10, 10000))"
      ]
     },
     "execution_count": 240,
     "metadata": {},
     "output_type": "execute_result"
    }
   ],
   "source": [
    "V = hdv_m(10)\n",
    "V"
   ]
  },
  {
   "cell_type": "markdown",
   "metadata": {},
   "source": [
    "## Bundling"
   ]
  },
  {
   "cell_type": "code",
   "execution_count": 241,
   "metadata": {},
   "outputs": [
    {
     "name": "stdout",
     "output_type": "stream",
     "text": [
      "[1 0]\n"
     ]
    }
   ],
   "source": [
    "def bundle_m(U: NDArray[int]) -> NDArray[int]:\n",
    "    if U.ndim != 2:\n",
    "        raise ValueError(\"U must be a 2d array.\")\n",
    "\n",
    "    return np.sign(np.sum(U, axis=0))\n",
    "\n",
    "# example\n",
    "U = np.array([[1, 2],\n",
    "              [-3, 4],\n",
    "              [5, -6]])\n",
    "\n",
    "result = bundle_m(U)\n",
    "print(result)"
   ]
  },
  {
   "cell_type": "code",
   "execution_count": 242,
   "metadata": {},
   "outputs": [
    {
     "data": {
      "text/plain": [
       "array([ 1,  0,  1, ...,  1, -1,  0], shape=(10000,))"
      ]
     },
     "execution_count": 242,
     "metadata": {},
     "output_type": "execute_result"
    }
   ],
   "source": [
    "bundle_m(V)"
   ]
  },
  {
   "cell_type": "code",
   "execution_count": 243,
   "metadata": {},
   "outputs": [
    {
     "name": "stdout",
     "output_type": "stream",
     "text": [
      "[1 0]\n"
     ]
    }
   ],
   "source": [
    "def bundle(*xs: NDArray[int]) -> NDArray[int]:\n",
    "    summed = np.add.reduce(xs)\n",
    "    return np.sign(summed)\n",
    "\n",
    "# example\n",
    "xs = bundle(np.array([1, 2]),\n",
    "            np.array([-3, 4]),\n",
    "            np.array([5, -6]))\n",
    "print(xs)"
   ]
  },
  {
   "cell_type": "code",
   "execution_count": 244,
   "metadata": {},
   "outputs": [
    {
     "data": {
      "text/plain": [
       "array([ 0, -1,  0, ...,  1,  0,  1], shape=(10000,))"
      ]
     },
     "execution_count": 244,
     "metadata": {},
     "output_type": "execute_result"
    }
   ],
   "source": [
    "bundle(x, y)"
   ]
  },
  {
   "cell_type": "markdown",
   "metadata": {},
   "source": [
    "## Binding"
   ]
  },
  {
   "cell_type": "code",
   "execution_count": 245,
   "metadata": {},
   "outputs": [
    {
     "data": {
      "text/plain": [
       "array([-15, -48])"
      ]
     },
     "execution_count": 245,
     "metadata": {},
     "output_type": "execute_result"
    }
   ],
   "source": [
    "def bind(*xs: NDArray[int]):\n",
    "    return np.multiply.reduce(xs)\n",
    "\n",
    "# example\n",
    "xs = bind(np.array([1, 2]), np.array([-3, 4]), np.array([5, -6]))\n",
    "bind(xs)"
   ]
  },
  {
   "cell_type": "code",
   "execution_count": 246,
   "metadata": {},
   "outputs": [
    {
     "data": {
      "text/plain": [
       "array([-1,  1, -1, ...,  1, -1,  1], shape=(10000,))"
      ]
     },
     "execution_count": 246,
     "metadata": {},
     "output_type": "execute_result"
    }
   ],
   "source": [
    "bind(x, y)"
   ]
  },
  {
   "cell_type": "code",
   "execution_count": 247,
   "metadata": {},
   "outputs": [
    {
     "data": {
      "text/plain": [
       "True"
      ]
     },
     "execution_count": 247,
     "metadata": {},
     "output_type": "execute_result"
    }
   ],
   "source": [
    "np.array_equal(bind(bind(x, y), y),\n",
    "               x)"
   ]
  },
  {
   "cell_type": "code",
   "execution_count": 248,
   "metadata": {},
   "outputs": [
    {
     "data": {
      "text/plain": [
       "True"
      ]
     },
     "execution_count": 248,
     "metadata": {},
     "output_type": "execute_result"
    }
   ],
   "source": [
    "np.array_equal(bind(bind(x, y), x), y)"
   ]
  },
  {
   "cell_type": "markdown",
   "metadata": {},
   "source": [
    "## Shifting"
   ]
  },
  {
   "cell_type": "code",
   "execution_count": 249,
   "metadata": {},
   "outputs": [
    {
     "data": {
      "text/plain": [
       "array([3, 1, 2])"
      ]
     },
     "execution_count": 249,
     "metadata": {},
     "output_type": "execute_result"
    }
   ],
   "source": [
    "def shift(x, k=1):\n",
    "    return np.roll(x, k)\n",
    "\n",
    "# example\n",
    "shift([1, 2, 3])"
   ]
  },
  {
   "cell_type": "markdown",
   "metadata": {},
   "source": [
    "## Similarity between HDVs"
   ]
  },
  {
   "cell_type": "code",
   "execution_count": 250,
   "metadata": {},
   "outputs": [
    {
     "data": {
      "text/plain": [
       "np.float64(0.9746318461970762)"
      ]
     },
     "execution_count": 250,
     "metadata": {},
     "output_type": "execute_result"
    }
   ],
   "source": [
    "def cos_similarity(x, y):\n",
    "    return np.dot(x, y) / (np.linalg.norm(x) * np.linalg.norm(y))\n",
    "\n",
    "# example\n",
    "cos_similarity([1, 2, 3],\n",
    "               [4, 5, 6])"
   ]
  },
  {
   "cell_type": "code",
   "execution_count": 251,
   "metadata": {},
   "outputs": [
    {
     "data": {
      "text/plain": [
       "np.float64(0.0136)"
      ]
     },
     "execution_count": 251,
     "metadata": {},
     "output_type": "execute_result"
    }
   ],
   "source": [
    "cos_similarity(x, y)"
   ]
  },
  {
   "cell_type": "markdown",
   "metadata": {},
   "source": [
    "## Properties of the operations"
   ]
  },
  {
   "cell_type": "code",
   "execution_count": 252,
   "metadata": {},
   "outputs": [],
   "source": [
    "z = hdv()"
   ]
  },
  {
   "cell_type": "code",
   "execution_count": 253,
   "metadata": {},
   "outputs": [
    {
     "data": {
      "text/plain": [
       "True"
      ]
     },
     "execution_count": 253,
     "metadata": {},
     "output_type": "execute_result"
    }
   ],
   "source": [
    "np.array_equal(bind(x, bundle(y, z)),\n",
    "               bundle(bind(x, y), bind(x, z)))"
   ]
  },
  {
   "cell_type": "code",
   "execution_count": 254,
   "metadata": {},
   "outputs": [
    {
     "data": {
      "text/plain": [
       "True"
      ]
     },
     "execution_count": 254,
     "metadata": {},
     "output_type": "execute_result"
    }
   ],
   "source": [
    "np.array_equal(cos_similarity(x,y),\n",
    "               cos_similarity(bind(x, z), bind(y, z)))"
   ]
  },
  {
   "cell_type": "markdown",
   "metadata": {},
   "source": [
    "# Examples"
   ]
  },
  {
   "cell_type": "markdown",
   "metadata": {},
   "source": [
    "## Example 1: color matching"
   ]
  },
  {
   "cell_type": "markdown",
   "metadata": {},
   "source": [
    "#### Variables required by the example"
   ]
  },
  {
   "cell_type": "code",
   "execution_count": 255,
   "metadata": {},
   "outputs": [],
   "source": [
    "from matplotlib.colors import XKCD_COLORS\n",
    "\n",
    "def filter_colors(stem):\n",
    "    retval = [tuple(int(XKCD_COLORS[name][i:i+2], 16) / 255 for i in (1, 3, 5))\n",
    "        for name in XKCD_COLORS if stem in name]\n",
    "    return retval\n",
    "\n",
    "reds = filter_colors('red')\n",
    "blues = filter_colors('blue')\n",
    "greens = filter_colors('green')\n",
    "oranges = filter_colors('orange')\n",
    "greys = filter_colors('grey')\n",
    "yellows = filter_colors('yellow')\n",
    "whites = filter_colors('white')\n",
    "\n",
    "emojis_colors = {\n",
    "    '🚒': reds,\n",
    "    '💦': blues,\n",
    "    '🌱': greens,\n",
    "    '🌅': oranges,\n",
    "    '🐺': greys,\n",
    "    '🍌': yellows,\n",
    "    '🥚': whites\n",
    "}\n",
    "\n",
    "emojis = list(emojis_colors.keys())\n",
    "\n",
    "toy_data1 = [(emoji := random.choice(emojis), random.choice(emojis_colors[emoji]))\n",
    "             for _ in range(100)]"
   ]
  },
  {
   "cell_type": "code",
   "execution_count": 256,
   "metadata": {},
   "outputs": [
    {
     "data": {
      "image/png": "[encoded data removed]",
      "text/plain": [
       "<Figure size 100x100 with 1 Axes>"
      ]
     },
     "metadata": {},
     "output_type": "display_data"
    }
   ],
   "source": [
    "def randcol():\n",
    "    return np.random.rand(3)\n",
    "\n",
    "def show_color(color):\n",
    "    plt.figure(figsize=(1,1))\n",
    "    plt.imshow([[color]])\n",
    "    plt.axis('off')\n",
    "    plt.show()\n",
    "\n",
    "acolor = randcol()\n",
    "show_color(acolor)"
   ]
  },
  {
   "cell_type": "code",
   "execution_count": 257,
   "metadata": {},
   "outputs": [],
   "source": [
    "emojis_hdvs = {emoji: hdv() for emoji in emojis}"
   ]
  },
  {
   "cell_type": "code",
   "execution_count": 258,
   "metadata": {},
   "outputs": [],
   "source": [
    "def range_hdvs(steps):\n",
    "    k = len(steps) - 1\n",
    "\n",
    "    V = hdv_m(k + 1)  # V size is (k+1)xN\n",
    "\n",
    "    for i in range(1, k + 1):  # for each other row/step\n",
    "        for j in range(N):     # for each column\n",
    "            V[i, j] = -V[i-1, j] if random.random() < (1 / k) else V[i-1, j]\n",
    "\n",
    "    return V\n"
   ]
  },
  {
   "cell_type": "code",
   "execution_count": 259,
   "metadata": {},
   "outputs": [],
   "source": [
    "color_steps = np.arange(0, 1.05, 0.05)"
   ]
  },
  {
   "cell_type": "code",
   "execution_count": 260,
   "metadata": {},
   "outputs": [],
   "source": [
    "reds_hdv = range_hdvs(color_steps)"
   ]
  },
  {
   "cell_type": "code",
   "execution_count": 261,
   "metadata": {},
   "outputs": [
    {
     "data": {
      "text/html": [
       "<div>\n",
       "<style scoped>\n",
       "    .dataframe tbody tr th:only-of-type {\n",
       "        vertical-align: middle;\n",
       "    }\n",
       "\n",
       "    .dataframe tbody tr th {\n",
       "        vertical-align: top;\n",
       "    }\n",
       "\n",
       "    .dataframe thead th {\n",
       "        text-align: right;\n",
       "    }\n",
       "</style>\n",
       "<table border=\"1\" class=\"dataframe\">\n",
       "  <thead>\n",
       "    <tr style=\"text-align: right;\">\n",
       "      <th></th>\n",
       "      <th>V0</th>\n",
       "      <th>V1</th>\n",
       "      <th>V2</th>\n",
       "      <th>V3</th>\n",
       "      <th>V4</th>\n",
       "      <th>V5</th>\n",
       "      <th>V6</th>\n",
       "      <th>V7</th>\n",
       "      <th>V8</th>\n",
       "      <th>V9</th>\n",
       "      <th>...</th>\n",
       "      <th>V11</th>\n",
       "      <th>V12</th>\n",
       "      <th>V13</th>\n",
       "      <th>V14</th>\n",
       "      <th>V15</th>\n",
       "      <th>V16</th>\n",
       "      <th>V17</th>\n",
       "      <th>V18</th>\n",
       "      <th>V19</th>\n",
       "      <th>V20</th>\n",
       "    </tr>\n",
       "  </thead>\n",
       "  <tbody>\n",
       "    <tr>\n",
       "      <th>V0</th>\n",
       "      <td>0.1172</td>\n",
       "      <td>0.1340</td>\n",
       "      <td>0.1446</td>\n",
       "      <td>0.1692</td>\n",
       "      <td>0.1796</td>\n",
       "      <td>0.1988</td>\n",
       "      <td>0.2188</td>\n",
       "      <td>0.2514</td>\n",
       "      <td>0.2798</td>\n",
       "      <td>0.3092</td>\n",
       "      <td>...</td>\n",
       "      <td>0.3856</td>\n",
       "      <td>0.4300</td>\n",
       "      <td>0.4772</td>\n",
       "      <td>0.5302</td>\n",
       "      <td>0.5958</td>\n",
       "      <td>0.6642</td>\n",
       "      <td>0.7432</td>\n",
       "      <td>0.8184</td>\n",
       "      <td>0.8992</td>\n",
       "      <td>1.0000</td>\n",
       "    </tr>\n",
       "    <tr>\n",
       "      <th>V1</th>\n",
       "      <td>0.1416</td>\n",
       "      <td>0.1608</td>\n",
       "      <td>0.1718</td>\n",
       "      <td>0.1968</td>\n",
       "      <td>0.2096</td>\n",
       "      <td>0.2324</td>\n",
       "      <td>0.2552</td>\n",
       "      <td>0.2898</td>\n",
       "      <td>0.3206</td>\n",
       "      <td>0.3504</td>\n",
       "      <td>...</td>\n",
       "      <td>0.4348</td>\n",
       "      <td>0.4796</td>\n",
       "      <td>0.5308</td>\n",
       "      <td>0.5874</td>\n",
       "      <td>0.6618</td>\n",
       "      <td>0.7366</td>\n",
       "      <td>0.8248</td>\n",
       "      <td>0.9092</td>\n",
       "      <td>1.0000</td>\n",
       "      <td>0.8992</td>\n",
       "    </tr>\n",
       "    <tr>\n",
       "      <th>V2</th>\n",
       "      <td>0.1572</td>\n",
       "      <td>0.1760</td>\n",
       "      <td>0.1890</td>\n",
       "      <td>0.2144</td>\n",
       "      <td>0.2332</td>\n",
       "      <td>0.2588</td>\n",
       "      <td>0.2824</td>\n",
       "      <td>0.3234</td>\n",
       "      <td>0.3570</td>\n",
       "      <td>0.3964</td>\n",
       "      <td>...</td>\n",
       "      <td>0.4832</td>\n",
       "      <td>0.5312</td>\n",
       "      <td>0.5876</td>\n",
       "      <td>0.6522</td>\n",
       "      <td>0.7294</td>\n",
       "      <td>0.8098</td>\n",
       "      <td>0.9064</td>\n",
       "      <td>1.0000</td>\n",
       "      <td>0.9092</td>\n",
       "      <td>0.8184</td>\n",
       "    </tr>\n",
       "    <tr>\n",
       "      <th>V3</th>\n",
       "      <td>0.1764</td>\n",
       "      <td>0.1976</td>\n",
       "      <td>0.2122</td>\n",
       "      <td>0.2388</td>\n",
       "      <td>0.2588</td>\n",
       "      <td>0.2856</td>\n",
       "      <td>0.3148</td>\n",
       "      <td>0.3542</td>\n",
       "      <td>0.3934</td>\n",
       "      <td>0.4352</td>\n",
       "      <td>...</td>\n",
       "      <td>0.5320</td>\n",
       "      <td>0.5840</td>\n",
       "      <td>0.6428</td>\n",
       "      <td>0.7166</td>\n",
       "      <td>0.8018</td>\n",
       "      <td>0.8942</td>\n",
       "      <td>1.0000</td>\n",
       "      <td>0.9064</td>\n",
       "      <td>0.8248</td>\n",
       "      <td>0.7432</td>\n",
       "    </tr>\n",
       "    <tr>\n",
       "      <th>V4</th>\n",
       "      <td>0.1982</td>\n",
       "      <td>0.2190</td>\n",
       "      <td>0.2376</td>\n",
       "      <td>0.2658</td>\n",
       "      <td>0.2874</td>\n",
       "      <td>0.3186</td>\n",
       "      <td>0.3506</td>\n",
       "      <td>0.3936</td>\n",
       "      <td>0.4344</td>\n",
       "      <td>0.4810</td>\n",
       "      <td>...</td>\n",
       "      <td>0.5890</td>\n",
       "      <td>0.6446</td>\n",
       "      <td>0.7134</td>\n",
       "      <td>0.8000</td>\n",
       "      <td>0.8984</td>\n",
       "      <td>1.0000</td>\n",
       "      <td>0.8942</td>\n",
       "      <td>0.8098</td>\n",
       "      <td>0.7366</td>\n",
       "      <td>0.6642</td>\n",
       "    </tr>\n",
       "    <tr>\n",
       "      <th>V5</th>\n",
       "      <td>0.2178</td>\n",
       "      <td>0.2402</td>\n",
       "      <td>0.2616</td>\n",
       "      <td>0.2914</td>\n",
       "      <td>0.3166</td>\n",
       "      <td>0.3538</td>\n",
       "      <td>0.3922</td>\n",
       "      <td>0.4424</td>\n",
       "      <td>0.4896</td>\n",
       "      <td>0.5406</td>\n",
       "      <td>...</td>\n",
       "      <td>0.6554</td>\n",
       "      <td>0.7190</td>\n",
       "      <td>0.7978</td>\n",
       "      <td>0.8916</td>\n",
       "      <td>1.0000</td>\n",
       "      <td>0.8984</td>\n",
       "      <td>0.8018</td>\n",
       "      <td>0.7294</td>\n",
       "      <td>0.6618</td>\n",
       "      <td>0.5958</td>\n",
       "    </tr>\n",
       "    <tr>\n",
       "      <th>V6</th>\n",
       "      <td>0.2374</td>\n",
       "      <td>0.2638</td>\n",
       "      <td>0.2892</td>\n",
       "      <td>0.3226</td>\n",
       "      <td>0.3534</td>\n",
       "      <td>0.3934</td>\n",
       "      <td>0.4354</td>\n",
       "      <td>0.4860</td>\n",
       "      <td>0.5384</td>\n",
       "      <td>0.5970</td>\n",
       "      <td>...</td>\n",
       "      <td>0.7294</td>\n",
       "      <td>0.8054</td>\n",
       "      <td>0.8966</td>\n",
       "      <td>1.0000</td>\n",
       "      <td>0.8916</td>\n",
       "      <td>0.8000</td>\n",
       "      <td>0.7166</td>\n",
       "      <td>0.6522</td>\n",
       "      <td>0.5874</td>\n",
       "      <td>0.5302</td>\n",
       "    </tr>\n",
       "    <tr>\n",
       "      <th>V7</th>\n",
       "      <td>0.2640</td>\n",
       "      <td>0.2960</td>\n",
       "      <td>0.3246</td>\n",
       "      <td>0.3628</td>\n",
       "      <td>0.3960</td>\n",
       "      <td>0.4400</td>\n",
       "      <td>0.4916</td>\n",
       "      <td>0.5442</td>\n",
       "      <td>0.6026</td>\n",
       "      <td>0.6676</td>\n",
       "      <td>...</td>\n",
       "      <td>0.8156</td>\n",
       "      <td>0.9004</td>\n",
       "      <td>1.0000</td>\n",
       "      <td>0.8966</td>\n",
       "      <td>0.7978</td>\n",
       "      <td>0.7134</td>\n",
       "      <td>0.6428</td>\n",
       "      <td>0.5876</td>\n",
       "      <td>0.5308</td>\n",
       "      <td>0.4772</td>\n",
       "    </tr>\n",
       "    <tr>\n",
       "      <th>V8</th>\n",
       "      <td>0.2900</td>\n",
       "      <td>0.3248</td>\n",
       "      <td>0.3586</td>\n",
       "      <td>0.4000</td>\n",
       "      <td>0.4376</td>\n",
       "      <td>0.4860</td>\n",
       "      <td>0.5404</td>\n",
       "      <td>0.5994</td>\n",
       "      <td>0.6610</td>\n",
       "      <td>0.7372</td>\n",
       "      <td>...</td>\n",
       "      <td>0.9028</td>\n",
       "      <td>1.0000</td>\n",
       "      <td>0.9004</td>\n",
       "      <td>0.8054</td>\n",
       "      <td>0.7190</td>\n",
       "      <td>0.6446</td>\n",
       "      <td>0.5840</td>\n",
       "      <td>0.5312</td>\n",
       "      <td>0.4796</td>\n",
       "      <td>0.4300</td>\n",
       "    </tr>\n",
       "    <tr>\n",
       "      <th>V9</th>\n",
       "      <td>0.3140</td>\n",
       "      <td>0.3532</td>\n",
       "      <td>0.3914</td>\n",
       "      <td>0.4376</td>\n",
       "      <td>0.4840</td>\n",
       "      <td>0.5376</td>\n",
       "      <td>0.5956</td>\n",
       "      <td>0.6602</td>\n",
       "      <td>0.7322</td>\n",
       "      <td>0.8136</td>\n",
       "      <td>...</td>\n",
       "      <td>1.0000</td>\n",
       "      <td>0.9028</td>\n",
       "      <td>0.8156</td>\n",
       "      <td>0.7294</td>\n",
       "      <td>0.6554</td>\n",
       "      <td>0.5890</td>\n",
       "      <td>0.5320</td>\n",
       "      <td>0.4832</td>\n",
       "      <td>0.4348</td>\n",
       "      <td>0.3856</td>\n",
       "    </tr>\n",
       "    <tr>\n",
       "      <th>V10</th>\n",
       "      <td>0.3434</td>\n",
       "      <td>0.3858</td>\n",
       "      <td>0.4268</td>\n",
       "      <td>0.4778</td>\n",
       "      <td>0.5326</td>\n",
       "      <td>0.5942</td>\n",
       "      <td>0.6614</td>\n",
       "      <td>0.7356</td>\n",
       "      <td>0.8192</td>\n",
       "      <td>0.9074</td>\n",
       "      <td>...</td>\n",
       "      <td>0.8946</td>\n",
       "      <td>0.8074</td>\n",
       "      <td>0.7278</td>\n",
       "      <td>0.6488</td>\n",
       "      <td>0.5840</td>\n",
       "      <td>0.5212</td>\n",
       "      <td>0.4710</td>\n",
       "      <td>0.4302</td>\n",
       "      <td>0.3826</td>\n",
       "      <td>0.3398</td>\n",
       "    </tr>\n",
       "    <tr>\n",
       "      <th>V11</th>\n",
       "      <td>0.3812</td>\n",
       "      <td>0.4252</td>\n",
       "      <td>0.4722</td>\n",
       "      <td>0.5264</td>\n",
       "      <td>0.5856</td>\n",
       "      <td>0.6528</td>\n",
       "      <td>0.7284</td>\n",
       "      <td>0.8106</td>\n",
       "      <td>0.9018</td>\n",
       "      <td>1.0000</td>\n",
       "      <td>...</td>\n",
       "      <td>0.8136</td>\n",
       "      <td>0.7372</td>\n",
       "      <td>0.6676</td>\n",
       "      <td>0.5970</td>\n",
       "      <td>0.5406</td>\n",
       "      <td>0.4810</td>\n",
       "      <td>0.4352</td>\n",
       "      <td>0.3964</td>\n",
       "      <td>0.3504</td>\n",
       "      <td>0.3092</td>\n",
       "    </tr>\n",
       "    <tr>\n",
       "      <th>V12</th>\n",
       "      <td>0.4234</td>\n",
       "      <td>0.4706</td>\n",
       "      <td>0.5236</td>\n",
       "      <td>0.5854</td>\n",
       "      <td>0.6534</td>\n",
       "      <td>0.7246</td>\n",
       "      <td>0.8082</td>\n",
       "      <td>0.8980</td>\n",
       "      <td>1.0000</td>\n",
       "      <td>0.9018</td>\n",
       "      <td>...</td>\n",
       "      <td>0.7322</td>\n",
       "      <td>0.6610</td>\n",
       "      <td>0.6026</td>\n",
       "      <td>0.5384</td>\n",
       "      <td>0.4896</td>\n",
       "      <td>0.4344</td>\n",
       "      <td>0.3934</td>\n",
       "      <td>0.3570</td>\n",
       "      <td>0.3206</td>\n",
       "      <td>0.2798</td>\n",
       "    </tr>\n",
       "    <tr>\n",
       "      <th>V13</th>\n",
       "      <td>0.4658</td>\n",
       "      <td>0.5198</td>\n",
       "      <td>0.5816</td>\n",
       "      <td>0.6510</td>\n",
       "      <td>0.7282</td>\n",
       "      <td>0.8078</td>\n",
       "      <td>0.9014</td>\n",
       "      <td>1.0000</td>\n",
       "      <td>0.8980</td>\n",
       "      <td>0.8106</td>\n",
       "      <td>...</td>\n",
       "      <td>0.6602</td>\n",
       "      <td>0.5994</td>\n",
       "      <td>0.5442</td>\n",
       "      <td>0.4860</td>\n",
       "      <td>0.4424</td>\n",
       "      <td>0.3936</td>\n",
       "      <td>0.3542</td>\n",
       "      <td>0.3234</td>\n",
       "      <td>0.2898</td>\n",
       "      <td>0.2514</td>\n",
       "    </tr>\n",
       "    <tr>\n",
       "      <th>V14</th>\n",
       "      <td>0.5200</td>\n",
       "      <td>0.5800</td>\n",
       "      <td>0.6506</td>\n",
       "      <td>0.7264</td>\n",
       "      <td>0.8108</td>\n",
       "      <td>0.8972</td>\n",
       "      <td>1.0000</td>\n",
       "      <td>0.9014</td>\n",
       "      <td>0.8082</td>\n",
       "      <td>0.7284</td>\n",
       "      <td>...</td>\n",
       "      <td>0.5956</td>\n",
       "      <td>0.5404</td>\n",
       "      <td>0.4916</td>\n",
       "      <td>0.4354</td>\n",
       "      <td>0.3922</td>\n",
       "      <td>0.3506</td>\n",
       "      <td>0.3148</td>\n",
       "      <td>0.2824</td>\n",
       "      <td>0.2552</td>\n",
       "      <td>0.2188</td>\n",
       "    </tr>\n",
       "    <tr>\n",
       "      <th>V15</th>\n",
       "      <td>0.5788</td>\n",
       "      <td>0.6468</td>\n",
       "      <td>0.7254</td>\n",
       "      <td>0.8068</td>\n",
       "      <td>0.9044</td>\n",
       "      <td>1.0000</td>\n",
       "      <td>0.8972</td>\n",
       "      <td>0.8078</td>\n",
       "      <td>0.7246</td>\n",
       "      <td>0.6528</td>\n",
       "      <td>...</td>\n",
       "      <td>0.5376</td>\n",
       "      <td>0.4860</td>\n",
       "      <td>0.4400</td>\n",
       "      <td>0.3934</td>\n",
       "      <td>0.3538</td>\n",
       "      <td>0.3186</td>\n",
       "      <td>0.2856</td>\n",
       "      <td>0.2588</td>\n",
       "      <td>0.2324</td>\n",
       "      <td>0.1988</td>\n",
       "    </tr>\n",
       "    <tr>\n",
       "      <th>V16</th>\n",
       "      <td>0.6468</td>\n",
       "      <td>0.7188</td>\n",
       "      <td>0.8030</td>\n",
       "      <td>0.8912</td>\n",
       "      <td>1.0000</td>\n",
       "      <td>0.9044</td>\n",
       "      <td>0.8108</td>\n",
       "      <td>0.7282</td>\n",
       "      <td>0.6534</td>\n",
       "      <td>0.5856</td>\n",
       "      <td>...</td>\n",
       "      <td>0.4840</td>\n",
       "      <td>0.4376</td>\n",
       "      <td>0.3960</td>\n",
       "      <td>0.3534</td>\n",
       "      <td>0.3166</td>\n",
       "      <td>0.2874</td>\n",
       "      <td>0.2588</td>\n",
       "      <td>0.2332</td>\n",
       "      <td>0.2096</td>\n",
       "      <td>0.1796</td>\n",
       "    </tr>\n",
       "    <tr>\n",
       "      <th>V17</th>\n",
       "      <td>0.7280</td>\n",
       "      <td>0.8084</td>\n",
       "      <td>0.8994</td>\n",
       "      <td>1.0000</td>\n",
       "      <td>0.8912</td>\n",
       "      <td>0.8068</td>\n",
       "      <td>0.7264</td>\n",
       "      <td>0.6510</td>\n",
       "      <td>0.5854</td>\n",
       "      <td>0.5264</td>\n",
       "      <td>...</td>\n",
       "      <td>0.4376</td>\n",
       "      <td>0.4000</td>\n",
       "      <td>0.3628</td>\n",
       "      <td>0.3226</td>\n",
       "      <td>0.2914</td>\n",
       "      <td>0.2658</td>\n",
       "      <td>0.2388</td>\n",
       "      <td>0.2144</td>\n",
       "      <td>0.1968</td>\n",
       "      <td>0.1692</td>\n",
       "    </tr>\n",
       "    <tr>\n",
       "      <th>V18</th>\n",
       "      <td>0.8082</td>\n",
       "      <td>0.8974</td>\n",
       "      <td>1.0000</td>\n",
       "      <td>0.8994</td>\n",
       "      <td>0.8030</td>\n",
       "      <td>0.7254</td>\n",
       "      <td>0.6506</td>\n",
       "      <td>0.5816</td>\n",
       "      <td>0.5236</td>\n",
       "      <td>0.4722</td>\n",
       "      <td>...</td>\n",
       "      <td>0.3914</td>\n",
       "      <td>0.3586</td>\n",
       "      <td>0.3246</td>\n",
       "      <td>0.2892</td>\n",
       "      <td>0.2616</td>\n",
       "      <td>0.2376</td>\n",
       "      <td>0.2122</td>\n",
       "      <td>0.1890</td>\n",
       "      <td>0.1718</td>\n",
       "      <td>0.1446</td>\n",
       "    </tr>\n",
       "    <tr>\n",
       "      <th>V19</th>\n",
       "      <td>0.8988</td>\n",
       "      <td>1.0000</td>\n",
       "      <td>0.8974</td>\n",
       "      <td>0.8084</td>\n",
       "      <td>0.7188</td>\n",
       "      <td>0.6468</td>\n",
       "      <td>0.5800</td>\n",
       "      <td>0.5198</td>\n",
       "      <td>0.4706</td>\n",
       "      <td>0.4252</td>\n",
       "      <td>...</td>\n",
       "      <td>0.3532</td>\n",
       "      <td>0.3248</td>\n",
       "      <td>0.2960</td>\n",
       "      <td>0.2638</td>\n",
       "      <td>0.2402</td>\n",
       "      <td>0.2190</td>\n",
       "      <td>0.1976</td>\n",
       "      <td>0.1760</td>\n",
       "      <td>0.1608</td>\n",
       "      <td>0.1340</td>\n",
       "    </tr>\n",
       "    <tr>\n",
       "      <th>V20</th>\n",
       "      <td>1.0000</td>\n",
       "      <td>0.8988</td>\n",
       "      <td>0.8082</td>\n",
       "      <td>0.7280</td>\n",
       "      <td>0.6468</td>\n",
       "      <td>0.5788</td>\n",
       "      <td>0.5200</td>\n",
       "      <td>0.4658</td>\n",
       "      <td>0.4234</td>\n",
       "      <td>0.3812</td>\n",
       "      <td>...</td>\n",
       "      <td>0.3140</td>\n",
       "      <td>0.2900</td>\n",
       "      <td>0.2640</td>\n",
       "      <td>0.2374</td>\n",
       "      <td>0.2178</td>\n",
       "      <td>0.1982</td>\n",
       "      <td>0.1764</td>\n",
       "      <td>0.1572</td>\n",
       "      <td>0.1416</td>\n",
       "      <td>0.1172</td>\n",
       "    </tr>\n",
       "  </tbody>\n",
       "</table>\n",
       "<p>21 rows × 21 columns</p>\n",
       "</div>"
      ],
      "text/plain": [
       "         V0      V1      V2      V3      V4      V5      V6      V7      V8  \\\n",
       "V0   0.1172  0.1340  0.1446  0.1692  0.1796  0.1988  0.2188  0.2514  0.2798   \n",
       "V1   0.1416  0.1608  0.1718  0.1968  0.2096  0.2324  0.2552  0.2898  0.3206   \n",
       "V2   0.1572  0.1760  0.1890  0.2144  0.2332  0.2588  0.2824  0.3234  0.3570   \n",
       "V3   0.1764  0.1976  0.2122  0.2388  0.2588  0.2856  0.3148  0.3542  0.3934   \n",
       "V4   0.1982  0.2190  0.2376  0.2658  0.2874  0.3186  0.3506  0.3936  0.4344   \n",
       "V5   0.2178  0.2402  0.2616  0.2914  0.3166  0.3538  0.3922  0.4424  0.4896   \n",
       "V6   0.2374  0.2638  0.2892  0.3226  0.3534  0.3934  0.4354  0.4860  0.5384   \n",
       "V7   0.2640  0.2960  0.3246  0.3628  0.3960  0.4400  0.4916  0.5442  0.6026   \n",
       "V8   0.2900  0.3248  0.3586  0.4000  0.4376  0.4860  0.5404  0.5994  0.6610   \n",
       "V9   0.3140  0.3532  0.3914  0.4376  0.4840  0.5376  0.5956  0.6602  0.7322   \n",
       "V10  0.3434  0.3858  0.4268  0.4778  0.5326  0.5942  0.6614  0.7356  0.8192   \n",
       "V11  0.3812  0.4252  0.4722  0.5264  0.5856  0.6528  0.7284  0.8106  0.9018   \n",
       "V12  0.4234  0.4706  0.5236  0.5854  0.6534  0.7246  0.8082  0.8980  1.0000   \n",
       "V13  0.4658  0.5198  0.5816  0.6510  0.7282  0.8078  0.9014  1.0000  0.8980   \n",
       "V14  0.5200  0.5800  0.6506  0.7264  0.8108  0.8972  1.0000  0.9014  0.8082   \n",
       "V15  0.5788  0.6468  0.7254  0.8068  0.9044  1.0000  0.8972  0.8078  0.7246   \n",
       "V16  0.6468  0.7188  0.8030  0.8912  1.0000  0.9044  0.8108  0.7282  0.6534   \n",
       "V17  0.7280  0.8084  0.8994  1.0000  0.8912  0.8068  0.7264  0.6510  0.5854   \n",
       "V18  0.8082  0.8974  1.0000  0.8994  0.8030  0.7254  0.6506  0.5816  0.5236   \n",
       "V19  0.8988  1.0000  0.8974  0.8084  0.7188  0.6468  0.5800  0.5198  0.4706   \n",
       "V20  1.0000  0.8988  0.8082  0.7280  0.6468  0.5788  0.5200  0.4658  0.4234   \n",
       "\n",
       "         V9  ...     V11     V12     V13     V14     V15     V16     V17  \\\n",
       "V0   0.3092  ...  0.3856  0.4300  0.4772  0.5302  0.5958  0.6642  0.7432   \n",
       "V1   0.3504  ...  0.4348  0.4796  0.5308  0.5874  0.6618  0.7366  0.8248   \n",
       "V2   0.3964  ...  0.4832  0.5312  0.5876  0.6522  0.7294  0.8098  0.9064   \n",
       "V3   0.4352  ...  0.5320  0.5840  0.6428  0.7166  0.8018  0.8942  1.0000   \n",
       "V4   0.4810  ...  0.5890  0.6446  0.7134  0.8000  0.8984  1.0000  0.8942   \n",
       "V5   0.5406  ...  0.6554  0.7190  0.7978  0.8916  1.0000  0.8984  0.8018   \n",
       "V6   0.5970  ...  0.7294  0.8054  0.8966  1.0000  0.8916  0.8000  0.7166   \n",
       "V7   0.6676  ...  0.8156  0.9004  1.0000  0.8966  0.7978  0.7134  0.6428   \n",
       "V8   0.7372  ...  0.9028  1.0000  0.9004  0.8054  0.7190  0.6446  0.5840   \n",
       "V9   0.8136  ...  1.0000  0.9028  0.8156  0.7294  0.6554  0.5890  0.5320   \n",
       "V10  0.9074  ...  0.8946  0.8074  0.7278  0.6488  0.5840  0.5212  0.4710   \n",
       "V11  1.0000  ...  0.8136  0.7372  0.6676  0.5970  0.5406  0.4810  0.4352   \n",
       "V12  0.9018  ...  0.7322  0.6610  0.6026  0.5384  0.4896  0.4344  0.3934   \n",
       "V13  0.8106  ...  0.6602  0.5994  0.5442  0.4860  0.4424  0.3936  0.3542   \n",
       "V14  0.7284  ...  0.5956  0.5404  0.4916  0.4354  0.3922  0.3506  0.3148   \n",
       "V15  0.6528  ...  0.5376  0.4860  0.4400  0.3934  0.3538  0.3186  0.2856   \n",
       "V16  0.5856  ...  0.4840  0.4376  0.3960  0.3534  0.3166  0.2874  0.2588   \n",
       "V17  0.5264  ...  0.4376  0.4000  0.3628  0.3226  0.2914  0.2658  0.2388   \n",
       "V18  0.4722  ...  0.3914  0.3586  0.3246  0.2892  0.2616  0.2376  0.2122   \n",
       "V19  0.4252  ...  0.3532  0.3248  0.2960  0.2638  0.2402  0.2190  0.1976   \n",
       "V20  0.3812  ...  0.3140  0.2900  0.2640  0.2374  0.2178  0.1982  0.1764   \n",
       "\n",
       "        V18     V19     V20  \n",
       "V0   0.8184  0.8992  1.0000  \n",
       "V1   0.9092  1.0000  0.8992  \n",
       "V2   1.0000  0.9092  0.8184  \n",
       "V3   0.9064  0.8248  0.7432  \n",
       "V4   0.8098  0.7366  0.6642  \n",
       "V5   0.7294  0.6618  0.5958  \n",
       "V6   0.6522  0.5874  0.5302  \n",
       "V7   0.5876  0.5308  0.4772  \n",
       "V8   0.5312  0.4796  0.4300  \n",
       "V9   0.4832  0.4348  0.3856  \n",
       "V10  0.4302  0.3826  0.3398  \n",
       "V11  0.3964  0.3504  0.3092  \n",
       "V12  0.3570  0.3206  0.2798  \n",
       "V13  0.3234  0.2898  0.2514  \n",
       "V14  0.2824  0.2552  0.2188  \n",
       "V15  0.2588  0.2324  0.1988  \n",
       "V16  0.2332  0.2096  0.1796  \n",
       "V17  0.2144  0.1968  0.1692  \n",
       "V18  0.1890  0.1718  0.1446  \n",
       "V19  0.1760  0.1608  0.1340  \n",
       "V20  0.1572  0.1416  0.1172  \n",
       "\n",
       "[21 rows x 21 columns]"
      ]
     },
     "metadata": {},
     "output_type": "display_data"
    },
    {
     "data": {
      "image/png": "[encoded data removed]",
      "text/plain": [
       "<Figure size 800x600 with 2 Axes>"
      ]
     },
     "metadata": {},
     "output_type": "display_data"
    }
   ],
   "source": [
    "from sklearn.metrics.pairwise import cosine_similarity\n",
    "\n",
    "# Calcular la matriz de similaridad coseno\n",
    "cos_sim_matrix = cosine_similarity(reds_hdv)\n",
    "cos_sim_matrix = cos_sim_matrix[::-1, :]\n",
    "\n",
    "# Representar la matriz de similaridad como DataFrame para mejor visualización\n",
    "df_cos_sim = pd.DataFrame(cos_sim_matrix,\n",
    "                          index=[f\"V{i}\" for i in range(reds_hdv.shape[0])],\n",
    "                          columns=[f\"V{i}\" for i in range(reds_hdv.shape[0])])\n",
    "\n",
    "# Mostrar en formato tabla\n",
    "display(df_cos_sim)\n",
    "\n",
    "# Representar la matriz de similaridad coseno con un mapa de calor\n",
    "plt.figure(figsize=(8, 6))\n",
    "plt.imshow(cos_sim_matrix, cmap='magma', interpolation='nearest')\n",
    "plt.colorbar(label='Cosine Similarity')\n",
    "plt.title(\"Cosine Similarity Between Rows of V\")\n",
    "plt.xticks(ticks=np.arange(len(color_steps)),\n",
    "           labels=[f\"{val:.2f}\" for val in color_steps], rotation=90)\n",
    "plt.yticks(ticks=np.arange(len(color_steps)),\n",
    "           labels=[f\"{val:.2f}\" for val in color_steps[::-1]])\n",
    "\n",
    "plt.tight_layout()\n",
    "plt.show()\n"
   ]
  },
  {
   "cell_type": "code",
   "execution_count": 262,
   "metadata": {},
   "outputs": [],
   "source": [
    "greens_hdv = range_hdvs(color_steps)\n",
    "blues_hdv = range_hdvs(color_steps)"
   ]
  },
  {
   "cell_type": "code",
   "execution_count": 263,
   "metadata": {},
   "outputs": [],
   "source": [
    "def col_ind(component):\n",
    "    return round(component * 20)\n",
    "\n",
    "def encode_col(color):\n",
    "    return bind(reds_hdv[col_ind(color[0])],\n",
    "                greens_hdv[col_ind(color[1])],\n",
    "                blues_hdv[col_ind(color[2])])"
   ]
  },
  {
   "cell_type": "code",
   "execution_count": 264,
   "metadata": {},
   "outputs": [],
   "source": [
    "colhdv = encode_col(acolor)"
   ]
  },
  {
   "cell_type": "code",
   "execution_count": 265,
   "metadata": {},
   "outputs": [],
   "source": [
    "ref_colors = [{'color':c, 'hdv':encode_col(c)} for c in [randcol() for _ in range(1000)]]"
   ]
  },
  {
   "cell_type": "code",
   "execution_count": 266,
   "metadata": {},
   "outputs": [],
   "source": [
    "def decode_colors(v):\n",
    "    best_match = max(ref_colors, key=lambda item: cos_similarity(v, item[\"hdv\"]))\n",
    "    show_color(best_match[\"color\"])\n",
    "    return best_match[\"color\"]"
   ]
  },
  {
   "cell_type": "code",
   "execution_count": 267,
   "metadata": {},
   "outputs": [
    {
     "data": {
      "image/png": "[encoded data removed]",
      "text/plain": [
       "<Figure size 100x100 with 1 Axes>"
      ]
     },
     "metadata": {},
     "output_type": "display_data"
    },
    {
     "data": {
      "text/plain": [
       "array([0.66156676, 0.51738994, 0.33693807])"
      ]
     },
     "execution_count": 267,
     "metadata": {},
     "output_type": "execute_result"
    }
   ],
   "source": [
    "decode_colors(colhdv)"
   ]
  },
  {
   "cell_type": "code",
   "execution_count": 268,
   "metadata": {},
   "outputs": [
    {
     "data": {
      "image/png": "[encoded data removed]",
      "text/plain": [
       "<Figure size 100x100 with 1 Axes>"
      ]
     },
     "metadata": {},
     "output_type": "display_data"
    },
    {
     "data": {
      "text/plain": [
       "array([0.90150288, 0.13909705, 0.79531983])"
      ]
     },
     "execution_count": 268,
     "metadata": {},
     "output_type": "execute_result"
    }
   ],
   "source": [
    "decode_colors(hdv())"
   ]
  },
  {
   "cell_type": "code",
   "execution_count": 269,
   "metadata": {},
   "outputs": [],
   "source": [
    "def encode_emoji_col_pair(s, c):\n",
    "    return bind(emojis_hdvs[s], encode_col(c))"
   ]
  },
  {
   "cell_type": "code",
   "execution_count": 270,
   "metadata": {},
   "outputs": [],
   "source": [
    "col_emoji_hdvs = [encode_emoji_col_pair(s, c) for s, c in toy_data1]"
   ]
  },
  {
   "cell_type": "code",
   "execution_count": 271,
   "metadata": {},
   "outputs": [],
   "source": [
    "toy_data_emb = bundle(*col_emoji_hdvs)"
   ]
  },
  {
   "cell_type": "code",
   "execution_count": 272,
   "metadata": {},
   "outputs": [
    {
     "data": {
      "text/plain": [
       "array([-1,  1, -1, ..., -1,  1, -1], shape=(10000,))"
      ]
     },
     "execution_count": 272,
     "metadata": {},
     "output_type": "execute_result"
    }
   ],
   "source": [
    "bind(toy_data_emb, emojis_hdvs['🚒'])"
   ]
  },
  {
   "cell_type": "code",
   "execution_count": 273,
   "metadata": {},
   "outputs": [
    {
     "data": {
      "image/png": "[encoded data removed]",
      "text/plain": [
       "<Figure size 100x100 with 1 Axes>"
      ]
     },
     "metadata": {},
     "output_type": "display_data"
    },
    {
     "data": {
      "text/plain": [
       "array([0.95602139, 0.16172861, 0.19057603])"
      ]
     },
     "execution_count": 273,
     "metadata": {},
     "output_type": "execute_result"
    }
   ],
   "source": [
    "decode_colors(bind(toy_data_emb, emojis_hdvs['🚒']))"
   ]
  },
  {
   "cell_type": "code",
   "execution_count": 274,
   "metadata": {},
   "outputs": [
    {
     "data": {
      "image/png": "[encoded data removed]",
      "text/plain": [
       "<Figure size 100x100 with 1 Axes>"
      ]
     },
     "metadata": {},
     "output_type": "display_data"
    },
    {
     "data": {
      "text/plain": [
       "array([0.09685304, 0.43628688, 0.61083241])"
      ]
     },
     "execution_count": 274,
     "metadata": {},
     "output_type": "execute_result"
    }
   ],
   "source": [
    "decode_colors(bind(toy_data_emb, emojis_hdvs['💦']))"
   ]
  },
  {
   "cell_type": "code",
   "execution_count": 276,
   "metadata": {},
   "outputs": [
    {
     "data": {
      "image/png": "[encoded data removed]",
      "text/plain": [
       "<Figure size 100x100 with 1 Axes>"
      ]
     },
     "metadata": {},
     "output_type": "display_data"
    },
    {
     "data": {
      "text/plain": [
       "array([0.27798909, 0.70862511, 0.19606828])"
      ]
     },
     "execution_count": 276,
     "metadata": {},
     "output_type": "execute_result"
    }
   ],
   "source": [
    "decode_colors(bind(toy_data_emb, emojis_hdvs['🌱']))"
   ]
  },
  {
   "cell_type": "code",
   "execution_count": 277,
   "metadata": {},
   "outputs": [
    {
     "data": {
      "image/png": "[encoded data removed]",
      "text/plain": [
       "<Figure size 100x100 with 1 Axes>"
      ]
     },
     "metadata": {},
     "output_type": "display_data"
    },
    {
     "data": {
      "text/plain": [
       "array([0.81344365, 0.59418753, 0.06852356])"
      ]
     },
     "execution_count": 277,
     "metadata": {},
     "output_type": "execute_result"
    }
   ],
   "source": [
    "decode_colors(bind(toy_data_emb, emojis_hdvs['🍌']))"
   ]
  }
 ],
 "metadata": {
  "kernelspec": {
   "display_name": "python-hdc-tuto-tLCywu7v-py3.12",
   "language": "python",
   "name": "python3"
  },
  "language_info": {
   "codemirror_mode": {
    "name": "ipython",
    "version": 3
   },
   "file_extension": ".py",
   "mimetype": "text/x-python",
   "name": "python",
   "nbconvert_exporter": "python",
   "pygments_lexer": "ipython3",
   "version": "3.12.8"
  }
 },
 "nbformat": 4,
 "nbformat_minor": 2
}
