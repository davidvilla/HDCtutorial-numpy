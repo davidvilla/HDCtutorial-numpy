{
 "cells": [
  {
   "cell_type": "markdown",
   "metadata": {},
   "source": [
    "# Tutorial on Hyperdimensional Computing\n",
    "Translation to Python+numpy from https://michielstock.github.io/posts/2022/2022-10-04-HDVtutorial/"
   ]
  },
  {
   "cell_type": "code",
   "execution_count": 211,
   "metadata": {},
   "outputs": [],
   "source": [
    "import math\n",
    "import random\n",
    "import numpy as np\n",
    "from numpy.typing import NDArray\n",
    "import matplotlib.pyplot as plt\n",
    "import pandas as pd\n"
   ]
  },
  {
   "cell_type": "code",
   "execution_count": 212,
   "metadata": {},
   "outputs": [],
   "source": [
    "N = 10000\n",
    "\n",
    "def hdv() -> np.ndarray:\n",
    "    return np.random.choice([-1, 1], size=N)"
   ]
  },
  {
   "cell_type": "code",
   "execution_count": 213,
   "metadata": {},
   "outputs": [
    {
     "data": {
      "text/plain": [
       "array([ 1,  1, -1, ...,  1, -1,  1], shape=(10000,))"
      ]
     },
     "execution_count": 213,
     "metadata": {},
     "output_type": "execute_result"
    }
   ],
   "source": [
    "x = hdv()\n",
    "x"
   ]
  },
  {
   "cell_type": "code",
   "execution_count": 214,
   "metadata": {},
   "outputs": [
    {
     "data": {
      "text/plain": [
       "array([ 1, -1, -1, ...,  1,  1,  1], shape=(10000,))"
      ]
     },
     "execution_count": 214,
     "metadata": {},
     "output_type": "execute_result"
    }
   ],
   "source": [
    "y = hdv()\n",
    "y"
   ]
  },
  {
   "cell_type": "code",
   "execution_count": 215,
   "metadata": {},
   "outputs": [
    {
     "data": {
      "text/plain": [
       "np.int64(5018)"
      ]
     },
     "execution_count": 215,
     "metadata": {},
     "output_type": "execute_result"
    }
   ],
   "source": [
    "np.sum(x == y)"
   ]
  },
  {
   "cell_type": "code",
   "execution_count": 216,
   "metadata": {},
   "outputs": [],
   "source": [
    "def hdv_m(rows: int) -> NDArray:\n",
    "    return np.random.choice([-1, 1], size=(rows, N))"
   ]
  },
  {
   "cell_type": "code",
   "execution_count": 217,
   "metadata": {},
   "outputs": [
    {
     "data": {
      "text/plain": [
       "array([[-1,  1, -1, ...,  1,  1, -1],\n",
       "       [-1,  1,  1, ...,  1,  1,  1],\n",
       "       [-1, -1,  1, ...,  1,  1, -1],\n",
       "       ...,\n",
       "       [ 1,  1, -1, ..., -1, -1,  1],\n",
       "       [-1, -1, -1, ...,  1, -1,  1],\n",
       "       [-1,  1, -1, ..., -1,  1, -1]], shape=(10, 10000))"
      ]
     },
     "execution_count": 217,
     "metadata": {},
     "output_type": "execute_result"
    }
   ],
   "source": [
    "V = hdv_m(10)\n",
    "V"
   ]
  },
  {
   "cell_type": "markdown",
   "metadata": {},
   "source": [
    "## Bundling"
   ]
  },
  {
   "cell_type": "code",
   "execution_count": 218,
   "metadata": {},
   "outputs": [
    {
     "name": "stdout",
     "output_type": "stream",
     "text": [
      "[1 0]\n"
     ]
    }
   ],
   "source": [
    "def bundle_m(U: NDArray[int]) -> NDArray[int]:\n",
    "    if U.ndim != 2:\n",
    "        raise ValueError(\"U must be a 2d array.\")\n",
    "\n",
    "    return np.sign(np.sum(U, axis=0))\n",
    "\n",
    "# example\n",
    "U = np.array([[1, 2],\n",
    "              [-3, 4],\n",
    "              [50000, -6]])\n",
    "\n",
    "result = bundle_m(U)\n",
    "print(result)"
   ]
  },
  {
   "cell_type": "code",
   "execution_count": 219,
   "metadata": {},
   "outputs": [
    {
     "data": {
      "text/plain": [
       "array([-1,  1, -1, ..., -1,  1,  1], shape=(10000,))"
      ]
     },
     "execution_count": 219,
     "metadata": {},
     "output_type": "execute_result"
    }
   ],
   "source": [
    "bundle_m(V)"
   ]
  },
  {
   "cell_type": "code",
   "execution_count": 220,
   "metadata": {},
   "outputs": [
    {
     "name": "stdout",
     "output_type": "stream",
     "text": [
      "[1 0]\n"
     ]
    }
   ],
   "source": [
    "def bundle(*xs: NDArray[int]) -> NDArray[int]:\n",
    "    summed = np.add.reduce(xs)\n",
    "    return np.sign(summed)\n",
    "\n",
    "# example\n",
    "xs = bundle(np.array([1, 2]),\n",
    "            np.array([-3, 4]),\n",
    "            np.array([5, -6]))\n",
    "print(xs)"
   ]
  },
  {
   "cell_type": "code",
   "execution_count": 221,
   "metadata": {},
   "outputs": [
    {
     "data": {
      "text/plain": [
       "array([ 1,  0, -1, ...,  1,  0,  1], shape=(10000,))"
      ]
     },
     "execution_count": 221,
     "metadata": {},
     "output_type": "execute_result"
    }
   ],
   "source": [
    "bundle(x, y)"
   ]
  },
  {
   "cell_type": "markdown",
   "metadata": {},
   "source": [
    "## Binding"
   ]
  },
  {
   "cell_type": "code",
   "execution_count": 222,
   "metadata": {},
   "outputs": [
    {
     "data": {
      "text/plain": [
       "array([-15, -48])"
      ]
     },
     "execution_count": 222,
     "metadata": {},
     "output_type": "execute_result"
    }
   ],
   "source": [
    "def bind(*xs: NDArray[int]):\n",
    "    return np.multiply.reduce(xs)\n",
    "\n",
    "# example\n",
    "xs = bind(np.array([1, 2]), np.array([-3, 4]), np.array([5, -6]))\n",
    "bind(xs)"
   ]
  },
  {
   "cell_type": "code",
   "execution_count": 223,
   "metadata": {},
   "outputs": [
    {
     "data": {
      "text/plain": [
       "array([ 1, -1,  1, ...,  1, -1,  1], shape=(10000,))"
      ]
     },
     "execution_count": 223,
     "metadata": {},
     "output_type": "execute_result"
    }
   ],
   "source": [
    "bind(x, y)"
   ]
  },
  {
   "cell_type": "code",
   "execution_count": 224,
   "metadata": {},
   "outputs": [
    {
     "data": {
      "text/plain": [
       "True"
      ]
     },
     "execution_count": 224,
     "metadata": {},
     "output_type": "execute_result"
    }
   ],
   "source": [
    "np.array_equal(bind(bind(x, y), y),\n",
    "               x)"
   ]
  },
  {
   "cell_type": "code",
   "execution_count": 225,
   "metadata": {},
   "outputs": [
    {
     "data": {
      "text/plain": [
       "True"
      ]
     },
     "execution_count": 225,
     "metadata": {},
     "output_type": "execute_result"
    }
   ],
   "source": [
    "np.array_equal(bind(bind(x, y), x), y)"
   ]
  },
  {
   "cell_type": "markdown",
   "metadata": {},
   "source": [
    "## Shifting"
   ]
  },
  {
   "cell_type": "code",
   "execution_count": 226,
   "metadata": {},
   "outputs": [
    {
     "data": {
      "text/plain": [
       "array([3, 1, 2])"
      ]
     },
     "execution_count": 226,
     "metadata": {},
     "output_type": "execute_result"
    }
   ],
   "source": [
    "def shift(x, k=1):\n",
    "    return np.roll(x, k)\n",
    "\n",
    "# example\n",
    "shift([1, 2, 3])"
   ]
  },
  {
   "cell_type": "markdown",
   "metadata": {},
   "source": [
    "## Similarity between HDVs"
   ]
  },
  {
   "cell_type": "code",
   "execution_count": 227,
   "metadata": {},
   "outputs": [
    {
     "data": {
      "text/plain": [
       "np.float64(0.9746318461970762)"
      ]
     },
     "execution_count": 227,
     "metadata": {},
     "output_type": "execute_result"
    }
   ],
   "source": [
    "def cos_similarity(x, y):\n",
    "    return np.dot(x, y) / (np.linalg.norm(x) * np.linalg.norm(y))\n",
    "\n",
    "# example\n",
    "cos_similarity([1, 2, 3],\n",
    "               [4, 5, 6])"
   ]
  },
  {
   "cell_type": "code",
   "execution_count": 228,
   "metadata": {},
   "outputs": [
    {
     "data": {
      "text/plain": [
       "np.float64(0.0036)"
      ]
     },
     "execution_count": 228,
     "metadata": {},
     "output_type": "execute_result"
    }
   ],
   "source": [
    "cos_similarity(x, y)"
   ]
  },
  {
   "cell_type": "markdown",
   "metadata": {},
   "source": [
    "## Properties of the operations"
   ]
  },
  {
   "cell_type": "code",
   "execution_count": 229,
   "metadata": {},
   "outputs": [],
   "source": [
    "z = hdv()"
   ]
  },
  {
   "cell_type": "code",
   "execution_count": 230,
   "metadata": {},
   "outputs": [
    {
     "data": {
      "text/plain": [
       "True"
      ]
     },
     "execution_count": 230,
     "metadata": {},
     "output_type": "execute_result"
    }
   ],
   "source": [
    "np.array_equal(bind(x, bundle(y, z)),\n",
    "               bundle(bind(x, y), bind(x, z)))"
   ]
  },
  {
   "cell_type": "code",
   "execution_count": 231,
   "metadata": {},
   "outputs": [
    {
     "data": {
      "text/plain": [
       "True"
      ]
     },
     "execution_count": 231,
     "metadata": {},
     "output_type": "execute_result"
    }
   ],
   "source": [
    "np.array_equal(cos_similarity(x,y),\n",
    "               cos_similarity(bind(x, z), bind(y, z)))"
   ]
  },
  {
   "cell_type": "markdown",
   "metadata": {},
   "source": [
    "# Examples"
   ]
  },
  {
   "cell_type": "markdown",
   "metadata": {},
   "source": [
    "## Example 1: color matching"
   ]
  },
  {
   "cell_type": "markdown",
   "metadata": {},
   "source": [
    "### Data required by the example"
   ]
  },
  {
   "cell_type": "code",
   "execution_count": 232,
   "metadata": {},
   "outputs": [
    {
     "data": {
      "text/html": [
       "<svg  width=\"2750\" height=\"55\"><rect x=\"0\" y=\"0\" width=\"55\" height=\"55\" style=\"fill:#fff2eb;stroke-width:2;stroke:rgb(255,255,255)\"/><rect x=\"55\" y=\"0\" width=\"55\" height=\"55\" style=\"fill:#ffeee7;stroke-width:2;stroke:rgb(255,255,255)\"/><rect x=\"110\" y=\"0\" width=\"55\" height=\"55\" style=\"fill:#ffebe2;stroke-width:2;stroke:rgb(255,255,255)\"/><rect x=\"165\" y=\"0\" width=\"55\" height=\"55\" style=\"fill:#fee8dd;stroke-width:2;stroke:rgb(255,255,255)\"/><rect x=\"220\" y=\"0\" width=\"55\" height=\"55\" style=\"fill:#fee5d8;stroke-width:2;stroke:rgb(255,255,255)\"/><rect x=\"275\" y=\"0\" width=\"55\" height=\"55\" style=\"fill:#fee1d4;stroke-width:2;stroke:rgb(255,255,255)\"/><rect x=\"330\" y=\"0\" width=\"55\" height=\"55\" style=\"fill:#fedccd;stroke-width:2;stroke:rgb(255,255,255)\"/><rect x=\"385\" y=\"0\" width=\"55\" height=\"55\" style=\"fill:#fdd7c6;stroke-width:2;stroke:rgb(255,255,255)\"/><rect x=\"440\" y=\"0\" width=\"55\" height=\"55\" style=\"fill:#fdd1be;stroke-width:2;stroke:rgb(255,255,255)\"/><rect x=\"495\" y=\"0\" width=\"55\" height=\"55\" style=\"fill:#fdcbb6;stroke-width:2;stroke:rgb(255,255,255)\"/><rect x=\"550\" y=\"0\" width=\"55\" height=\"55\" style=\"fill:#fdc5ae;stroke-width:2;stroke:rgb(255,255,255)\"/><rect x=\"605\" y=\"0\" width=\"55\" height=\"55\" style=\"fill:#fcbfa7;stroke-width:2;stroke:rgb(255,255,255)\"/><rect x=\"660\" y=\"0\" width=\"55\" height=\"55\" style=\"fill:#fcb99f;stroke-width:2;stroke:rgb(255,255,255)\"/><rect x=\"715\" y=\"0\" width=\"55\" height=\"55\" style=\"fill:#fcb398;stroke-width:2;stroke:rgb(255,255,255)\"/><rect x=\"770\" y=\"0\" width=\"55\" height=\"55\" style=\"fill:#fcad90;stroke-width:2;stroke:rgb(255,255,255)\"/><rect x=\"825\" y=\"0\" width=\"55\" height=\"55\" style=\"fill:#fca689;stroke-width:2;stroke:rgb(255,255,255)\"/><rect x=\"880\" y=\"0\" width=\"55\" height=\"55\" style=\"fill:#fca082;stroke-width:2;stroke:rgb(255,255,255)\"/><rect x=\"935\" y=\"0\" width=\"55\" height=\"55\" style=\"fill:#fc997a;stroke-width:2;stroke:rgb(255,255,255)\"/><rect x=\"990\" y=\"0\" width=\"55\" height=\"55\" style=\"fill:#fc9373;stroke-width:2;stroke:rgb(255,255,255)\"/><rect x=\"1045\" y=\"0\" width=\"55\" height=\"55\" style=\"fill:#fc8d6d;stroke-width:2;stroke:rgb(255,255,255)\"/><rect x=\"1100\" y=\"0\" width=\"55\" height=\"55\" style=\"fill:#fc8666;stroke-width:2;stroke:rgb(255,255,255)\"/><rect x=\"1155\" y=\"0\" width=\"55\" height=\"55\" style=\"fill:#fc8060;stroke-width:2;stroke:rgb(255,255,255)\"/><rect x=\"1210\" y=\"0\" width=\"55\" height=\"55\" style=\"fill:#fb7a5a;stroke-width:2;stroke:rgb(255,255,255)\"/><rect x=\"1265\" y=\"0\" width=\"55\" height=\"55\" style=\"fill:#fb7353;stroke-width:2;stroke:rgb(255,255,255)\"/><rect x=\"1320\" y=\"0\" width=\"55\" height=\"55\" style=\"fill:#fb6d4d;stroke-width:2;stroke:rgb(255,255,255)\"/><rect x=\"1375\" y=\"0\" width=\"55\" height=\"55\" style=\"fill:#fa6648;stroke-width:2;stroke:rgb(255,255,255)\"/><rect x=\"1430\" y=\"0\" width=\"55\" height=\"55\" style=\"fill:#f85f43;stroke-width:2;stroke:rgb(255,255,255)\"/><rect x=\"1485\" y=\"0\" width=\"55\" height=\"55\" style=\"fill:#f6583e;stroke-width:2;stroke:rgb(255,255,255)\"/><rect x=\"1540\" y=\"0\" width=\"55\" height=\"55\" style=\"fill:#f4503a;stroke-width:2;stroke:rgb(255,255,255)\"/><rect x=\"1595\" y=\"0\" width=\"55\" height=\"55\" style=\"fill:#f34935;stroke-width:2;stroke:rgb(255,255,255)\"/><rect x=\"1650\" y=\"0\" width=\"55\" height=\"55\" style=\"fill:#f14130;stroke-width:2;stroke:rgb(255,255,255)\"/><rect x=\"1705\" y=\"0\" width=\"55\" height=\"55\" style=\"fill:#ee3a2c;stroke-width:2;stroke:rgb(255,255,255)\"/><rect x=\"1760\" y=\"0\" width=\"55\" height=\"55\" style=\"fill:#e93529;stroke-width:2;stroke:rgb(255,255,255)\"/><rect x=\"1815\" y=\"0\" width=\"55\" height=\"55\" style=\"fill:#e32f27;stroke-width:2;stroke:rgb(255,255,255)\"/><rect x=\"1870\" y=\"0\" width=\"55\" height=\"55\" style=\"fill:#dd2a25;stroke-width:2;stroke:rgb(255,255,255)\"/><rect x=\"1925\" y=\"0\" width=\"55\" height=\"55\" style=\"fill:#d82422;stroke-width:2;stroke:rgb(255,255,255)\"/><rect x=\"1980\" y=\"0\" width=\"55\" height=\"55\" style=\"fill:#d21f20;stroke-width:2;stroke:rgb(255,255,255)\"/><rect x=\"2035\" y=\"0\" width=\"55\" height=\"55\" style=\"fill:#cc191e;stroke-width:2;stroke:rgb(255,255,255)\"/><rect x=\"2090\" y=\"0\" width=\"55\" height=\"55\" style=\"fill:#c7171c;stroke-width:2;stroke:rgb(255,255,255)\"/><rect x=\"2145\" y=\"0\" width=\"55\" height=\"55\" style=\"fill:#c1161b;stroke-width:2;stroke:rgb(255,255,255)\"/><rect x=\"2200\" y=\"0\" width=\"55\" height=\"55\" style=\"fill:#bb141a;stroke-width:2;stroke:rgb(255,255,255)\"/><rect x=\"2255\" y=\"0\" width=\"55\" height=\"55\" style=\"fill:#b51318;stroke-width:2;stroke:rgb(255,255,255)\"/><rect x=\"2310\" y=\"0\" width=\"55\" height=\"55\" style=\"fill:#af1117;stroke-width:2;stroke:rgb(255,255,255)\"/><rect x=\"2365\" y=\"0\" width=\"55\" height=\"55\" style=\"fill:#a91016;stroke-width:2;stroke:rgb(255,255,255)\"/><rect x=\"2420\" y=\"0\" width=\"55\" height=\"55\" style=\"fill:#a10e15;stroke-width:2;stroke:rgb(255,255,255)\"/><rect x=\"2475\" y=\"0\" width=\"55\" height=\"55\" style=\"fill:#980c13;stroke-width:2;stroke:rgb(255,255,255)\"/><rect x=\"2530\" y=\"0\" width=\"55\" height=\"55\" style=\"fill:#8e0912;stroke-width:2;stroke:rgb(255,255,255)\"/><rect x=\"2585\" y=\"0\" width=\"55\" height=\"55\" style=\"fill:#840711;stroke-width:2;stroke:rgb(255,255,255)\"/><rect x=\"2640\" y=\"0\" width=\"55\" height=\"55\" style=\"fill:#7a0510;stroke-width:2;stroke:rgb(255,255,255)\"/><rect x=\"2695\" y=\"0\" width=\"55\" height=\"55\" style=\"fill:#71020e;stroke-width:2;stroke:rgb(255,255,255)\"/></svg>"
      ],
      "text/plain": [
       "[(0.9993848519800077, 0.9478662053056517, 0.922722029988466),\n",
       " (0.9987697039600154, 0.9349480968858132, 0.9042675893886967),\n",
       " (0.9981545559400231, 0.9220299884659746, 0.8858131487889274),\n",
       " (0.9975394079200308, 0.9091118800461361, 0.867358708189158),\n",
       " (0.9969242599000384, 0.8961937716262975, 0.8489042675893886),\n",
       " (0.9963091118800461, 0.883275663206459, 0.8304498269896193),\n",
       " (0.9953094963475586, 0.8642060745866974, 0.8046905036524413),\n",
       " (0.994079200307574, 0.8414455978469819, 0.7745482506728181),\n",
       " (0.9928489042675894, 0.8186851211072664, 0.7444059976931949),\n",
       " (0.9916186082276048, 0.795924644367551, 0.7142637447135717),\n",
       " (0.9903883121876201, 0.7731641676278354, 0.6841214917339484),\n",
       " (0.9891580161476355, 0.75040369088812, 0.6539792387543253),\n",
       " (0.9882352941176471, 0.7270280661284121, 0.6241445597846982),\n",
       " (0.9882352941176471, 0.7018069973087273, 0.5952326028450596),\n",
       " (0.9882352941176471, 0.6765859284890426, 0.566320645905421),\n",
       " (0.9882352941176471, 0.6513648596693579, 0.5374086889657824),\n",
       " (0.9882352941176471, 0.6261437908496732, 0.5084967320261438),\n",
       " (0.9882352941176471, 0.6009227220299885, 0.4795847750865053),\n",
       " (0.9882352941176471, 0.5757016532103036, 0.4506728181468666),\n",
       " (0.9876970396001539, 0.5510188389081122, 0.4255286428296809),\n",
       " (0.9870818915801615, 0.5264129181084198, 0.40092272202998847),\n",
       " (0.9864667435601692, 0.5018069973087274, 0.3763168012302961),\n",
       " (0.9858515955401769, 0.477201076509035, 0.3517108804306036),\n",
       " (0.9852364475201845, 0.4525951557093426, 0.32710495963091124),\n",
       " (0.9846212995001922, 0.42798923490965013, 0.30249903883121876),\n",
       " (0.9806228373702421, 0.40123029603998467, 0.2809688581314879),\n",
       " (0.9732410611303345, 0.37231833910034606, 0.2625144175317186),\n",
       " (0.9658592848904267, 0.34340638216070746, 0.24405997693194925),\n",
       " (0.9584775086505191, 0.31449442522106885, 0.22560553633217995),\n",
       " (0.9510957324106113, 0.2855824682814302, 0.2071510957324106),\n",
       " (0.9437139561707035, 0.25667051134179164, 0.18869665513264128),\n",
       " (0.9344867358708189, 0.2286812764321415, 0.17139561707035755),\n",
       " (0.9123414071510957, 0.2071510957324106, 0.1621683967704729),\n",
       " (0.8901960784313725, 0.18562091503267975, 0.15294117647058825),\n",
       " (0.8680507497116493, 0.16409073433294888, 0.14371395617070357),\n",
       " (0.8459054209919262, 0.14256055363321812, 0.13448673587081897),\n",
       " (0.8237600922722029, 0.12103037293348712, 0.12525951557093426),\n",
       " (0.8016147635524797, 0.09950019223375625, 0.1160322952710496),\n",
       " (0.7785467128027681, 0.08996539792387544, 0.11003460207612456),\n",
       " (0.7551710880430603, 0.08442906574394464, 0.10511341791618607),\n",
       " (0.7317954632833525, 0.07889273356401384, 0.10019223375624758),\n",
       " (0.7084198385236448, 0.07335640138408304, 0.09527104959630911),\n",
       " (0.685044213763937, 0.06782006920415225, 0.09034986543637061),\n",
       " (0.6616685890042292, 0.06228373702422145, 0.08542868127643213),\n",
       " (0.6327566320645905, 0.05536332179930796, 0.08050749711649365),\n",
       " (0.5946174548250673, 0.04613610149942329, 0.07558631295655516),\n",
       " (0.556478277585544, 0.03690888119953864, 0.07066512879661667),\n",
       " (0.5183391003460208, 0.02768166089965398, 0.06574394463667818),\n",
       " (0.4801999231064975, 0.01845444059976932, 0.06082276047673971),\n",
       " (0.44206074586697425, 0.00922722029988466, 0.05590157631680122)]"
      ]
     },
     "execution_count": 232,
     "metadata": {},
     "output_type": "execute_result"
    }
   ],
   "source": [
    "import seaborn\n",
    "\n",
    "n_colors = 50\n",
    "reds = seaborn.color_palette(\"Reds\", n_colors=n_colors)\n",
    "blues = seaborn.color_palette(\"Blues\", n_colors=n_colors)\n",
    "greens = seaborn.color_palette(\"Greens\", n_colors=n_colors)\n",
    "oranges = seaborn.color_palette(\"Oranges\", n_colors=n_colors)\n",
    "greys = seaborn.color_palette(\"Greys\", n_colors=n_colors)\n",
    "yellows = seaborn.light_palette(\"Yellow\", n_colors=n_colors)\n",
    "whites = seaborn.light_palette(\"White\", n_colors=n_colors)\n",
    "\n",
    "emojis_colors = {\n",
    "    '🚒': reds,\n",
    "    '💦': blues,\n",
    "    '🌱': greens,\n",
    "    '🌅': oranges,\n",
    "    '🐺': greys,\n",
    "    '🍌': yellows,\n",
    "    '🥚': whites\n",
    "}\n",
    "\n",
    "emojis = list(emojis_colors.keys())\n",
    "\n",
    "toy_data1 = [(emoji := random.choice(emojis), random.choice(emojis_colors[emoji]))\n",
    "             for _ in range(100)]\n",
    "\n",
    "reds"
   ]
  },
  {
   "cell_type": "code",
   "execution_count": 233,
   "metadata": {},
   "outputs": [
    {
     "data": {
      "image/png": "[encoded data removed]",
      "text/plain": [
       "<Figure size 100x100 with 1 Axes>"
      ]
     },
     "metadata": {},
     "output_type": "display_data"
    }
   ],
   "source": [
    "def randcol():\n",
    "    return np.random.rand(3)\n",
    "\n",
    "def show_color(color):\n",
    "    plt.figure(figsize=(1,1))\n",
    "    plt.imshow([[color]])\n",
    "    plt.axis('off')\n",
    "    plt.show()\n",
    "\n",
    "acolor = randcol()\n",
    "show_color(acolor)"
   ]
  },
  {
   "cell_type": "code",
   "execution_count": 234,
   "metadata": {},
   "outputs": [],
   "source": [
    "emojis_hdvs = {emoji: hdv() for emoji in emojis}"
   ]
  },
  {
   "cell_type": "code",
   "execution_count": 235,
   "metadata": {},
   "outputs": [],
   "source": [
    "def range_hdvs(steps):\n",
    "    k = len(steps) - 1\n",
    "\n",
    "    V = hdv_m(k + 1)  # V size is (k+1)xN\n",
    "\n",
    "    for i in range(1, k + 1):  # for each other row/step\n",
    "        for j in range(N):     # for each column\n",
    "            V[i, j] = -V[i-1, j] if random.random() < (1 / k) else V[i-1, j]\n",
    "\n",
    "    return V\n"
   ]
  },
  {
   "cell_type": "code",
   "execution_count": 236,
   "metadata": {},
   "outputs": [],
   "source": [
    "color_steps = np.arange(0, 1.05, 0.05)"
   ]
  },
  {
   "cell_type": "code",
   "execution_count": 237,
   "metadata": {},
   "outputs": [],
   "source": [
    "reds_hdv = range_hdvs(color_steps)"
   ]
  },
  {
   "cell_type": "code",
   "execution_count": 238,
   "metadata": {},
   "outputs": [
    {
     "data": {
      "text/html": [
       "<div>\n",
       "<style scoped>\n",
       "    .dataframe tbody tr th:only-of-type {\n",
       "        vertical-align: middle;\n",
       "    }\n",
       "\n",
       "    .dataframe tbody tr th {\n",
       "        vertical-align: top;\n",
       "    }\n",
       "\n",
       "    .dataframe thead th {\n",
       "        text-align: right;\n",
       "    }\n",
       "</style>\n",
       "<table border=\"1\" class=\"dataframe\">\n",
       "  <thead>\n",
       "    <tr style=\"text-align: right;\">\n",
       "      <th></th>\n",
       "      <th>V0</th>\n",
       "      <th>V1</th>\n",
       "      <th>V2</th>\n",
       "      <th>V3</th>\n",
       "      <th>V4</th>\n",
       "      <th>V5</th>\n",
       "      <th>V6</th>\n",
       "      <th>V7</th>\n",
       "      <th>V8</th>\n",
       "      <th>V9</th>\n",
       "      <th>...</th>\n",
       "      <th>V11</th>\n",
       "      <th>V12</th>\n",
       "      <th>V13</th>\n",
       "      <th>V14</th>\n",
       "      <th>V15</th>\n",
       "      <th>V16</th>\n",
       "      <th>V17</th>\n",
       "      <th>V18</th>\n",
       "      <th>V19</th>\n",
       "      <th>V20</th>\n",
       "    </tr>\n",
       "  </thead>\n",
       "  <tbody>\n",
       "    <tr>\n",
       "      <th>V0</th>\n",
       "      <td>0.1236</td>\n",
       "      <td>0.1332</td>\n",
       "      <td>0.1472</td>\n",
       "      <td>0.1618</td>\n",
       "      <td>0.1780</td>\n",
       "      <td>0.2078</td>\n",
       "      <td>0.2346</td>\n",
       "      <td>0.2564</td>\n",
       "      <td>0.2830</td>\n",
       "      <td>0.3126</td>\n",
       "      <td>...</td>\n",
       "      <td>0.3872</td>\n",
       "      <td>0.4262</td>\n",
       "      <td>0.4732</td>\n",
       "      <td>0.5294</td>\n",
       "      <td>0.5856</td>\n",
       "      <td>0.6600</td>\n",
       "      <td>0.7304</td>\n",
       "      <td>0.8138</td>\n",
       "      <td>0.9042</td>\n",
       "      <td>1.0000</td>\n",
       "    </tr>\n",
       "    <tr>\n",
       "      <th>V1</th>\n",
       "      <td>0.1394</td>\n",
       "      <td>0.1498</td>\n",
       "      <td>0.1638</td>\n",
       "      <td>0.1784</td>\n",
       "      <td>0.1986</td>\n",
       "      <td>0.2336</td>\n",
       "      <td>0.2648</td>\n",
       "      <td>0.2898</td>\n",
       "      <td>0.3208</td>\n",
       "      <td>0.3560</td>\n",
       "      <td>...</td>\n",
       "      <td>0.4358</td>\n",
       "      <td>0.4804</td>\n",
       "      <td>0.5298</td>\n",
       "      <td>0.5908</td>\n",
       "      <td>0.6522</td>\n",
       "      <td>0.7330</td>\n",
       "      <td>0.8122</td>\n",
       "      <td>0.9016</td>\n",
       "      <td>1.0000</td>\n",
       "      <td>0.9042</td>\n",
       "    </tr>\n",
       "    <tr>\n",
       "      <th>V2</th>\n",
       "      <td>0.1614</td>\n",
       "      <td>0.1738</td>\n",
       "      <td>0.1886</td>\n",
       "      <td>0.2024</td>\n",
       "      <td>0.2266</td>\n",
       "      <td>0.2600</td>\n",
       "      <td>0.2928</td>\n",
       "      <td>0.3218</td>\n",
       "      <td>0.3564</td>\n",
       "      <td>0.3952</td>\n",
       "      <td>...</td>\n",
       "      <td>0.4870</td>\n",
       "      <td>0.5360</td>\n",
       "      <td>0.5902</td>\n",
       "      <td>0.6580</td>\n",
       "      <td>0.7246</td>\n",
       "      <td>0.8110</td>\n",
       "      <td>0.8994</td>\n",
       "      <td>1.0000</td>\n",
       "      <td>0.9016</td>\n",
       "      <td>0.8138</td>\n",
       "    </tr>\n",
       "    <tr>\n",
       "      <th>V3</th>\n",
       "      <td>0.1748</td>\n",
       "      <td>0.1920</td>\n",
       "      <td>0.2088</td>\n",
       "      <td>0.2246</td>\n",
       "      <td>0.2528</td>\n",
       "      <td>0.2878</td>\n",
       "      <td>0.3226</td>\n",
       "      <td>0.3564</td>\n",
       "      <td>0.3962</td>\n",
       "      <td>0.4374</td>\n",
       "      <td>...</td>\n",
       "      <td>0.5412</td>\n",
       "      <td>0.5966</td>\n",
       "      <td>0.6596</td>\n",
       "      <td>0.7338</td>\n",
       "      <td>0.8076</td>\n",
       "      <td>0.9016</td>\n",
       "      <td>1.0000</td>\n",
       "      <td>0.8994</td>\n",
       "      <td>0.8122</td>\n",
       "      <td>0.7304</td>\n",
       "    </tr>\n",
       "    <tr>\n",
       "      <th>V4</th>\n",
       "      <td>0.1920</td>\n",
       "      <td>0.2088</td>\n",
       "      <td>0.2296</td>\n",
       "      <td>0.2498</td>\n",
       "      <td>0.2832</td>\n",
       "      <td>0.3182</td>\n",
       "      <td>0.3570</td>\n",
       "      <td>0.3960</td>\n",
       "      <td>0.4402</td>\n",
       "      <td>0.4866</td>\n",
       "      <td>...</td>\n",
       "      <td>0.5972</td>\n",
       "      <td>0.6622</td>\n",
       "      <td>0.7316</td>\n",
       "      <td>0.8138</td>\n",
       "      <td>0.8948</td>\n",
       "      <td>1.0000</td>\n",
       "      <td>0.9016</td>\n",
       "      <td>0.8110</td>\n",
       "      <td>0.7330</td>\n",
       "      <td>0.6600</td>\n",
       "    </tr>\n",
       "    <tr>\n",
       "      <th>V5</th>\n",
       "      <td>0.2120</td>\n",
       "      <td>0.2308</td>\n",
       "      <td>0.2512</td>\n",
       "      <td>0.2762</td>\n",
       "      <td>0.3124</td>\n",
       "      <td>0.3534</td>\n",
       "      <td>0.3958</td>\n",
       "      <td>0.4380</td>\n",
       "      <td>0.4870</td>\n",
       "      <td>0.5430</td>\n",
       "      <td>...</td>\n",
       "      <td>0.6676</td>\n",
       "      <td>0.7394</td>\n",
       "      <td>0.8180</td>\n",
       "      <td>0.9082</td>\n",
       "      <td>1.0000</td>\n",
       "      <td>0.8948</td>\n",
       "      <td>0.8076</td>\n",
       "      <td>0.7246</td>\n",
       "      <td>0.6522</td>\n",
       "      <td>0.5856</td>\n",
       "    </tr>\n",
       "    <tr>\n",
       "      <th>V6</th>\n",
       "      <td>0.2246</td>\n",
       "      <td>0.2482</td>\n",
       "      <td>0.2718</td>\n",
       "      <td>0.3020</td>\n",
       "      <td>0.3434</td>\n",
       "      <td>0.3924</td>\n",
       "      <td>0.4380</td>\n",
       "      <td>0.4858</td>\n",
       "      <td>0.5404</td>\n",
       "      <td>0.6000</td>\n",
       "      <td>...</td>\n",
       "      <td>0.7354</td>\n",
       "      <td>0.8136</td>\n",
       "      <td>0.9010</td>\n",
       "      <td>1.0000</td>\n",
       "      <td>0.9082</td>\n",
       "      <td>0.8138</td>\n",
       "      <td>0.7338</td>\n",
       "      <td>0.6580</td>\n",
       "      <td>0.5908</td>\n",
       "      <td>0.5294</td>\n",
       "    </tr>\n",
       "    <tr>\n",
       "      <th>V7</th>\n",
       "      <td>0.2524</td>\n",
       "      <td>0.2768</td>\n",
       "      <td>0.3016</td>\n",
       "      <td>0.3326</td>\n",
       "      <td>0.3748</td>\n",
       "      <td>0.4278</td>\n",
       "      <td>0.4798</td>\n",
       "      <td>0.5320</td>\n",
       "      <td>0.5954</td>\n",
       "      <td>0.6630</td>\n",
       "      <td>...</td>\n",
       "      <td>0.8136</td>\n",
       "      <td>0.9058</td>\n",
       "      <td>1.0000</td>\n",
       "      <td>0.9010</td>\n",
       "      <td>0.8180</td>\n",
       "      <td>0.7316</td>\n",
       "      <td>0.6596</td>\n",
       "      <td>0.5902</td>\n",
       "      <td>0.5298</td>\n",
       "      <td>0.4732</td>\n",
       "    </tr>\n",
       "    <tr>\n",
       "      <th>V8</th>\n",
       "      <td>0.2814</td>\n",
       "      <td>0.3082</td>\n",
       "      <td>0.3346</td>\n",
       "      <td>0.3696</td>\n",
       "      <td>0.4166</td>\n",
       "      <td>0.4760</td>\n",
       "      <td>0.5304</td>\n",
       "      <td>0.5894</td>\n",
       "      <td>0.6564</td>\n",
       "      <td>0.7316</td>\n",
       "      <td>...</td>\n",
       "      <td>0.8986</td>\n",
       "      <td>1.0000</td>\n",
       "      <td>0.9058</td>\n",
       "      <td>0.8136</td>\n",
       "      <td>0.7394</td>\n",
       "      <td>0.6622</td>\n",
       "      <td>0.5966</td>\n",
       "      <td>0.5360</td>\n",
       "      <td>0.4804</td>\n",
       "      <td>0.4262</td>\n",
       "    </tr>\n",
       "    <tr>\n",
       "      <th>V9</th>\n",
       "      <td>0.3180</td>\n",
       "      <td>0.3448</td>\n",
       "      <td>0.3728</td>\n",
       "      <td>0.4126</td>\n",
       "      <td>0.4600</td>\n",
       "      <td>0.5262</td>\n",
       "      <td>0.5886</td>\n",
       "      <td>0.6536</td>\n",
       "      <td>0.7286</td>\n",
       "      <td>0.8142</td>\n",
       "      <td>...</td>\n",
       "      <td>1.0000</td>\n",
       "      <td>0.8986</td>\n",
       "      <td>0.8136</td>\n",
       "      <td>0.7354</td>\n",
       "      <td>0.6676</td>\n",
       "      <td>0.5972</td>\n",
       "      <td>0.5412</td>\n",
       "      <td>0.4870</td>\n",
       "      <td>0.4358</td>\n",
       "      <td>0.3872</td>\n",
       "    </tr>\n",
       "    <tr>\n",
       "      <th>V10</th>\n",
       "      <td>0.3502</td>\n",
       "      <td>0.3830</td>\n",
       "      <td>0.4146</td>\n",
       "      <td>0.4608</td>\n",
       "      <td>0.5166</td>\n",
       "      <td>0.5872</td>\n",
       "      <td>0.6524</td>\n",
       "      <td>0.7238</td>\n",
       "      <td>0.8088</td>\n",
       "      <td>0.9008</td>\n",
       "      <td>...</td>\n",
       "      <td>0.9050</td>\n",
       "      <td>0.8144</td>\n",
       "      <td>0.7354</td>\n",
       "      <td>0.6680</td>\n",
       "      <td>0.6054</td>\n",
       "      <td>0.5402</td>\n",
       "      <td>0.4882</td>\n",
       "      <td>0.4416</td>\n",
       "      <td>0.3952</td>\n",
       "      <td>0.3474</td>\n",
       "    </tr>\n",
       "    <tr>\n",
       "      <th>V11</th>\n",
       "      <td>0.3850</td>\n",
       "      <td>0.4230</td>\n",
       "      <td>0.4614</td>\n",
       "      <td>0.5116</td>\n",
       "      <td>0.5714</td>\n",
       "      <td>0.6508</td>\n",
       "      <td>0.7228</td>\n",
       "      <td>0.8034</td>\n",
       "      <td>0.8972</td>\n",
       "      <td>1.0000</td>\n",
       "      <td>...</td>\n",
       "      <td>0.8142</td>\n",
       "      <td>0.7316</td>\n",
       "      <td>0.6630</td>\n",
       "      <td>0.6000</td>\n",
       "      <td>0.5430</td>\n",
       "      <td>0.4866</td>\n",
       "      <td>0.4374</td>\n",
       "      <td>0.3952</td>\n",
       "      <td>0.3560</td>\n",
       "      <td>0.3126</td>\n",
       "    </tr>\n",
       "    <tr>\n",
       "      <th>V12</th>\n",
       "      <td>0.4254</td>\n",
       "      <td>0.4698</td>\n",
       "      <td>0.5162</td>\n",
       "      <td>0.5700</td>\n",
       "      <td>0.6406</td>\n",
       "      <td>0.7276</td>\n",
       "      <td>0.8084</td>\n",
       "      <td>0.8962</td>\n",
       "      <td>1.0000</td>\n",
       "      <td>0.8972</td>\n",
       "      <td>...</td>\n",
       "      <td>0.7286</td>\n",
       "      <td>0.6564</td>\n",
       "      <td>0.5954</td>\n",
       "      <td>0.5404</td>\n",
       "      <td>0.4870</td>\n",
       "      <td>0.4402</td>\n",
       "      <td>0.3962</td>\n",
       "      <td>0.3564</td>\n",
       "      <td>0.3208</td>\n",
       "      <td>0.2830</td>\n",
       "    </tr>\n",
       "    <tr>\n",
       "      <th>V13</th>\n",
       "      <td>0.4800</td>\n",
       "      <td>0.5308</td>\n",
       "      <td>0.5844</td>\n",
       "      <td>0.6426</td>\n",
       "      <td>0.7204</td>\n",
       "      <td>0.8146</td>\n",
       "      <td>0.9026</td>\n",
       "      <td>1.0000</td>\n",
       "      <td>0.8962</td>\n",
       "      <td>0.8034</td>\n",
       "      <td>...</td>\n",
       "      <td>0.6536</td>\n",
       "      <td>0.5894</td>\n",
       "      <td>0.5320</td>\n",
       "      <td>0.4858</td>\n",
       "      <td>0.4380</td>\n",
       "      <td>0.3960</td>\n",
       "      <td>0.3564</td>\n",
       "      <td>0.3218</td>\n",
       "      <td>0.2898</td>\n",
       "      <td>0.2564</td>\n",
       "    </tr>\n",
       "    <tr>\n",
       "      <th>V14</th>\n",
       "      <td>0.5286</td>\n",
       "      <td>0.5854</td>\n",
       "      <td>0.6462</td>\n",
       "      <td>0.7116</td>\n",
       "      <td>0.7998</td>\n",
       "      <td>0.9028</td>\n",
       "      <td>1.0000</td>\n",
       "      <td>0.9026</td>\n",
       "      <td>0.8084</td>\n",
       "      <td>0.7228</td>\n",
       "      <td>...</td>\n",
       "      <td>0.5886</td>\n",
       "      <td>0.5304</td>\n",
       "      <td>0.4798</td>\n",
       "      <td>0.4380</td>\n",
       "      <td>0.3958</td>\n",
       "      <td>0.3570</td>\n",
       "      <td>0.3226</td>\n",
       "      <td>0.2928</td>\n",
       "      <td>0.2648</td>\n",
       "      <td>0.2346</td>\n",
       "    </tr>\n",
       "    <tr>\n",
       "      <th>V15</th>\n",
       "      <td>0.5870</td>\n",
       "      <td>0.6518</td>\n",
       "      <td>0.7170</td>\n",
       "      <td>0.7888</td>\n",
       "      <td>0.8910</td>\n",
       "      <td>1.0000</td>\n",
       "      <td>0.9028</td>\n",
       "      <td>0.8146</td>\n",
       "      <td>0.7276</td>\n",
       "      <td>0.6508</td>\n",
       "      <td>...</td>\n",
       "      <td>0.5262</td>\n",
       "      <td>0.4760</td>\n",
       "      <td>0.4278</td>\n",
       "      <td>0.3924</td>\n",
       "      <td>0.3534</td>\n",
       "      <td>0.3182</td>\n",
       "      <td>0.2878</td>\n",
       "      <td>0.2600</td>\n",
       "      <td>0.2336</td>\n",
       "      <td>0.2078</td>\n",
       "    </tr>\n",
       "    <tr>\n",
       "      <th>V16</th>\n",
       "      <td>0.6556</td>\n",
       "      <td>0.7296</td>\n",
       "      <td>0.8044</td>\n",
       "      <td>0.8870</td>\n",
       "      <td>1.0000</td>\n",
       "      <td>0.8910</td>\n",
       "      <td>0.7998</td>\n",
       "      <td>0.7204</td>\n",
       "      <td>0.6406</td>\n",
       "      <td>0.5714</td>\n",
       "      <td>...</td>\n",
       "      <td>0.4600</td>\n",
       "      <td>0.4166</td>\n",
       "      <td>0.3748</td>\n",
       "      <td>0.3434</td>\n",
       "      <td>0.3124</td>\n",
       "      <td>0.2832</td>\n",
       "      <td>0.2528</td>\n",
       "      <td>0.2266</td>\n",
       "      <td>0.1986</td>\n",
       "      <td>0.1780</td>\n",
       "    </tr>\n",
       "    <tr>\n",
       "      <th>V17</th>\n",
       "      <td>0.7342</td>\n",
       "      <td>0.8154</td>\n",
       "      <td>0.9054</td>\n",
       "      <td>1.0000</td>\n",
       "      <td>0.8870</td>\n",
       "      <td>0.7888</td>\n",
       "      <td>0.7116</td>\n",
       "      <td>0.6426</td>\n",
       "      <td>0.5700</td>\n",
       "      <td>0.5116</td>\n",
       "      <td>...</td>\n",
       "      <td>0.4126</td>\n",
       "      <td>0.3696</td>\n",
       "      <td>0.3326</td>\n",
       "      <td>0.3020</td>\n",
       "      <td>0.2762</td>\n",
       "      <td>0.2498</td>\n",
       "      <td>0.2246</td>\n",
       "      <td>0.2024</td>\n",
       "      <td>0.1784</td>\n",
       "      <td>0.1618</td>\n",
       "    </tr>\n",
       "    <tr>\n",
       "      <th>V18</th>\n",
       "      <td>0.8132</td>\n",
       "      <td>0.9040</td>\n",
       "      <td>1.0000</td>\n",
       "      <td>0.9054</td>\n",
       "      <td>0.8044</td>\n",
       "      <td>0.7170</td>\n",
       "      <td>0.6462</td>\n",
       "      <td>0.5844</td>\n",
       "      <td>0.5162</td>\n",
       "      <td>0.4614</td>\n",
       "      <td>...</td>\n",
       "      <td>0.3728</td>\n",
       "      <td>0.3346</td>\n",
       "      <td>0.3016</td>\n",
       "      <td>0.2718</td>\n",
       "      <td>0.2512</td>\n",
       "      <td>0.2296</td>\n",
       "      <td>0.2088</td>\n",
       "      <td>0.1886</td>\n",
       "      <td>0.1638</td>\n",
       "      <td>0.1472</td>\n",
       "    </tr>\n",
       "    <tr>\n",
       "      <th>V19</th>\n",
       "      <td>0.9004</td>\n",
       "      <td>1.0000</td>\n",
       "      <td>0.9040</td>\n",
       "      <td>0.8154</td>\n",
       "      <td>0.7296</td>\n",
       "      <td>0.6518</td>\n",
       "      <td>0.5854</td>\n",
       "      <td>0.5308</td>\n",
       "      <td>0.4698</td>\n",
       "      <td>0.4230</td>\n",
       "      <td>...</td>\n",
       "      <td>0.3448</td>\n",
       "      <td>0.3082</td>\n",
       "      <td>0.2768</td>\n",
       "      <td>0.2482</td>\n",
       "      <td>0.2308</td>\n",
       "      <td>0.2088</td>\n",
       "      <td>0.1920</td>\n",
       "      <td>0.1738</td>\n",
       "      <td>0.1498</td>\n",
       "      <td>0.1332</td>\n",
       "    </tr>\n",
       "    <tr>\n",
       "      <th>V20</th>\n",
       "      <td>1.0000</td>\n",
       "      <td>0.9004</td>\n",
       "      <td>0.8132</td>\n",
       "      <td>0.7342</td>\n",
       "      <td>0.6556</td>\n",
       "      <td>0.5870</td>\n",
       "      <td>0.5286</td>\n",
       "      <td>0.4800</td>\n",
       "      <td>0.4254</td>\n",
       "      <td>0.3850</td>\n",
       "      <td>...</td>\n",
       "      <td>0.3180</td>\n",
       "      <td>0.2814</td>\n",
       "      <td>0.2524</td>\n",
       "      <td>0.2246</td>\n",
       "      <td>0.2120</td>\n",
       "      <td>0.1920</td>\n",
       "      <td>0.1748</td>\n",
       "      <td>0.1614</td>\n",
       "      <td>0.1394</td>\n",
       "      <td>0.1236</td>\n",
       "    </tr>\n",
       "  </tbody>\n",
       "</table>\n",
       "<p>21 rows × 21 columns</p>\n",
       "</div>"
      ],
      "text/plain": [
       "         V0      V1      V2      V3      V4      V5      V6      V7      V8  \\\n",
       "V0   0.1236  0.1332  0.1472  0.1618  0.1780  0.2078  0.2346  0.2564  0.2830   \n",
       "V1   0.1394  0.1498  0.1638  0.1784  0.1986  0.2336  0.2648  0.2898  0.3208   \n",
       "V2   0.1614  0.1738  0.1886  0.2024  0.2266  0.2600  0.2928  0.3218  0.3564   \n",
       "V3   0.1748  0.1920  0.2088  0.2246  0.2528  0.2878  0.3226  0.3564  0.3962   \n",
       "V4   0.1920  0.2088  0.2296  0.2498  0.2832  0.3182  0.3570  0.3960  0.4402   \n",
       "V5   0.2120  0.2308  0.2512  0.2762  0.3124  0.3534  0.3958  0.4380  0.4870   \n",
       "V6   0.2246  0.2482  0.2718  0.3020  0.3434  0.3924  0.4380  0.4858  0.5404   \n",
       "V7   0.2524  0.2768  0.3016  0.3326  0.3748  0.4278  0.4798  0.5320  0.5954   \n",
       "V8   0.2814  0.3082  0.3346  0.3696  0.4166  0.4760  0.5304  0.5894  0.6564   \n",
       "V9   0.3180  0.3448  0.3728  0.4126  0.4600  0.5262  0.5886  0.6536  0.7286   \n",
       "V10  0.3502  0.3830  0.4146  0.4608  0.5166  0.5872  0.6524  0.7238  0.8088   \n",
       "V11  0.3850  0.4230  0.4614  0.5116  0.5714  0.6508  0.7228  0.8034  0.8972   \n",
       "V12  0.4254  0.4698  0.5162  0.5700  0.6406  0.7276  0.8084  0.8962  1.0000   \n",
       "V13  0.4800  0.5308  0.5844  0.6426  0.7204  0.8146  0.9026  1.0000  0.8962   \n",
       "V14  0.5286  0.5854  0.6462  0.7116  0.7998  0.9028  1.0000  0.9026  0.8084   \n",
       "V15  0.5870  0.6518  0.7170  0.7888  0.8910  1.0000  0.9028  0.8146  0.7276   \n",
       "V16  0.6556  0.7296  0.8044  0.8870  1.0000  0.8910  0.7998  0.7204  0.6406   \n",
       "V17  0.7342  0.8154  0.9054  1.0000  0.8870  0.7888  0.7116  0.6426  0.5700   \n",
       "V18  0.8132  0.9040  1.0000  0.9054  0.8044  0.7170  0.6462  0.5844  0.5162   \n",
       "V19  0.9004  1.0000  0.9040  0.8154  0.7296  0.6518  0.5854  0.5308  0.4698   \n",
       "V20  1.0000  0.9004  0.8132  0.7342  0.6556  0.5870  0.5286  0.4800  0.4254   \n",
       "\n",
       "         V9  ...     V11     V12     V13     V14     V15     V16     V17  \\\n",
       "V0   0.3126  ...  0.3872  0.4262  0.4732  0.5294  0.5856  0.6600  0.7304   \n",
       "V1   0.3560  ...  0.4358  0.4804  0.5298  0.5908  0.6522  0.7330  0.8122   \n",
       "V2   0.3952  ...  0.4870  0.5360  0.5902  0.6580  0.7246  0.8110  0.8994   \n",
       "V3   0.4374  ...  0.5412  0.5966  0.6596  0.7338  0.8076  0.9016  1.0000   \n",
       "V4   0.4866  ...  0.5972  0.6622  0.7316  0.8138  0.8948  1.0000  0.9016   \n",
       "V5   0.5430  ...  0.6676  0.7394  0.8180  0.9082  1.0000  0.8948  0.8076   \n",
       "V6   0.6000  ...  0.7354  0.8136  0.9010  1.0000  0.9082  0.8138  0.7338   \n",
       "V7   0.6630  ...  0.8136  0.9058  1.0000  0.9010  0.8180  0.7316  0.6596   \n",
       "V8   0.7316  ...  0.8986  1.0000  0.9058  0.8136  0.7394  0.6622  0.5966   \n",
       "V9   0.8142  ...  1.0000  0.8986  0.8136  0.7354  0.6676  0.5972  0.5412   \n",
       "V10  0.9008  ...  0.9050  0.8144  0.7354  0.6680  0.6054  0.5402  0.4882   \n",
       "V11  1.0000  ...  0.8142  0.7316  0.6630  0.6000  0.5430  0.4866  0.4374   \n",
       "V12  0.8972  ...  0.7286  0.6564  0.5954  0.5404  0.4870  0.4402  0.3962   \n",
       "V13  0.8034  ...  0.6536  0.5894  0.5320  0.4858  0.4380  0.3960  0.3564   \n",
       "V14  0.7228  ...  0.5886  0.5304  0.4798  0.4380  0.3958  0.3570  0.3226   \n",
       "V15  0.6508  ...  0.5262  0.4760  0.4278  0.3924  0.3534  0.3182  0.2878   \n",
       "V16  0.5714  ...  0.4600  0.4166  0.3748  0.3434  0.3124  0.2832  0.2528   \n",
       "V17  0.5116  ...  0.4126  0.3696  0.3326  0.3020  0.2762  0.2498  0.2246   \n",
       "V18  0.4614  ...  0.3728  0.3346  0.3016  0.2718  0.2512  0.2296  0.2088   \n",
       "V19  0.4230  ...  0.3448  0.3082  0.2768  0.2482  0.2308  0.2088  0.1920   \n",
       "V20  0.3850  ...  0.3180  0.2814  0.2524  0.2246  0.2120  0.1920  0.1748   \n",
       "\n",
       "        V18     V19     V20  \n",
       "V0   0.8138  0.9042  1.0000  \n",
       "V1   0.9016  1.0000  0.9042  \n",
       "V2   1.0000  0.9016  0.8138  \n",
       "V3   0.8994  0.8122  0.7304  \n",
       "V4   0.8110  0.7330  0.6600  \n",
       "V5   0.7246  0.6522  0.5856  \n",
       "V6   0.6580  0.5908  0.5294  \n",
       "V7   0.5902  0.5298  0.4732  \n",
       "V8   0.5360  0.4804  0.4262  \n",
       "V9   0.4870  0.4358  0.3872  \n",
       "V10  0.4416  0.3952  0.3474  \n",
       "V11  0.3952  0.3560  0.3126  \n",
       "V12  0.3564  0.3208  0.2830  \n",
       "V13  0.3218  0.2898  0.2564  \n",
       "V14  0.2928  0.2648  0.2346  \n",
       "V15  0.2600  0.2336  0.2078  \n",
       "V16  0.2266  0.1986  0.1780  \n",
       "V17  0.2024  0.1784  0.1618  \n",
       "V18  0.1886  0.1638  0.1472  \n",
       "V19  0.1738  0.1498  0.1332  \n",
       "V20  0.1614  0.1394  0.1236  \n",
       "\n",
       "[21 rows x 21 columns]"
      ]
     },
     "metadata": {},
     "output_type": "display_data"
    },
    {
     "data": {
      "image/png": "[encoded data removed]",
      "text/plain": [
       "<Figure size 800x600 with 2 Axes>"
      ]
     },
     "metadata": {},
     "output_type": "display_data"
    }
   ],
   "source": [
    "from sklearn.metrics.pairwise import cosine_similarity\n",
    "\n",
    "# Calcular la matriz de similaridad coseno\n",
    "cos_sim_matrix = cosine_similarity(reds_hdv)\n",
    "cos_sim_matrix = cos_sim_matrix[::-1, :]\n",
    "\n",
    "# Representar la matriz de similaridad como DataFrame para mejor visualización\n",
    "df_cos_sim = pd.DataFrame(cos_sim_matrix,\n",
    "                          index=[f\"V{i}\" for i in range(reds_hdv.shape[0])],\n",
    "                          columns=[f\"V{i}\" for i in range(reds_hdv.shape[0])])\n",
    "\n",
    "# Mostrar en formato tabla\n",
    "display(df_cos_sim)\n",
    "\n",
    "# Representar la matriz de similaridad coseno con un mapa de calor\n",
    "plt.figure(figsize=(8, 6))\n",
    "plt.imshow(cos_sim_matrix, cmap='magma', interpolation='nearest')\n",
    "plt.colorbar(label='Cosine Similarity')\n",
    "plt.title(\"Cosine Similarity Between Rows of V\")\n",
    "plt.xticks(ticks=np.arange(len(color_steps)),\n",
    "           labels=[f\"{val:.2f}\" for val in color_steps], rotation=90)\n",
    "plt.yticks(ticks=np.arange(len(color_steps)),\n",
    "           labels=[f\"{val:.2f}\" for val in color_steps[::-1]])\n",
    "\n",
    "plt.tight_layout()\n",
    "plt.show()\n"
   ]
  },
  {
   "cell_type": "code",
   "execution_count": 239,
   "metadata": {},
   "outputs": [],
   "source": [
    "greens_hdv = range_hdvs(color_steps)\n",
    "blues_hdv = range_hdvs(color_steps)"
   ]
  },
  {
   "cell_type": "code",
   "execution_count": 240,
   "metadata": {},
   "outputs": [],
   "source": [
    "def col_ind(component):\n",
    "    return round(component * 20)\n",
    "\n",
    "def encode_col(color):\n",
    "    return bind(reds_hdv[col_ind(color[0])],\n",
    "                greens_hdv[col_ind(color[1])],\n",
    "                blues_hdv[col_ind(color[2])])"
   ]
  },
  {
   "cell_type": "code",
   "execution_count": 241,
   "metadata": {},
   "outputs": [],
   "source": [
    "colhdv = encode_col(acolor)"
   ]
  },
  {
   "cell_type": "code",
   "execution_count": 242,
   "metadata": {},
   "outputs": [],
   "source": [
    "ref_colors = [{'color':c, 'hdv':encode_col(c)} for c in [randcol() for _ in range(1000)]]"
   ]
  },
  {
   "cell_type": "code",
   "execution_count": 243,
   "metadata": {},
   "outputs": [],
   "source": [
    "def decode_colors(v):\n",
    "    best_match = max(ref_colors, key=lambda item: cos_similarity(v, item[\"hdv\"]))\n",
    "    show_color(best_match[\"color\"])\n",
    "    return best_match[\"color\"]"
   ]
  },
  {
   "cell_type": "code",
   "execution_count": 244,
   "metadata": {},
   "outputs": [
    {
     "data": {
      "image/png": "[encoded data removed]",
      "text/plain": [
       "<Figure size 100x100 with 1 Axes>"
      ]
     },
     "metadata": {},
     "output_type": "display_data"
    },
    {
     "data": {
      "text/plain": [
       "array([0.50134483, 0.25871615, 0.93171712])"
      ]
     },
     "execution_count": 244,
     "metadata": {},
     "output_type": "execute_result"
    }
   ],
   "source": [
    "decode_colors(colhdv)"
   ]
  },
  {
   "cell_type": "code",
   "execution_count": 245,
   "metadata": {},
   "outputs": [
    {
     "data": {
      "image/png": "[encoded data removed]",
      "text/plain": [
       "<Figure size 100x100 with 1 Axes>"
      ]
     },
     "metadata": {},
     "output_type": "display_data"
    },
    {
     "data": {
      "text/plain": [
       "array([0.56136187, 0.13079074, 0.65406478])"
      ]
     },
     "execution_count": 245,
     "metadata": {},
     "output_type": "execute_result"
    }
   ],
   "source": [
    "decode_colors(hdv())"
   ]
  },
  {
   "cell_type": "code",
   "execution_count": 246,
   "metadata": {},
   "outputs": [],
   "source": [
    "def encode_emoji_col_pair(s, c):\n",
    "    return bind(emojis_hdvs[s], encode_col(c))"
   ]
  },
  {
   "cell_type": "code",
   "execution_count": 247,
   "metadata": {},
   "outputs": [],
   "source": [
    "col_emoji_hdvs = [encode_emoji_col_pair(s, c) for s, c in toy_data1]"
   ]
  },
  {
   "cell_type": "code",
   "execution_count": 248,
   "metadata": {},
   "outputs": [],
   "source": [
    "toy_data_emb = bundle(*col_emoji_hdvs)"
   ]
  },
  {
   "cell_type": "code",
   "execution_count": 249,
   "metadata": {},
   "outputs": [
    {
     "data": {
      "text/plain": [
       "array([ 1,  1, -1, ...,  1,  1, -1], shape=(10000,))"
      ]
     },
     "execution_count": 249,
     "metadata": {},
     "output_type": "execute_result"
    }
   ],
   "source": [
    "bind(toy_data_emb, emojis_hdvs['🚒'])"
   ]
  },
  {
   "cell_type": "code",
   "execution_count": 250,
   "metadata": {},
   "outputs": [
    {
     "data": {
      "image/png": "[encoded data removed]",
      "text/plain": [
       "<Figure size 100x100 with 1 Axes>"
      ]
     },
     "metadata": {},
     "output_type": "display_data"
    },
    {
     "data": {
      "text/plain": [
       "array([0.94778236, 0.18771125, 0.14633854])"
      ]
     },
     "execution_count": 250,
     "metadata": {},
     "output_type": "execute_result"
    }
   ],
   "source": [
    "decode_colors(bind(toy_data_emb, emojis_hdvs['🚒']))"
   ]
  },
  {
   "cell_type": "code",
   "execution_count": 251,
   "metadata": {},
   "outputs": [
    {
     "data": {
      "image/png": "[encoded data removed]",
      "text/plain": [
       "<Figure size 100x100 with 1 Axes>"
      ]
     },
     "metadata": {},
     "output_type": "display_data"
    },
    {
     "data": {
      "text/plain": [
       "array([0.37737051, 0.62840933, 0.76141466])"
      ]
     },
     "execution_count": 251,
     "metadata": {},
     "output_type": "execute_result"
    }
   ],
   "source": [
    "decode_colors(bind(toy_data_emb, emojis_hdvs['💦']))"
   ]
  },
  {
   "cell_type": "code",
   "execution_count": 252,
   "metadata": {},
   "outputs": [
    {
     "data": {
      "image/png": "[encoded data removed]",
      "text/plain": [
       "<Figure size 100x100 with 1 Axes>"
      ]
     },
     "metadata": {},
     "output_type": "display_data"
    },
    {
     "data": {
      "text/plain": [
       "array([0.43842696, 0.64740735, 0.43413663])"
      ]
     },
     "execution_count": 252,
     "metadata": {},
     "output_type": "execute_result"
    }
   ],
   "source": [
    "decode_colors(bind(toy_data_emb, emojis_hdvs['🌱']))"
   ]
  },
  {
   "cell_type": "code",
   "execution_count": 253,
   "metadata": {},
   "outputs": [
    {
     "data": {
      "image/png": "[encoded data removed]",
      "text/plain": [
       "<Figure size 100x100 with 1 Axes>"
      ]
     },
     "metadata": {},
     "output_type": "display_data"
    },
    {
     "data": {
      "text/plain": [
       "array([0.9832006 , 0.94433836, 0.56626035])"
      ]
     },
     "execution_count": 253,
     "metadata": {},
     "output_type": "execute_result"
    }
   ],
   "source": [
    "decode_colors(bind(toy_data_emb, emojis_hdvs['🍌']))"
   ]
  },
  {
   "cell_type": "markdown",
   "metadata": {},
   "source": [
    "## Example 1.1: color matching with noise"
   ]
  },
  {
   "cell_type": "markdown",
   "metadata": {},
   "source": [
    "### Data required for this example"
   ]
  },
  {
   "cell_type": "code",
   "execution_count": 254,
   "metadata": {},
   "outputs": [],
   "source": [
    "toy_data2 = [\n",
    "    (\n",
    "        emoji := random.choice(emojis),\n",
    "        random.sample(\n",
    "            [\n",
    "                random.choice(emojis_colors[emoji]),\n",
    "                randcol(),\n",
    "                randcol()\n",
    "            ],\n",
    "            3\n",
    "        )\n",
    "    )\n",
    "    for _ in range(500)\n",
    "]"
   ]
  },
  {
   "cell_type": "code",
   "execution_count": 255,
   "metadata": {},
   "outputs": [],
   "source": [
    "def encode_shape_col_pair2(s, colors):\n",
    "    return bind(emojis_hdvs[s], bundle(*map(encode_col, colors)))"
   ]
  },
  {
   "cell_type": "code",
   "execution_count": 256,
   "metadata": {},
   "outputs": [],
   "source": [
    "toy_data_emb2 = bundle(*[encode_shape_col_pair2(s, colors) for s, colors in toy_data2])"
   ]
  },
  {
   "cell_type": "code",
   "execution_count": 257,
   "metadata": {},
   "outputs": [
    {
     "data": {
      "image/png": "[encoded data removed]",
      "text/plain": [
       "<Figure size 100x100 with 1 Axes>"
      ]
     },
     "metadata": {},
     "output_type": "display_data"
    },
    {
     "data": {
      "text/plain": [
       "array([0.74959099, 0.19696187, 0.30790183])"
      ]
     },
     "execution_count": 257,
     "metadata": {},
     "output_type": "execute_result"
    }
   ],
   "source": [
    "decode_colors(bind(toy_data_emb2, emojis_hdvs['🚒']))"
   ]
  },
  {
   "cell_type": "code",
   "execution_count": 258,
   "metadata": {},
   "outputs": [
    {
     "data": {
      "image/png": "[encoded data removed]",
      "text/plain": [
       "<Figure size 100x100 with 1 Axes>"
      ]
     },
     "metadata": {},
     "output_type": "display_data"
    },
    {
     "data": {
      "text/plain": [
       "array([0.24392503, 0.55558335, 0.65898669])"
      ]
     },
     "execution_count": 258,
     "metadata": {},
     "output_type": "execute_result"
    }
   ],
   "source": [
    "decode_colors(bind(toy_data_emb2, emojis_hdvs['💦']))"
   ]
  },
  {
   "cell_type": "code",
   "execution_count": 259,
   "metadata": {},
   "outputs": [
    {
     "data": {
      "image/png": "[encoded data removed]",
      "text/plain": [
       "<Figure size 100x100 with 1 Axes>"
      ]
     },
     "metadata": {},
     "output_type": "display_data"
    },
    {
     "data": {
      "text/plain": [
       "array([0.30024943, 0.5493631 , 0.29173574])"
      ]
     },
     "execution_count": 259,
     "metadata": {},
     "output_type": "execute_result"
    }
   ],
   "source": [
    "decode_colors(bind(toy_data_emb2, emojis_hdvs['🌱']))"
   ]
  },
  {
   "cell_type": "code",
   "execution_count": 260,
   "metadata": {},
   "outputs": [
    {
     "data": {
      "image/png": "[encoded data removed]",
      "text/plain": [
       "<Figure size 100x100 with 1 Axes>"
      ]
     },
     "metadata": {},
     "output_type": "display_data"
    },
    {
     "data": {
      "text/plain": [
       "array([0.99854251, 0.93500346, 0.27152999])"
      ]
     },
     "execution_count": 260,
     "metadata": {},
     "output_type": "execute_result"
    }
   ],
   "source": [
    "decode_colors(bind(toy_data_emb2, emojis_hdvs['🍌']))"
   ]
  },
  {
   "cell_type": "markdown",
   "metadata": {},
   "source": [
    "## Example 2: Recipes"
   ]
  },
  {
   "cell_type": "markdown",
   "metadata": {},
   "source": []
  }
 ],
 "metadata": {
  "kernelspec": {
   "display_name": "python-hdc-tuto-tLCywu7v-py3.12",
   "language": "python",
   "name": "python3"
  },
  "language_info": {
   "codemirror_mode": {
    "name": "ipython",
    "version": 3
   },
   "file_extension": ".py",
   "mimetype": "text/x-python",
   "name": "python",
   "nbconvert_exporter": "python",
   "pygments_lexer": "ipython3",
   "version": "3.12.8"
  }
 },
 "nbformat": 4,
 "nbformat_minor": 2
}
